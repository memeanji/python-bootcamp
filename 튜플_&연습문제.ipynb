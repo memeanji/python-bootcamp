{
  "nbformat": 4,
  "nbformat_minor": 0,
  "metadata": {
    "colab": {
      "provenance": [],
      "include_colab_link": true
    },
    "kernelspec": {
      "name": "python3",
      "display_name": "Python 3"
    },
    "language_info": {
      "name": "python"
    }
  },
  "cells": [
    {
      "cell_type": "markdown",
      "metadata": {
        "id": "view-in-github",
        "colab_type": "text"
      },
      "source": [
        "<a href=\"https://colab.research.google.com/github/memeanji/python-bootcamp/blob/main/%ED%8A%9C%ED%94%8C_%26%EC%97%B0%EC%8A%B5%EB%AC%B8%EC%A0%9C.ipynb\" target=\"_parent\"><img src=\"https://colab.research.google.com/assets/colab-badge.svg\" alt=\"Open In Colab\"/></a>"
      ]
    },
    {
      "cell_type": "markdown",
      "source": [
        "# **튜플**\n",
        "\n",
        "\n",
        "---"
      ],
      "metadata": {
        "id": "ne7LZXGZytfm"
      }
    },
    {
      "cell_type": "markdown",
      "source": [
        "## **[1] 튜플이란?**\n",
        "- 리스트와 비슷하게 여러 요소들을 묶을 수 있습니다.\n",
        "- 다만 튜플의 요소는 수정이나 삭제가 불가능합니다.\n",
        "- 프로그램 실행 중 절대 변하지 않거나 변해서는 안되는 값들이 있다면 튜플로 저장하는 것이 좋습니다.\n",
        "- 요소들을 괄호(`()`)로 감싸주면 튜플이 됩니다."
      ],
      "metadata": {
        "id": "iWvpKNJLzQSx"
      }
    },
    {
      "cell_type": "code",
      "execution_count": 1,
      "metadata": {
        "id": "mBSJSryRyqBD",
        "colab": {
          "base_uri": "https://localhost:8080/"
        },
        "outputId": "b41b4a94-0c45-43a1-d7d6-1884bac51a7b"
      },
      "outputs": [
        {
          "output_type": "stream",
          "name": "stdout",
          "text": [
            "(1, 2, 3, 4, 5) <class 'tuple'>\n",
            "('life', 'is', 'too', 'short') <class 'tuple'>\n",
            "(1, 2, 'life', 'is') <class 'tuple'>\n",
            "(1, 2, ['life', 'is', ('too', 'short')]) <class 'tuple'>\n"
          ]
        }
      ],
      "source": [
        "a = (1,2,3,4,5)\n",
        "b = ('life','is','too','short')\n",
        "c = (1,2,'life','is')\n",
        "d = (1,2,['life','is',('too','short')])\n",
        "\n",
        "print(a, type(a))\n",
        "print(b, type(b))\n",
        "print(c, type(c))\n",
        "print(d, type(d))"
      ]
    },
    {
      "cell_type": "markdown",
      "source": [
        "- 요소가 하나일 경우는 ,를 뒤에 붙여주어야 합니다."
      ],
      "metadata": {
        "id": "HQI1pgCIDgYo"
      }
    },
    {
      "cell_type": "code",
      "source": [
        "x = (3)"
      ],
      "metadata": {
        "id": "5E7ANOrqDjkC"
      },
      "execution_count": 2,
      "outputs": []
    },
    {
      "cell_type": "code",
      "source": [
        "type(x) #요소가 하나일 경우 int로 인식하기 대문에"
      ],
      "metadata": {
        "id": "7STt3HoiDl87",
        "colab": {
          "base_uri": "https://localhost:8080/"
        },
        "outputId": "851c1409-ee00-4cd3-ec3e-a13c7282d005"
      },
      "execution_count": 3,
      "outputs": [
        {
          "output_type": "execute_result",
          "data": {
            "text/plain": [
              "int"
            ]
          },
          "metadata": {},
          "execution_count": 3
        }
      ]
    },
    {
      "cell_type": "code",
      "source": [
        "x = (3,) # 요소가 하나일 경우는 ,를 뒤에 붙여주어야 합니다."
      ],
      "metadata": {
        "id": "WNY9uNJ7DnuW"
      },
      "execution_count": 4,
      "outputs": []
    },
    {
      "cell_type": "code",
      "source": [
        "type(x)"
      ],
      "metadata": {
        "id": "Py8f6JSQDntt",
        "colab": {
          "base_uri": "https://localhost:8080/"
        },
        "outputId": "3395f53d-373c-414a-c490-94dd89214b10"
      },
      "execution_count": 6,
      "outputs": [
        {
          "output_type": "execute_result",
          "data": {
            "text/plain": [
              "tuple"
            ]
          },
          "metadata": {},
          "execution_count": 6
        }
      ]
    },
    {
      "cell_type": "markdown",
      "source": [
        "## **[2] 인덱싱**\n",
        "- 리스트와 마찬가지로 인덱싱을 적용할 수 있습니다."
      ],
      "metadata": {
        "id": "uNpt1PQeRe3y"
      }
    },
    {
      "cell_type": "code",
      "source": [
        "a"
      ],
      "metadata": {
        "id": "j00Nc4Pi2mWW",
        "colab": {
          "base_uri": "https://localhost:8080/"
        },
        "outputId": "22424253-28e9-40b7-f4df-98c16e7e5034"
      },
      "execution_count": 7,
      "outputs": [
        {
          "output_type": "execute_result",
          "data": {
            "text/plain": [
              "(1, 2, 3, 4, 5)"
            ]
          },
          "metadata": {},
          "execution_count": 7
        }
      ]
    },
    {
      "cell_type": "code",
      "source": [
        "print(a[0])\n",
        "print(a[0]+a[4])\n",
        "print(a[3:])\n",
        "print(a[1:-1])"
      ],
      "metadata": {
        "id": "3dd1rB4DQjs1",
        "colab": {
          "base_uri": "https://localhost:8080/"
        },
        "outputId": "fc158c96-b040-4478-ea4a-4a31f2f8dcc2"
      },
      "execution_count": 8,
      "outputs": [
        {
          "output_type": "stream",
          "name": "stdout",
          "text": [
            "1\n",
            "6\n",
            "(4, 5)\n",
            "(2, 3, 4)\n"
          ]
        }
      ]
    },
    {
      "cell_type": "code",
      "source": [
        "d"
      ],
      "metadata": {
        "id": "wxky6nze2yoU",
        "colab": {
          "base_uri": "https://localhost:8080/"
        },
        "outputId": "fd3f2ed1-c656-4bed-e80d-bef2766fee03"
      },
      "execution_count": 9,
      "outputs": [
        {
          "output_type": "execute_result",
          "data": {
            "text/plain": [
              "(1, 2, ['life', 'is', ('too', 'short')])"
            ]
          },
          "metadata": {},
          "execution_count": 9
        }
      ]
    },
    {
      "cell_type": "code",
      "source": [
        "print(d[2])\n",
        "print(d[2][2])\n",
        "print(d[-1][2:])\n",
        "print(d[-1][-1][-1])"
      ],
      "metadata": {
        "id": "5dsh5B3_R0Ki",
        "colab": {
          "base_uri": "https://localhost:8080/"
        },
        "outputId": "ec4b9c1f-c392-49b8-9f3b-6518e769b170"
      },
      "execution_count": 10,
      "outputs": [
        {
          "output_type": "stream",
          "name": "stdout",
          "text": [
            "['life', 'is', ('too', 'short')]\n",
            "('too', 'short')\n",
            "[('too', 'short')]\n",
            "short\n"
          ]
        }
      ]
    },
    {
      "cell_type": "markdown",
      "source": [
        "## **[3] 튜플 연산**\n",
        "- 리스트와 마찬가지로 더하기와 곱하기를 할 수 있습니다."
      ],
      "metadata": {
        "id": "2VyFbkahSnFE"
      }
    },
    {
      "cell_type": "code",
      "source": [
        "a = (1,2,3)\n",
        "b = (4,5,6)\n",
        "a + b"
      ],
      "metadata": {
        "id": "AzpsduoER2AK",
        "colab": {
          "base_uri": "https://localhost:8080/"
        },
        "outputId": "ad9a7498-5f72-4361-aed6-5497c452174b"
      },
      "execution_count": 11,
      "outputs": [
        {
          "output_type": "execute_result",
          "data": {
            "text/plain": [
              "(1, 2, 3, 4, 5, 6)"
            ]
          },
          "metadata": {},
          "execution_count": 11
        }
      ]
    },
    {
      "cell_type": "code",
      "source": [
        "a * 3"
      ],
      "metadata": {
        "id": "rM6ZJtopTCw9",
        "colab": {
          "base_uri": "https://localhost:8080/"
        },
        "outputId": "4a5207d7-14b7-4e35-e9ea-32de98d1923b"
      },
      "execution_count": 12,
      "outputs": [
        {
          "output_type": "execute_result",
          "data": {
            "text/plain": [
              "(1, 2, 3, 1, 2, 3, 1, 2, 3)"
            ]
          },
          "metadata": {},
          "execution_count": 12
        }
      ]
    },
    {
      "cell_type": "markdown",
      "source": [
        "- 튜플에 다른 자료형을 더하면 오류가 납니다."
      ],
      "metadata": {
        "id": "KKk2ViOkTx5S"
      }
    },
    {
      "cell_type": "code",
      "source": [
        "a + 4 #튜플에 다른 자료형을 더한거라 오류난거"
      ],
      "metadata": {
        "id": "TwVW_vzgTDTw",
        "colab": {
          "base_uri": "https://localhost:8080/",
          "height": 141
        },
        "outputId": "7f74a791-a0ae-4ac8-b2e2-1511c41db17e"
      },
      "execution_count": 13,
      "outputs": [
        {
          "output_type": "error",
          "ename": "TypeError",
          "evalue": "can only concatenate tuple (not \"int\") to tuple",
          "traceback": [
            "\u001b[0;31m---------------------------------------------------------------------------\u001b[0m",
            "\u001b[0;31mTypeError\u001b[0m                                 Traceback (most recent call last)",
            "\u001b[0;32m<ipython-input-13-3048ccb5d3e6>\u001b[0m in \u001b[0;36m<cell line: 0>\u001b[0;34m()\u001b[0m\n\u001b[0;32m----> 1\u001b[0;31m \u001b[0ma\u001b[0m \u001b[0;34m+\u001b[0m \u001b[0;36m4\u001b[0m \u001b[0;31m#튜플에 다른 자료형을 더하면 오류가 납니다.\u001b[0m\u001b[0;34m\u001b[0m\u001b[0;34m\u001b[0m\u001b[0m\n\u001b[0m",
            "\u001b[0;31mTypeError\u001b[0m: can only concatenate tuple (not \"int\") to tuple"
          ]
        }
      ]
    },
    {
      "cell_type": "code",
      "source": [
        "a + [4] #튜플끼리 concat 할 수 있음"
      ],
      "metadata": {
        "id": "rcenxDDMT21J",
        "colab": {
          "base_uri": "https://localhost:8080/",
          "height": 141
        },
        "outputId": "a5905e07-b551-4a9a-f35d-c3cfb7233830"
      },
      "execution_count": 14,
      "outputs": [
        {
          "output_type": "error",
          "ename": "TypeError",
          "evalue": "can only concatenate tuple (not \"list\") to tuple",
          "traceback": [
            "\u001b[0;31m---------------------------------------------------------------------------\u001b[0m",
            "\u001b[0;31mTypeError\u001b[0m                                 Traceback (most recent call last)",
            "\u001b[0;32m<ipython-input-14-002c19f21310>\u001b[0m in \u001b[0;36m<cell line: 0>\u001b[0;34m()\u001b[0m\n\u001b[0;32m----> 1\u001b[0;31m \u001b[0ma\u001b[0m \u001b[0;34m+\u001b[0m \u001b[0;34m[\u001b[0m\u001b[0;36m4\u001b[0m\u001b[0;34m]\u001b[0m\u001b[0;34m\u001b[0m\u001b[0;34m\u001b[0m\u001b[0m\n\u001b[0m",
            "\u001b[0;31mTypeError\u001b[0m: can only concatenate tuple (not \"list\") to tuple"
          ]
        }
      ]
    },
    {
      "cell_type": "code",
      "source": [
        "a + (3) #요소 하나는 int로 인식함"
      ],
      "metadata": {
        "id": "rr6RmZw8Da2L",
        "colab": {
          "base_uri": "https://localhost:8080/",
          "height": 141
        },
        "outputId": "f54f4cec-1e14-423b-a111-9fc9ae049198"
      },
      "execution_count": 15,
      "outputs": [
        {
          "output_type": "error",
          "ename": "TypeError",
          "evalue": "can only concatenate tuple (not \"int\") to tuple",
          "traceback": [
            "\u001b[0;31m---------------------------------------------------------------------------\u001b[0m",
            "\u001b[0;31mTypeError\u001b[0m                                 Traceback (most recent call last)",
            "\u001b[0;32m<ipython-input-15-fd1b5469994f>\u001b[0m in \u001b[0;36m<cell line: 0>\u001b[0;34m()\u001b[0m\n\u001b[0;32m----> 1\u001b[0;31m \u001b[0ma\u001b[0m \u001b[0;34m+\u001b[0m \u001b[0;34m(\u001b[0m\u001b[0;36m3\u001b[0m\u001b[0;34m)\u001b[0m\u001b[0;34m\u001b[0m\u001b[0;34m\u001b[0m\u001b[0m\n\u001b[0m",
            "\u001b[0;31mTypeError\u001b[0m: can only concatenate tuple (not \"int\") to tuple"
          ]
        }
      ]
    },
    {
      "cell_type": "code",
      "source": [
        "a + (3,) # 이렇게 요소 한개 뒤에 콤마 해야 tuple로 바껴서 들어감"
      ],
      "metadata": {
        "id": "on3q3fqgDcQ5",
        "colab": {
          "base_uri": "https://localhost:8080/"
        },
        "outputId": "673f6b5d-332d-4b8b-8d1f-8b26e077427e"
      },
      "execution_count": 16,
      "outputs": [
        {
          "output_type": "execute_result",
          "data": {
            "text/plain": [
              "(1, 2, 3, 3)"
            ]
          },
          "metadata": {},
          "execution_count": 16
        }
      ]
    },
    {
      "cell_type": "markdown",
      "source": [
        "## **[4] 튜플 값 치환?**\n",
        "- 튜플의 요소는 수정하거나 삭제할 수 없으므로 불가능합니다."
      ],
      "metadata": {
        "id": "QymQHXl-ECi1"
      }
    },
    {
      "cell_type": "code",
      "source": [
        "a = [1,2,3,4,5]\n",
        "a[0] = 0 #리스트의 경우\n",
        "print(a)"
      ],
      "metadata": {
        "id": "7G6RwO_JDsKX",
        "colab": {
          "base_uri": "https://localhost:8080/"
        },
        "outputId": "cebdb72f-d346-4b9e-88cd-fd2e3830c2bb"
      },
      "execution_count": 17,
      "outputs": [
        {
          "output_type": "stream",
          "name": "stdout",
          "text": [
            "[0, 2, 3, 4, 5]\n"
          ]
        }
      ]
    },
    {
      "cell_type": "code",
      "source": [
        "a = (1,2,3,4,5)\n",
        "a[0] = 0 #튜플의 경우 치환이 안됨\n",
        "print(a)"
      ],
      "metadata": {
        "id": "JkCCv_DBENG6",
        "colab": {
          "base_uri": "https://localhost:8080/",
          "height": 176
        },
        "outputId": "d32b1662-509b-4b9e-ba4a-bc4518e011f0"
      },
      "execution_count": 18,
      "outputs": [
        {
          "output_type": "error",
          "ename": "TypeError",
          "evalue": "'tuple' object does not support item assignment",
          "traceback": [
            "\u001b[0;31m---------------------------------------------------------------------------\u001b[0m",
            "\u001b[0;31mTypeError\u001b[0m                                 Traceback (most recent call last)",
            "\u001b[0;32m<ipython-input-18-812b88d33990>\u001b[0m in \u001b[0;36m<cell line: 0>\u001b[0;34m()\u001b[0m\n\u001b[1;32m      1\u001b[0m \u001b[0ma\u001b[0m \u001b[0;34m=\u001b[0m \u001b[0;34m(\u001b[0m\u001b[0;36m1\u001b[0m\u001b[0;34m,\u001b[0m\u001b[0;36m2\u001b[0m\u001b[0;34m,\u001b[0m\u001b[0;36m3\u001b[0m\u001b[0;34m,\u001b[0m\u001b[0;36m4\u001b[0m\u001b[0;34m,\u001b[0m\u001b[0;36m5\u001b[0m\u001b[0;34m)\u001b[0m\u001b[0;34m\u001b[0m\u001b[0;34m\u001b[0m\u001b[0m\n\u001b[0;32m----> 2\u001b[0;31m \u001b[0ma\u001b[0m\u001b[0;34m[\u001b[0m\u001b[0;36m0\u001b[0m\u001b[0;34m]\u001b[0m \u001b[0;34m=\u001b[0m \u001b[0;36m0\u001b[0m\u001b[0;34m\u001b[0m\u001b[0;34m\u001b[0m\u001b[0m\n\u001b[0m\u001b[1;32m      3\u001b[0m \u001b[0mprint\u001b[0m\u001b[0;34m(\u001b[0m\u001b[0ma\u001b[0m\u001b[0;34m)\u001b[0m\u001b[0;34m\u001b[0m\u001b[0;34m\u001b[0m\u001b[0m\n",
            "\u001b[0;31mTypeError\u001b[0m: 'tuple' object does not support item assignment"
          ]
        }
      ]
    },
    {
      "cell_type": "markdown",
      "source": [
        "- 따라서 리스트에서 사용하는 아래 함수들은 사용할 수 없습니다.\n",
        " - `append, insert, extend, remove, pop, sort, ...`"
      ],
      "metadata": {
        "id": "q5fBsSAZE6Sv"
      }
    },
    {
      "cell_type": "code",
      "source": [
        "a.append('a') # tuple은 append 사용불가"
      ],
      "metadata": {
        "id": "2uStfEIQEPM9",
        "colab": {
          "base_uri": "https://localhost:8080/",
          "height": 141
        },
        "outputId": "9481b005-0743-43cc-d274-4ebf76f0b3c1"
      },
      "execution_count": 19,
      "outputs": [
        {
          "output_type": "error",
          "ename": "AttributeError",
          "evalue": "'tuple' object has no attribute 'append'",
          "traceback": [
            "\u001b[0;31m---------------------------------------------------------------------------\u001b[0m",
            "\u001b[0;31mAttributeError\u001b[0m                            Traceback (most recent call last)",
            "\u001b[0;32m<ipython-input-19-c7a9da4bebc6>\u001b[0m in \u001b[0;36m<cell line: 0>\u001b[0;34m()\u001b[0m\n\u001b[0;32m----> 1\u001b[0;31m \u001b[0ma\u001b[0m\u001b[0;34m.\u001b[0m\u001b[0mappend\u001b[0m\u001b[0;34m(\u001b[0m\u001b[0;34m'a'\u001b[0m\u001b[0;34m)\u001b[0m\u001b[0;34m\u001b[0m\u001b[0;34m\u001b[0m\u001b[0m\n\u001b[0m",
            "\u001b[0;31mAttributeError\u001b[0m: 'tuple' object has no attribute 'append'"
          ]
        }
      ]
    },
    {
      "cell_type": "code",
      "source": [
        "a.sort()"
      ],
      "metadata": {
        "id": "t0pWuoCoFPqC"
      },
      "execution_count": null,
      "outputs": []
    },
    {
      "cell_type": "markdown",
      "source": [
        "- 다만 sorted는 튜플을 리스트로 변환하여 정렬해 출력합니다."
      ],
      "metadata": {
        "id": "KqUhf9o5FW9Q"
      }
    },
    {
      "cell_type": "code",
      "source": [
        "sorted(a) # sorted쓰면 튜플도 정렬이 가능함. 다만 ! 리스트로 바꿔서 출력해줌"
      ],
      "metadata": {
        "id": "ErU6M2h3FNyM",
        "colab": {
          "base_uri": "https://localhost:8080/"
        },
        "outputId": "2a31a0d8-26cb-418b-ca50-a14a55c57a49"
      },
      "execution_count": 20,
      "outputs": [
        {
          "output_type": "execute_result",
          "data": {
            "text/plain": [
              "[1, 2, 3, 4, 5]"
            ]
          },
          "metadata": {},
          "execution_count": 20
        }
      ]
    },
    {
      "cell_type": "code",
      "source": [
        "tuple(sorted(a)) # 튜플로 출력하고 싶으면 tuple로 감싸주기"
      ],
      "metadata": {
        "colab": {
          "base_uri": "https://localhost:8080/"
        },
        "id": "qQ5lSev1UYYg",
        "outputId": "9f907b5c-397c-49b6-875a-d01f8eed75ab"
      },
      "execution_count": 21,
      "outputs": [
        {
          "output_type": "execute_result",
          "data": {
            "text/plain": [
              "(1, 2, 3, 4, 5)"
            ]
          },
          "metadata": {},
          "execution_count": 21
        }
      ]
    },
    {
      "cell_type": "markdown",
      "source": [
        "## **[5] 튜플 함수**\n",
        "- `len`: 튜플의 길이를 구합니다.\n",
        "- `sum, min, max`: 튜플의 요소들의 합, 최솟값, 최댓값을 구합니다.\n",
        "- `in`: 특정 요소가 튜플 안에 있는지 확인합니다.\n",
        "- `count`: 튜플의 특정 요소의 개수를 반환합니다.\n",
        "- `index`: 튜플에 요소가 있는 경우 인덱스 값을 반환합니다.\n",
        "- `join`: 튜플의 요소들을 하나의 문자열로 합칩니다."
      ],
      "metadata": {
        "id": "EvGDpZ_-FeLe"
      }
    },
    {
      "cell_type": "code",
      "source": [
        "a = (1,2,2,4,5)\n",
        "print(len(a))\n",
        "print(sum(a))\n",
        "print(min(a))\n",
        "print(max(a))\n",
        "print(1 in a) # 튜플에 1이라는 요소가 잇는지\n",
        "print(a.count(2))\n",
        "print(a.index(2))"
      ],
      "metadata": {
        "id": "CydJq5TzFSnB"
      },
      "execution_count": null,
      "outputs": []
    },
    {
      "cell_type": "code",
      "source": [
        "ls = ('a','b','c','d','e')  #튜플은 튜플함수 자체를 바꾸는 함수는 적용불가!\n",
        "' '.join(ls)"
      ],
      "metadata": {
        "id": "Y8fXwGfwHNTd",
        "colab": {
          "base_uri": "https://localhost:8080/",
          "height": 35
        },
        "outputId": "a02bc25c-00d7-4394-f4cd-9dec86911aed"
      },
      "execution_count": 22,
      "outputs": [
        {
          "output_type": "execute_result",
          "data": {
            "text/plain": [
              "'a b c d e'"
            ],
            "application/vnd.google.colaboratory.intrinsic+json": {
              "type": "string"
            }
          },
          "metadata": {},
          "execution_count": 22
        }
      ]
    },
    {
      "cell_type": "markdown",
      "source": [
        "## **[6] 튜플 함수 심화**\n",
        "- `max(튜플, key = lambda x:x[인덱스])` : 다중 튜플의 경우 정렬 기준을 정의하여 튜플 내 최댓값을 탐색함\n",
        "- `min(튜플, key = lambda x:x[인덱스])` : 다중 튜플의 경우 정렬 기준을 정의하여 튜플 내 최솟값을 탐색함"
      ],
      "metadata": {
        "id": "gENUJS2GMWEA"
      }
    },
    {
      "cell_type": "code",
      "source": [
        "a = (('a', 1), ('b',7), ('c', 3), ('d', -5), ('e', -9))\n",
        "print(max(a, key = lambda x:x[0]))\n",
        "# a라는 튜플안에서 max인 요소를 가지고 올건데, 판별 기준이 내가 들어온 요소의 첫번째 기준[0]으로 max값을 구해줘\n",
        "# 즉 첫번째 값이 a니까 문자가지고 구하니까 max 가 -9거 포함된 'e' 가 출력된거임\n",
        "print(max(a, key = lambda x:x[1]))\n",
        "# a라는 튜플안에서 max값을 구할건데, 판별 기준이 두번째 기준으로 [1] max값을 구해줘\n",
        "# 그래서 숫자중에 max 값인 b가 포함된 7이 나온거임\n",
        "#<->\n",
        "print(min(a, key = lambda x:x[0]))\n",
        "# a라는 튜플안에서 min인 요소를 문자기준으로 들고올건데 그게 1이 포함된 a 인거고\n",
        "print(min(a, key = lambda x:x[1]))\n",
        "# a라는 튜플안에서 min인 요소를 숫자기준으로 들고올건데 그게 e가 포함된 -9인거임"
      ],
      "metadata": {
        "id": "QM9ugCjiHQSx",
        "colab": {
          "base_uri": "https://localhost:8080/"
        },
        "outputId": "970359d4-a51c-4fb4-9376-4eca189249aa"
      },
      "execution_count": 23,
      "outputs": [
        {
          "output_type": "stream",
          "name": "stdout",
          "text": [
            "('e', -9)\n",
            "('b', 7)\n",
            "('a', 1)\n",
            "('e', -9)\n"
          ]
        }
      ]
    },
    {
      "cell_type": "markdown",
      "source": [
        "- 두번째 요소의 절댓값을 기준으로 최댓값/최솟값을 탐색하고 싶다면?"
      ],
      "metadata": {
        "id": "45ADrAtWU_Kv"
      }
    },
    {
      "cell_type": "code",
      "source": [
        "print(max(a, key = lambda x:abs(x[1]))) #absolute읭 줄임말인 abs 는 절댓값을 기준으로 데리고 오는거임\n",
        "print(min(a, key = lambda x:abs(x[1])))"
      ],
      "metadata": {
        "id": "yiUAgsRvU1md",
        "colab": {
          "base_uri": "https://localhost:8080/"
        },
        "outputId": "b173ac94-a859-46b2-850d-4a2b1bc316b3"
      },
      "execution_count": 24,
      "outputs": [
        {
          "output_type": "stream",
          "name": "stdout",
          "text": [
            "('e', -9)\n",
            "('a', 1)\n"
          ]
        }
      ]
    },
    {
      "cell_type": "markdown",
      "source": [
        "- 리스트에도 비슷하게 적용할 수 있습니다."
      ],
      "metadata": {
        "id": "HvPY1fXPVZwI"
      }
    },
    {
      "cell_type": "code",
      "source": [
        "b = list(a)\n",
        "b"
      ],
      "metadata": {
        "id": "odfg7gy_VPhK",
        "colab": {
          "base_uri": "https://localhost:8080/"
        },
        "outputId": "77ebeb11-db8d-421d-c458-762ee7f06b44"
      },
      "execution_count": 25,
      "outputs": [
        {
          "output_type": "execute_result",
          "data": {
            "text/plain": [
              "[('a', 1), ('b', 7), ('c', 3), ('d', -5), ('e', -9)]"
            ]
          },
          "metadata": {},
          "execution_count": 25
        }
      ]
    },
    {
      "cell_type": "code",
      "source": [
        "#리스트에서도 sorted라는 함수에 리스트를 넣고\n",
        "print(sorted(b, key = lambda x:x[1]))\n",
        "# 숫자로 정렬\n",
        "print(sorted(b, key = lambda x:x[1], reverse=True))\n",
        "# reverse = True 내림차순 이고\n",
        "print(sorted(b, key = lambda x:abs(x[1])))\n",
        "#절댓값이 작은 순서대로\n",
        "#전부 숫자기준으로 정렬"
      ],
      "metadata": {
        "id": "pEiyqhDkVqSP",
        "colab": {
          "base_uri": "https://localhost:8080/"
        },
        "outputId": "5798db86-60e1-4218-8be3-b8af6c91d174"
      },
      "execution_count": 26,
      "outputs": [
        {
          "output_type": "stream",
          "name": "stdout",
          "text": [
            "[('e', -9), ('d', -5), ('a', 1), ('c', 3), ('b', 7)]\n",
            "[('b', 7), ('c', 3), ('a', 1), ('d', -5), ('e', -9)]\n",
            "[('a', 1), ('c', 3), ('d', -5), ('b', 7), ('e', -9)]\n"
          ]
        }
      ]
    },
    {
      "cell_type": "markdown",
      "source": [
        "## **[7] 연습문제**"
      ],
      "metadata": {
        "id": "GsttbbPxWx52"
      }
    },
    {
      "cell_type": "markdown",
      "source": [
        "## 1. 다음 튜플을 내림차순으로 정렬하여 튜플의 형태로 저장해보세요."
      ],
      "metadata": {
        "id": "nBUm3AnUX7OB"
      }
    },
    {
      "cell_type": "code",
      "source": [
        "tup = (1,2,3,4,5)"
      ],
      "metadata": {
        "id": "gfcs2kL2W1IE"
      },
      "execution_count": 28,
      "outputs": []
    },
    {
      "cell_type": "code",
      "source": [
        "list(tup)\n",
        "Tup=print(sorted(tup,key=lambda x:x,reverse=True))"
      ],
      "metadata": {
        "id": "vtJl8GCU5qHH",
        "colab": {
          "base_uri": "https://localhost:8080/"
        },
        "outputId": "a884ad92-6625-4729-8297-c284de3147f4"
      },
      "execution_count": 35,
      "outputs": [
        {
          "output_type": "stream",
          "name": "stdout",
          "text": [
            "[5, 4, 3, 2, 1]\n"
          ]
        }
      ]
    },
    {
      "cell_type": "code",
      "source": [
        "#강사님\n",
        "tup1 = tuple(sorted(tup,reverse=True))\n",
        "# sorted함수를 써서 reverse True 쓰면 내림차순으로 쓸 수 있는데 이렇게 하면 list형태로 되니가 마지막에 tuple로 묶어주면 됨"
      ],
      "metadata": {
        "id": "zkWQifGoanim"
      },
      "execution_count": 47,
      "outputs": []
    },
    {
      "cell_type": "markdown",
      "source": [
        "## 2. 1부터 100까지의 정수 중 짝수만 저장된 튜플을 만들어보세요."
      ],
      "metadata": {
        "id": "V_yEkLmTY1lF"
      }
    },
    {
      "cell_type": "code",
      "source": [
        "h = list[0:101]"
      ],
      "metadata": {
        "id": "adxvWVdj505q"
      },
      "execution_count": 40,
      "outputs": []
    },
    {
      "cell_type": "code",
      "source": [
        "#강사님\n",
        "(1,101)"
      ],
      "metadata": {
        "id": "wjA4hJfE5072",
        "colab": {
          "base_uri": "https://localhost:8080/"
        },
        "outputId": "a6d89f1d-8051-4fc8-dd3e-f3446f03f295"
      },
      "execution_count": 48,
      "outputs": [
        {
          "output_type": "execute_result",
          "data": {
            "text/plain": [
              "(1, 101)"
            ]
          },
          "metadata": {},
          "execution_count": 48
        }
      ]
    },
    {
      "cell_type": "code",
      "source": [
        "#list(range(1,101))\n",
        "tuple(range(1,101))\n",
        "t=tuple(range(2,101,2))\n",
        "print(t)"
      ],
      "metadata": {
        "id": "Ywd52zrA509m",
        "colab": {
          "base_uri": "https://localhost:8080/"
        },
        "outputId": "4c48b99d-f79c-4a04-a210-6a505697d5a4"
      },
      "execution_count": 54,
      "outputs": [
        {
          "output_type": "stream",
          "name": "stdout",
          "text": [
            "(2, 4, 6, 8, 10, 12, 14, 16, 18, 20, 22, 24, 26, 28, 30, 32, 34, 36, 38, 40, 42, 44, 46, 48, 50, 52, 54, 56, 58, 60, 62, 64, 66, 68, 70, 72, 74, 76, 78, 80, 82, 84, 86, 88, 90, 92, 94, 96, 98, 100)\n"
          ]
        }
      ]
    },
    {
      "cell_type": "code",
      "source": [],
      "metadata": {
        "id": "uSgSKeoC50_8"
      },
      "execution_count": null,
      "outputs": []
    },
    {
      "cell_type": "markdown",
      "source": [
        "## 3. 다음 리스트를 각 요소의 2번째 리스트의 평균 값을 기준으로 내림차순 정렬하여 출력해보세요."
      ],
      "metadata": {
        "id": "5pMWUAttZTPd"
      }
    },
    {
      "cell_type": "code",
      "source": [
        "tt = [('a', [1,10,2,2]), ('b', [5,2,19,2]), ('c', [8,11,91,1]), ('d', [10,56,23,6]), ('e', [38,19,47,2])]"
      ],
      "metadata": {
        "id": "R7_j8wBXZMsP"
      },
      "execution_count": 56,
      "outputs": []
    },
    {
      "cell_type": "code",
      "source": [
        "print(sorted(tt,key=lambda x;x:[1],reverse=True)) # 내가한거"
      ],
      "metadata": {
        "id": "b8fgcflC6gxa",
        "colab": {
          "base_uri": "https://localhost:8080/",
          "height": 106
        },
        "outputId": "8465f7ed-9346-4f50-c08c-c9cec95e1586"
      },
      "execution_count": 44,
      "outputs": [
        {
          "output_type": "error",
          "ename": "SyntaxError",
          "evalue": "invalid syntax (<ipython-input-44-8e4451783242>, line 1)",
          "traceback": [
            "\u001b[0;36m  File \u001b[0;32m\"<ipython-input-44-8e4451783242>\"\u001b[0;36m, line \u001b[0;32m1\u001b[0m\n\u001b[0;31m    print(sorted(tt,key=lambda x;x:[1],reverse=True))\u001b[0m\n\u001b[0m                                ^\u001b[0m\n\u001b[0;31mSyntaxError\u001b[0m\u001b[0;31m:\u001b[0m invalid syntax\n"
          ]
        }
      ]
    },
    {
      "cell_type": "code",
      "source": [
        "#강사님\n",
        "sorted(tt,key=lambda x:sum(x[1])/len(x[1]), reverse=True)"
      ],
      "metadata": {
        "colab": {
          "base_uri": "https://localhost:8080/"
        },
        "id": "BkNuuPQRahDU",
        "outputId": "a48a6442-4a27-44ae-eab4-6e20e4e1facc"
      },
      "execution_count": 57,
      "outputs": [
        {
          "output_type": "execute_result",
          "data": {
            "text/plain": [
              "[('c', [8, 11, 91, 1]),\n",
              " ('e', [38, 19, 47, 2]),\n",
              " ('d', [10, 56, 23, 6]),\n",
              " ('b', [5, 2, 19, 2]),\n",
              " ('a', [1, 10, 2, 2])]"
            ]
          },
          "metadata": {},
          "execution_count": 57
        }
      ]
    },
    {
      "cell_type": "code",
      "source": [],
      "metadata": {
        "id": "RZ3XrHKabvzz"
      },
      "execution_count": null,
      "outputs": []
    }
  ]
}