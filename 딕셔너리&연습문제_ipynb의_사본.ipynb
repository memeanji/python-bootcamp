{
  "nbformat": 4,
  "nbformat_minor": 0,
  "metadata": {
    "colab": {
      "provenance": [],
      "include_colab_link": true
    },
    "kernelspec": {
      "name": "python3",
      "display_name": "Python 3"
    },
    "language_info": {
      "name": "python"
    }
  },
  "cells": [
    {
      "cell_type": "markdown",
      "metadata": {
        "id": "view-in-github",
        "colab_type": "text"
      },
      "source": [
        "<a href=\"https://colab.research.google.com/github/memeanji/python-bootcamp/blob/main/%E1%84%83%E1%85%B5%E1%86%A8%E1%84%89%E1%85%A7%E1%84%82%E1%85%A5%E1%84%85%E1%85%B5%26%EC%97%B0%EC%8A%B5%EB%AC%B8%EC%A0%9C_ipynb%EC%9D%98_%EC%82%AC%EB%B3%B8.ipynb\" target=\"_parent\"><img src=\"https://colab.research.google.com/assets/colab-badge.svg\" alt=\"Open In Colab\"/></a>"
      ]
    },
    {
      "cell_type": "markdown",
      "source": [
        "# **딕셔너리**\n",
        "\n",
        "\n",
        "---\n"
      ],
      "metadata": {
        "id": "9CrSKl7RifpA"
      }
    },
    {
      "cell_type": "markdown",
      "source": [
        "## **[1] 딕셔너리란?**\n",
        "- 키(Key): 값(Value)의 쌍이 모여있는 사전 형태의 자료형입니다.\n",
        "- 키: 값의 쌍을 중괄호(`{}`)로 감싸줍니다.\n",
        "- `변수명 = {'키1':값, '키2':값, ...}'\n",
        "- 키는 고유한 값이기 때문에키는 중복될 수 없고, 리스트는 키가 될 수 없습니다.\n",
        "- 위치로 인덱싱이 되지 않습니다."
      ],
      "metadata": {
        "id": "gAl6LDa7ijh5"
      }
    },
    {
      "cell_type": "code",
      "source": [
        "dic = {'name':'merry',\\\n",
        "      'num':1,\\\n",
        "      'birth':'jan'}\n",
        "dic"
      ],
      "metadata": {
        "id": "QPsvM0I1kPrS",
        "colab": {
          "base_uri": "https://localhost:8080/"
        },
        "outputId": "fd206221-ed81-4b96-bced-a62b30424bd8"
      },
      "execution_count": 1,
      "outputs": [
        {
          "output_type": "execute_result",
          "data": {
            "text/plain": [
              "{'name': 'merry', 'num': 1, 'birth': 'jan'}"
            ]
          },
          "metadata": {},
          "execution_count": 1
        }
      ]
    },
    {
      "cell_type": "code",
      "execution_count": 2,
      "metadata": {
        "id": "SLbQVcI3iPFk",
        "colab": {
          "base_uri": "https://localhost:8080/"
        },
        "outputId": "8a5066af-8852-433f-b4f5-366fc8c7a104"
      },
      "outputs": [
        {
          "output_type": "execute_result",
          "data": {
            "text/plain": [
              "{'name': ['merry', 'john'], 'num': [1, 2, 3], 'birth': ['jan', 'feb', 'nov']}"
            ]
          },
          "metadata": {},
          "execution_count": 2
        }
      ],
      "source": [
        "dic = {'name':['merry','john'],\\\n",
        "      'num':[1,2,3],\\\n",
        "      'birth':['jan','feb','nov']}\n",
        "dic"
      ]
    },
    {
      "cell_type": "code",
      "source": [
        "{'name':'merry', 'name':'john'}"
      ],
      "metadata": {
        "id": "uYc7vpasjfaz",
        "colab": {
          "base_uri": "https://localhost:8080/"
        },
        "outputId": "848efdf2-37cf-4256-e676-001bb37f8352"
      },
      "execution_count": 3,
      "outputs": [
        {
          "output_type": "execute_result",
          "data": {
            "text/plain": [
              "{'name': 'john'}"
            ]
          },
          "metadata": {},
          "execution_count": 3
        }
      ]
    },
    {
      "cell_type": "code",
      "source": [
        "{['name','num']:['merry', 1]} #키는 list로 가질 수 없음"
      ],
      "metadata": {
        "id": "nVVCk9fQjyDv",
        "colab": {
          "base_uri": "https://localhost:8080/",
          "height": 141
        },
        "outputId": "5c915d01-deff-4e6c-8edf-80c1b2a5d298"
      },
      "execution_count": 4,
      "outputs": [
        {
          "output_type": "error",
          "ename": "TypeError",
          "evalue": "unhashable type: 'list'",
          "traceback": [
            "\u001b[0;31m---------------------------------------------------------------------------\u001b[0m",
            "\u001b[0;31mTypeError\u001b[0m                                 Traceback (most recent call last)",
            "\u001b[0;32m<ipython-input-4-5a3db334c269>\u001b[0m in \u001b[0;36m<cell line: 0>\u001b[0;34m()\u001b[0m\n\u001b[0;32m----> 1\u001b[0;31m \u001b[0;34m{\u001b[0m\u001b[0;34m[\u001b[0m\u001b[0;34m'name'\u001b[0m\u001b[0;34m,\u001b[0m\u001b[0;34m'num'\u001b[0m\u001b[0;34m]\u001b[0m\u001b[0;34m:\u001b[0m\u001b[0;34m[\u001b[0m\u001b[0;34m'merry'\u001b[0m\u001b[0;34m,\u001b[0m \u001b[0;36m1\u001b[0m\u001b[0;34m]\u001b[0m\u001b[0;34m}\u001b[0m\u001b[0;34m\u001b[0m\u001b[0;34m\u001b[0m\u001b[0m\n\u001b[0m",
            "\u001b[0;31mTypeError\u001b[0m: unhashable type: 'list'"
          ]
        }
      ]
    },
    {
      "cell_type": "code",
      "source": [
        "{('name','num'):[('merry',1),('john',2)]}"
      ],
      "metadata": {
        "id": "Nn2BN9eukeuL",
        "colab": {
          "base_uri": "https://localhost:8080/"
        },
        "outputId": "27af9ae3-8b1d-4433-e009-db6fb0fa1cd2"
      },
      "execution_count": 5,
      "outputs": [
        {
          "output_type": "execute_result",
          "data": {
            "text/plain": [
              "{('name', 'num'): [('merry', 1), ('john', 2)]}"
            ]
          },
          "metadata": {},
          "execution_count": 5
        }
      ]
    },
    {
      "cell_type": "code",
      "source": [
        "dic[0] #dictionary는 인덱싱이 불가함"
      ],
      "metadata": {
        "id": "6taKPVWnknQ7",
        "colab": {
          "base_uri": "https://localhost:8080/",
          "height": 141
        },
        "outputId": "69a06451-1969-4286-d312-8821b239d420"
      },
      "execution_count": 6,
      "outputs": [
        {
          "output_type": "error",
          "ename": "KeyError",
          "evalue": "0",
          "traceback": [
            "\u001b[0;31m---------------------------------------------------------------------------\u001b[0m",
            "\u001b[0;31mKeyError\u001b[0m                                  Traceback (most recent call last)",
            "\u001b[0;32m<ipython-input-6-d5a2f4e83513>\u001b[0m in \u001b[0;36m<cell line: 0>\u001b[0;34m()\u001b[0m\n\u001b[0;32m----> 1\u001b[0;31m \u001b[0mdic\u001b[0m\u001b[0;34m[\u001b[0m\u001b[0;36m0\u001b[0m\u001b[0;34m]\u001b[0m\u001b[0;34m\u001b[0m\u001b[0;34m\u001b[0m\u001b[0m\n\u001b[0m",
            "\u001b[0;31mKeyError\u001b[0m: 0"
          ]
        }
      ]
    },
    {
      "cell_type": "markdown",
      "source": [
        "## **[2] 딕셔너리 요소 추가, 삭제하기**\n",
        "- 추가: `딕셔너리변수명[추가할키]=추가할값`\n",
        "- 삭제: `del 딕셔너리변수명[삭제할키]`"
      ],
      "metadata": {
        "id": "x98-f_KVlFzl"
      }
    },
    {
      "cell_type": "code",
      "source": [
        "dic"
      ],
      "metadata": {
        "id": "iwWRLYalkCE2",
        "colab": {
          "base_uri": "https://localhost:8080/"
        },
        "outputId": "29987a4c-c752-433a-9627-1835e4718ed5"
      },
      "execution_count": 7,
      "outputs": [
        {
          "output_type": "execute_result",
          "data": {
            "text/plain": [
              "{'name': ['merry', 'john'], 'num': [1, 2, 3], 'birth': ['jan', 'feb', 'nov']}"
            ]
          },
          "metadata": {},
          "execution_count": 7
        }
      ]
    },
    {
      "cell_type": "code",
      "source": [
        "print(dic) #원래거\n",
        "dic['country'] = ['Korea','US'] # 새로추가한거\n",
        "print(dic)"
      ],
      "metadata": {
        "id": "w4P8ZcubkqPh",
        "colab": {
          "base_uri": "https://localhost:8080/"
        },
        "outputId": "f07aa70d-0bd9-47be-e1ea-0e68e5923e9c"
      },
      "execution_count": 8,
      "outputs": [
        {
          "output_type": "stream",
          "name": "stdout",
          "text": [
            "{'name': ['merry', 'john'], 'num': [1, 2, 3], 'birth': ['jan', 'feb', 'nov']}\n",
            "{'name': ['merry', 'john'], 'num': [1, 2, 3], 'birth': ['jan', 'feb', 'nov'], 'country': ['Korea', 'US']}\n"
          ]
        }
      ]
    },
    {
      "cell_type": "code",
      "source": [
        "del dic['country'] #del사용하면 삭제가능\n",
        "print(dic)"
      ],
      "metadata": {
        "id": "J74bqoWJmRWb",
        "colab": {
          "base_uri": "https://localhost:8080/"
        },
        "outputId": "d481071a-98f6-4170-ebbc-353e15029eba"
      },
      "execution_count": 9,
      "outputs": [
        {
          "output_type": "stream",
          "name": "stdout",
          "text": [
            "{'name': ['merry', 'john'], 'num': [1, 2, 3], 'birth': ['jan', 'feb', 'nov']}\n"
          ]
        }
      ]
    },
    {
      "cell_type": "markdown",
      "source": [
        "## **[3] 딕셔너리 키로 값 찾기**\n",
        "- `딕셔너리변수명[찾을키]`"
      ],
      "metadata": {
        "id": "e2dO27QZmgkc"
      }
    },
    {
      "cell_type": "code",
      "source": [
        "print(dic['name'])\n",
        "print(dic['num'])"
      ],
      "metadata": {
        "id": "_aw7NoYLmgHm",
        "colab": {
          "base_uri": "https://localhost:8080/"
        },
        "outputId": "ba852294-5dba-4cb4-af0f-ed2542901acf"
      },
      "execution_count": 10,
      "outputs": [
        {
          "output_type": "stream",
          "name": "stdout",
          "text": [
            "['merry', 'john']\n",
            "[1, 2, 3]\n"
          ]
        }
      ]
    },
    {
      "cell_type": "code",
      "source": [
        "dic['country'] # 삭제됐으니까 안나옴"
      ],
      "metadata": {
        "id": "LAbiAFbSm0Hv",
        "colab": {
          "base_uri": "https://localhost:8080/",
          "height": 141
        },
        "outputId": "2fee4f94-65e4-4bbf-a508-ed2b14ebea5f"
      },
      "execution_count": 11,
      "outputs": [
        {
          "output_type": "error",
          "ename": "KeyError",
          "evalue": "'country'",
          "traceback": [
            "\u001b[0;31m---------------------------------------------------------------------------\u001b[0m",
            "\u001b[0;31mKeyError\u001b[0m                                  Traceback (most recent call last)",
            "\u001b[0;32m<ipython-input-11-7a935307063b>\u001b[0m in \u001b[0;36m<cell line: 0>\u001b[0;34m()\u001b[0m\n\u001b[0;32m----> 1\u001b[0;31m \u001b[0mdic\u001b[0m\u001b[0;34m[\u001b[0m\u001b[0;34m'country'\u001b[0m\u001b[0;34m]\u001b[0m\u001b[0;34m\u001b[0m\u001b[0;34m\u001b[0m\u001b[0m\n\u001b[0m",
            "\u001b[0;31mKeyError\u001b[0m: 'country'"
          ]
        }
      ]
    },
    {
      "cell_type": "markdown",
      "source": [
        "## **[4] 딕셔너리 함수**\n",
        "- `keys()`: 키들을 반환합니다.\n",
        "- `values()`: 값들을 반환합니다.\n",
        "- `items()`: 키와 값의 튜플 쌍들을 반환합니다.\n",
        "- `get(원하는키값)`: 원하는 키 값에 대응되는 값을 반환합니다.\n",
        " - `딕셔너리변수명[원하는키값]`과 똑같은 값을 반환합니다.\n",
        "- `update`: 딕셔너리에 새로운 딕셔너리를 추가합니다.\n",
        "- `zip`: 튜플/리스트 두 개를 하나의 딕셔너리로 변환합니다."
      ],
      "metadata": {
        "id": "gqxfSQBfmWvh"
      }
    },
    {
      "cell_type": "markdown",
      "source": [
        "### keys, values, items"
      ],
      "metadata": {
        "id": "MKv71cLf_6vz"
      }
    },
    {
      "cell_type": "code",
      "source": [
        "dic"
      ],
      "metadata": {
        "id": "frxOZucemT8r",
        "colab": {
          "base_uri": "https://localhost:8080/"
        },
        "outputId": "e712cc77-a0b4-4571-a6dc-593d630b9c56"
      },
      "execution_count": 12,
      "outputs": [
        {
          "output_type": "execute_result",
          "data": {
            "text/plain": [
              "{'name': ['merry', 'john'], 'num': [1, 2, 3], 'birth': ['jan', 'feb', 'nov']}"
            ]
          },
          "metadata": {},
          "execution_count": 12
        }
      ]
    },
    {
      "cell_type": "code",
      "source": [
        "print(dic.keys())\n",
        "print(dic.values())\n",
        "print(dic.items()) #튜플로 키와 값의 쌍들의 묶음이 나옴"
      ],
      "metadata": {
        "id": "HkCtOSJjnYyj",
        "colab": {
          "base_uri": "https://localhost:8080/"
        },
        "outputId": "543a75e7-0a9c-4352-f99d-4dcd2a8c6859"
      },
      "execution_count": 13,
      "outputs": [
        {
          "output_type": "stream",
          "name": "stdout",
          "text": [
            "dict_keys(['name', 'num', 'birth'])\n",
            "dict_values([['merry', 'john'], [1, 2, 3], ['jan', 'feb', 'nov']])\n",
            "dict_items([('name', ['merry', 'john']), ('num', [1, 2, 3]), ('birth', ['jan', 'feb', 'nov'])])\n"
          ]
        }
      ]
    },
    {
      "cell_type": "code",
      "source": [
        "type(dic.items()) # dict_items라는 고유한 형태로 가짐"
      ],
      "metadata": {
        "id": "SZG-DlF9kujl",
        "colab": {
          "base_uri": "https://localhost:8080/"
        },
        "outputId": "eeeb267e-dccb-4865-be5c-528117d80634"
      },
      "execution_count": 15,
      "outputs": [
        {
          "output_type": "execute_result",
          "data": {
            "text/plain": [
              "dict_items"
            ]
          },
          "metadata": {},
          "execution_count": 15
        }
      ]
    },
    {
      "cell_type": "markdown",
      "source": [
        "- 결과를 리스트의 형태로 변환하고 싶으면 `list()`함수로 감싸줍니다."
      ],
      "metadata": {
        "id": "VtWu7gxcoGmW"
      }
    },
    {
      "cell_type": "code",
      "source": [
        "print(list(dic.keys()))\n",
        "print(list(dic.values()))\n",
        "print(list(dic.items()))"
      ],
      "metadata": {
        "id": "UIijcLyvnqVB",
        "colab": {
          "base_uri": "https://localhost:8080/"
        },
        "outputId": "572b1bee-a77a-452f-a1c8-70ecd7e98aeb"
      },
      "execution_count": 16,
      "outputs": [
        {
          "output_type": "stream",
          "name": "stdout",
          "text": [
            "['name', 'num', 'birth']\n",
            "[['merry', 'john'], [1, 2, 3], ['jan', 'feb', 'nov']]\n",
            "[('name', ['merry', 'john']), ('num', [1, 2, 3]), ('birth', ['jan', 'feb', 'nov'])]\n"
          ]
        }
      ]
    },
    {
      "cell_type": "markdown",
      "source": [
        "- 딕셔너리 함수들은 뒤에서 배울 반복문을 같이 자주 씁니다."
      ],
      "metadata": {
        "id": "NI9pv_3moWyb"
      }
    },
    {
      "cell_type": "code",
      "source": [
        "for k, v in dic.items():\n",
        "    print('키: ', k)\n",
        "    print('값: ', v)"
      ],
      "metadata": {
        "id": "49I6nOq9oRO2",
        "colab": {
          "base_uri": "https://localhost:8080/"
        },
        "outputId": "a3080a5b-1c41-4289-e061-20c2ff0b9454"
      },
      "execution_count": 18,
      "outputs": [
        {
          "output_type": "stream",
          "name": "stdout",
          "text": [
            "키:  name\n",
            "값:  ['merry', 'john']\n",
            "키:  num\n",
            "값:  [1, 2, 3]\n",
            "키:  birth\n",
            "값:  ['jan', 'feb', 'nov']\n"
          ]
        }
      ]
    },
    {
      "cell_type": "markdown",
      "source": [
        "### `get`"
      ],
      "metadata": {
        "id": "LRZiikDb__Ey"
      }
    },
    {
      "cell_type": "code",
      "source": [
        "dic.get('name') #key값을 입력했을때 values값이 추출됨"
      ],
      "metadata": {
        "id": "Y8VUbsl__pZe",
        "colab": {
          "base_uri": "https://localhost:8080/"
        },
        "outputId": "7659c4be-96b3-4bea-fd1b-b11110d6ebbe"
      },
      "execution_count": 19,
      "outputs": [
        {
          "output_type": "execute_result",
          "data": {
            "text/plain": [
              "['merry', 'john']"
            ]
          },
          "metadata": {},
          "execution_count": 19
        }
      ]
    },
    {
      "cell_type": "code",
      "source": [
        "dic['name']"
      ],
      "metadata": {
        "id": "wtKuNRYwlIJL",
        "colab": {
          "base_uri": "https://localhost:8080/"
        },
        "outputId": "25bdd49f-cc42-4880-f14d-42057bb0a19b"
      },
      "execution_count": 20,
      "outputs": [
        {
          "output_type": "execute_result",
          "data": {
            "text/plain": [
              "['merry', 'john']"
            ]
          },
          "metadata": {},
          "execution_count": 20
        }
      ]
    },
    {
      "cell_type": "markdown",
      "source": [
        "### `update`"
      ],
      "metadata": {
        "id": "9EOtY9v0AD5z"
      }
    },
    {
      "cell_type": "code",
      "source": [
        "dic1 = {'a':[1,2], 'b':3, 'c':[4,5,6]}\n",
        "dic2 = {'d':10, 'e':[102,101]}\n",
        "dic1.update(dic2) #새로운 요소를 추가하고 싶을 때 사용함"
      ],
      "metadata": {
        "id": "tZRmgj0_AESC"
      },
      "execution_count": 21,
      "outputs": []
    },
    {
      "cell_type": "code",
      "source": [
        "dic1"
      ],
      "metadata": {
        "id": "vw65ONVmAX3f",
        "colab": {
          "base_uri": "https://localhost:8080/"
        },
        "outputId": "0178081d-97e6-4da1-cafd-f7ef015bd048"
      },
      "execution_count": 22,
      "outputs": [
        {
          "output_type": "execute_result",
          "data": {
            "text/plain": [
              "{'a': [1, 2], 'b': 3, 'c': [4, 5, 6], 'd': 10, 'e': [102, 101]}"
            ]
          },
          "metadata": {},
          "execution_count": 22
        }
      ]
    },
    {
      "cell_type": "markdown",
      "source": [
        "### `zip`"
      ],
      "metadata": {
        "id": "xhG_wLMFAZNO"
      }
    },
    {
      "cell_type": "code",
      "source": [
        "keys = (\"a\", \"b\")\n",
        "values = (1,2)\n",
        "result = dict(zip(keys, values)) #zip 함수는 튜플 or list를 딕셔너리해서 바꿔줌\n",
        "print(result)"
      ],
      "metadata": {
        "id": "SI5w1HhjAZqC",
        "colab": {
          "base_uri": "https://localhost:8080/"
        },
        "outputId": "9196f417-4306-490f-dff6-20147d3cb4c2"
      },
      "execution_count": 23,
      "outputs": [
        {
          "output_type": "stream",
          "name": "stdout",
          "text": [
            "{'a': 1, 'b': 2}\n"
          ]
        }
      ]
    },
    {
      "cell_type": "code",
      "source": [
        "keys = [\"a\", \"b\"]\n",
        "values = [1,2]\n",
        "result = dict(zip(keys, values)) #키와 값이 쌍으로 묶여서 하나의 쌍으로 만들어진 딕셔너리로 나옴\n",
        "print(result)"
      ],
      "metadata": {
        "id": "7_PJv5_UAtHh",
        "colab": {
          "base_uri": "https://localhost:8080/"
        },
        "outputId": "20b91105-5dd7-4cdd-e795-deb300d58587"
      },
      "execution_count": 24,
      "outputs": [
        {
          "output_type": "stream",
          "name": "stdout",
          "text": [
            "{'a': 1, 'b': 2}\n"
          ]
        }
      ]
    },
    {
      "cell_type": "code",
      "source": [
        "keys = [\"a\", \"b\",\"c\"]\n",
        "values = [1,2]\n",
        "result = dict(zip(keys, values)) # 만약 key에 들어갈 리스트와  values에 들어갈 리스트의 길이가 맞지않을 경우 적은 쪽에 맞춰서 만들어짐\n",
        "print(result)"
      ],
      "metadata": {
        "id": "tXIAVx1MAzxf",
        "colab": {
          "base_uri": "https://localhost:8080/"
        },
        "outputId": "ccc460fc-fab7-4dde-dc67-660b76400ff4"
      },
      "execution_count": 25,
      "outputs": [
        {
          "output_type": "stream",
          "name": "stdout",
          "text": [
            "{'a': 1, 'b': 2}\n"
          ]
        }
      ]
    },
    {
      "cell_type": "markdown",
      "source": [
        "## **[5] 데이터셋과 대응**\n",
        "- 각 키들의 값의 길이가 같다면, Part2에서 배울 dataframe이라는 데이터셋의 형식과 대응될 수 있습니다."
      ],
      "metadata": {
        "id": "0VWUYS4fosvN"
      }
    },
    {
      "cell_type": "code",
      "source": [
        "dic = {'name':['merry','john','kevin'],\\\n",
        "      'num':[1,2,3],\\\n",
        "      'birth':['jan','feb','nov']}\n",
        "dic"
      ],
      "metadata": {
        "id": "FXNd1cd_ol9l",
        "colab": {
          "base_uri": "https://localhost:8080/"
        },
        "outputId": "f6cb13c4-3b88-4954-9b7d-dc062b207352"
      },
      "execution_count": 26,
      "outputs": [
        {
          "output_type": "execute_result",
          "data": {
            "text/plain": [
              "{'name': ['merry', 'john', 'kevin'],\n",
              " 'num': [1, 2, 3],\n",
              " 'birth': ['jan', 'feb', 'nov']}"
            ]
          },
          "metadata": {},
          "execution_count": 26
        }
      ]
    },
    {
      "cell_type": "code",
      "source": [
        "import pandas as pd\n",
        "df = pd.DataFrame(dic)\n",
        "df"
      ],
      "metadata": {
        "id": "UfzYHB9so_3J",
        "colab": {
          "base_uri": "https://localhost:8080/",
          "height": 143
        },
        "outputId": "d89c2ddb-71cd-4702-89e6-14aba098193e"
      },
      "execution_count": 27,
      "outputs": [
        {
          "output_type": "execute_result",
          "data": {
            "text/plain": [
              "    name  num birth\n",
              "0  merry    1   jan\n",
              "1   john    2   feb\n",
              "2  kevin    3   nov"
            ],
            "text/html": [
              "\n",
              "  <div id=\"df-3ec32ac2-2045-4e05-960a-b8d769133200\" class=\"colab-df-container\">\n",
              "    <div>\n",
              "<style scoped>\n",
              "    .dataframe tbody tr th:only-of-type {\n",
              "        vertical-align: middle;\n",
              "    }\n",
              "\n",
              "    .dataframe tbody tr th {\n",
              "        vertical-align: top;\n",
              "    }\n",
              "\n",
              "    .dataframe thead th {\n",
              "        text-align: right;\n",
              "    }\n",
              "</style>\n",
              "<table border=\"1\" class=\"dataframe\">\n",
              "  <thead>\n",
              "    <tr style=\"text-align: right;\">\n",
              "      <th></th>\n",
              "      <th>name</th>\n",
              "      <th>num</th>\n",
              "      <th>birth</th>\n",
              "    </tr>\n",
              "  </thead>\n",
              "  <tbody>\n",
              "    <tr>\n",
              "      <th>0</th>\n",
              "      <td>merry</td>\n",
              "      <td>1</td>\n",
              "      <td>jan</td>\n",
              "    </tr>\n",
              "    <tr>\n",
              "      <th>1</th>\n",
              "      <td>john</td>\n",
              "      <td>2</td>\n",
              "      <td>feb</td>\n",
              "    </tr>\n",
              "    <tr>\n",
              "      <th>2</th>\n",
              "      <td>kevin</td>\n",
              "      <td>3</td>\n",
              "      <td>nov</td>\n",
              "    </tr>\n",
              "  </tbody>\n",
              "</table>\n",
              "</div>\n",
              "    <div class=\"colab-df-buttons\">\n",
              "\n",
              "  <div class=\"colab-df-container\">\n",
              "    <button class=\"colab-df-convert\" onclick=\"convertToInteractive('df-3ec32ac2-2045-4e05-960a-b8d769133200')\"\n",
              "            title=\"Convert this dataframe to an interactive table.\"\n",
              "            style=\"display:none;\">\n",
              "\n",
              "  <svg xmlns=\"http://www.w3.org/2000/svg\" height=\"24px\" viewBox=\"0 -960 960 960\">\n",
              "    <path d=\"M120-120v-720h720v720H120Zm60-500h600v-160H180v160Zm220 220h160v-160H400v160Zm0 220h160v-160H400v160ZM180-400h160v-160H180v160Zm440 0h160v-160H620v160ZM180-180h160v-160H180v160Zm440 0h160v-160H620v160Z\"/>\n",
              "  </svg>\n",
              "    </button>\n",
              "\n",
              "  <style>\n",
              "    .colab-df-container {\n",
              "      display:flex;\n",
              "      gap: 12px;\n",
              "    }\n",
              "\n",
              "    .colab-df-convert {\n",
              "      background-color: #E8F0FE;\n",
              "      border: none;\n",
              "      border-radius: 50%;\n",
              "      cursor: pointer;\n",
              "      display: none;\n",
              "      fill: #1967D2;\n",
              "      height: 32px;\n",
              "      padding: 0 0 0 0;\n",
              "      width: 32px;\n",
              "    }\n",
              "\n",
              "    .colab-df-convert:hover {\n",
              "      background-color: #E2EBFA;\n",
              "      box-shadow: 0px 1px 2px rgba(60, 64, 67, 0.3), 0px 1px 3px 1px rgba(60, 64, 67, 0.15);\n",
              "      fill: #174EA6;\n",
              "    }\n",
              "\n",
              "    .colab-df-buttons div {\n",
              "      margin-bottom: 4px;\n",
              "    }\n",
              "\n",
              "    [theme=dark] .colab-df-convert {\n",
              "      background-color: #3B4455;\n",
              "      fill: #D2E3FC;\n",
              "    }\n",
              "\n",
              "    [theme=dark] .colab-df-convert:hover {\n",
              "      background-color: #434B5C;\n",
              "      box-shadow: 0px 1px 3px 1px rgba(0, 0, 0, 0.15);\n",
              "      filter: drop-shadow(0px 1px 2px rgba(0, 0, 0, 0.3));\n",
              "      fill: #FFFFFF;\n",
              "    }\n",
              "  </style>\n",
              "\n",
              "    <script>\n",
              "      const buttonEl =\n",
              "        document.querySelector('#df-3ec32ac2-2045-4e05-960a-b8d769133200 button.colab-df-convert');\n",
              "      buttonEl.style.display =\n",
              "        google.colab.kernel.accessAllowed ? 'block' : 'none';\n",
              "\n",
              "      async function convertToInteractive(key) {\n",
              "        const element = document.querySelector('#df-3ec32ac2-2045-4e05-960a-b8d769133200');\n",
              "        const dataTable =\n",
              "          await google.colab.kernel.invokeFunction('convertToInteractive',\n",
              "                                                    [key], {});\n",
              "        if (!dataTable) return;\n",
              "\n",
              "        const docLinkHtml = 'Like what you see? Visit the ' +\n",
              "          '<a target=\"_blank\" href=https://colab.research.google.com/notebooks/data_table.ipynb>data table notebook</a>'\n",
              "          + ' to learn more about interactive tables.';\n",
              "        element.innerHTML = '';\n",
              "        dataTable['output_type'] = 'display_data';\n",
              "        await google.colab.output.renderOutput(dataTable, element);\n",
              "        const docLink = document.createElement('div');\n",
              "        docLink.innerHTML = docLinkHtml;\n",
              "        element.appendChild(docLink);\n",
              "      }\n",
              "    </script>\n",
              "  </div>\n",
              "\n",
              "\n",
              "    <div id=\"df-254d3fca-1b21-472d-bc61-adc279a424fa\">\n",
              "      <button class=\"colab-df-quickchart\" onclick=\"quickchart('df-254d3fca-1b21-472d-bc61-adc279a424fa')\"\n",
              "                title=\"Suggest charts\"\n",
              "                style=\"display:none;\">\n",
              "\n",
              "<svg xmlns=\"http://www.w3.org/2000/svg\" height=\"24px\"viewBox=\"0 0 24 24\"\n",
              "     width=\"24px\">\n",
              "    <g>\n",
              "        <path d=\"M19 3H5c-1.1 0-2 .9-2 2v14c0 1.1.9 2 2 2h14c1.1 0 2-.9 2-2V5c0-1.1-.9-2-2-2zM9 17H7v-7h2v7zm4 0h-2V7h2v10zm4 0h-2v-4h2v4z\"/>\n",
              "    </g>\n",
              "</svg>\n",
              "      </button>\n",
              "\n",
              "<style>\n",
              "  .colab-df-quickchart {\n",
              "      --bg-color: #E8F0FE;\n",
              "      --fill-color: #1967D2;\n",
              "      --hover-bg-color: #E2EBFA;\n",
              "      --hover-fill-color: #174EA6;\n",
              "      --disabled-fill-color: #AAA;\n",
              "      --disabled-bg-color: #DDD;\n",
              "  }\n",
              "\n",
              "  [theme=dark] .colab-df-quickchart {\n",
              "      --bg-color: #3B4455;\n",
              "      --fill-color: #D2E3FC;\n",
              "      --hover-bg-color: #434B5C;\n",
              "      --hover-fill-color: #FFFFFF;\n",
              "      --disabled-bg-color: #3B4455;\n",
              "      --disabled-fill-color: #666;\n",
              "  }\n",
              "\n",
              "  .colab-df-quickchart {\n",
              "    background-color: var(--bg-color);\n",
              "    border: none;\n",
              "    border-radius: 50%;\n",
              "    cursor: pointer;\n",
              "    display: none;\n",
              "    fill: var(--fill-color);\n",
              "    height: 32px;\n",
              "    padding: 0;\n",
              "    width: 32px;\n",
              "  }\n",
              "\n",
              "  .colab-df-quickchart:hover {\n",
              "    background-color: var(--hover-bg-color);\n",
              "    box-shadow: 0 1px 2px rgba(60, 64, 67, 0.3), 0 1px 3px 1px rgba(60, 64, 67, 0.15);\n",
              "    fill: var(--button-hover-fill-color);\n",
              "  }\n",
              "\n",
              "  .colab-df-quickchart-complete:disabled,\n",
              "  .colab-df-quickchart-complete:disabled:hover {\n",
              "    background-color: var(--disabled-bg-color);\n",
              "    fill: var(--disabled-fill-color);\n",
              "    box-shadow: none;\n",
              "  }\n",
              "\n",
              "  .colab-df-spinner {\n",
              "    border: 2px solid var(--fill-color);\n",
              "    border-color: transparent;\n",
              "    border-bottom-color: var(--fill-color);\n",
              "    animation:\n",
              "      spin 1s steps(1) infinite;\n",
              "  }\n",
              "\n",
              "  @keyframes spin {\n",
              "    0% {\n",
              "      border-color: transparent;\n",
              "      border-bottom-color: var(--fill-color);\n",
              "      border-left-color: var(--fill-color);\n",
              "    }\n",
              "    20% {\n",
              "      border-color: transparent;\n",
              "      border-left-color: var(--fill-color);\n",
              "      border-top-color: var(--fill-color);\n",
              "    }\n",
              "    30% {\n",
              "      border-color: transparent;\n",
              "      border-left-color: var(--fill-color);\n",
              "      border-top-color: var(--fill-color);\n",
              "      border-right-color: var(--fill-color);\n",
              "    }\n",
              "    40% {\n",
              "      border-color: transparent;\n",
              "      border-right-color: var(--fill-color);\n",
              "      border-top-color: var(--fill-color);\n",
              "    }\n",
              "    60% {\n",
              "      border-color: transparent;\n",
              "      border-right-color: var(--fill-color);\n",
              "    }\n",
              "    80% {\n",
              "      border-color: transparent;\n",
              "      border-right-color: var(--fill-color);\n",
              "      border-bottom-color: var(--fill-color);\n",
              "    }\n",
              "    90% {\n",
              "      border-color: transparent;\n",
              "      border-bottom-color: var(--fill-color);\n",
              "    }\n",
              "  }\n",
              "</style>\n",
              "\n",
              "      <script>\n",
              "        async function quickchart(key) {\n",
              "          const quickchartButtonEl =\n",
              "            document.querySelector('#' + key + ' button');\n",
              "          quickchartButtonEl.disabled = true;  // To prevent multiple clicks.\n",
              "          quickchartButtonEl.classList.add('colab-df-spinner');\n",
              "          try {\n",
              "            const charts = await google.colab.kernel.invokeFunction(\n",
              "                'suggestCharts', [key], {});\n",
              "          } catch (error) {\n",
              "            console.error('Error during call to suggestCharts:', error);\n",
              "          }\n",
              "          quickchartButtonEl.classList.remove('colab-df-spinner');\n",
              "          quickchartButtonEl.classList.add('colab-df-quickchart-complete');\n",
              "        }\n",
              "        (() => {\n",
              "          let quickchartButtonEl =\n",
              "            document.querySelector('#df-254d3fca-1b21-472d-bc61-adc279a424fa button');\n",
              "          quickchartButtonEl.style.display =\n",
              "            google.colab.kernel.accessAllowed ? 'block' : 'none';\n",
              "        })();\n",
              "      </script>\n",
              "    </div>\n",
              "\n",
              "  <div id=\"id_9b7dfc88-8d68-4bb0-9750-40a9f7d11593\">\n",
              "    <style>\n",
              "      .colab-df-generate {\n",
              "        background-color: #E8F0FE;\n",
              "        border: none;\n",
              "        border-radius: 50%;\n",
              "        cursor: pointer;\n",
              "        display: none;\n",
              "        fill: #1967D2;\n",
              "        height: 32px;\n",
              "        padding: 0 0 0 0;\n",
              "        width: 32px;\n",
              "      }\n",
              "\n",
              "      .colab-df-generate:hover {\n",
              "        background-color: #E2EBFA;\n",
              "        box-shadow: 0px 1px 2px rgba(60, 64, 67, 0.3), 0px 1px 3px 1px rgba(60, 64, 67, 0.15);\n",
              "        fill: #174EA6;\n",
              "      }\n",
              "\n",
              "      [theme=dark] .colab-df-generate {\n",
              "        background-color: #3B4455;\n",
              "        fill: #D2E3FC;\n",
              "      }\n",
              "\n",
              "      [theme=dark] .colab-df-generate:hover {\n",
              "        background-color: #434B5C;\n",
              "        box-shadow: 0px 1px 3px 1px rgba(0, 0, 0, 0.15);\n",
              "        filter: drop-shadow(0px 1px 2px rgba(0, 0, 0, 0.3));\n",
              "        fill: #FFFFFF;\n",
              "      }\n",
              "    </style>\n",
              "    <button class=\"colab-df-generate\" onclick=\"generateWithVariable('df')\"\n",
              "            title=\"Generate code using this dataframe.\"\n",
              "            style=\"display:none;\">\n",
              "\n",
              "  <svg xmlns=\"http://www.w3.org/2000/svg\" height=\"24px\"viewBox=\"0 0 24 24\"\n",
              "       width=\"24px\">\n",
              "    <path d=\"M7,19H8.4L18.45,9,17,7.55,7,17.6ZM5,21V16.75L18.45,3.32a2,2,0,0,1,2.83,0l1.4,1.43a1.91,1.91,0,0,1,.58,1.4,1.91,1.91,0,0,1-.58,1.4L9.25,21ZM18.45,9,17,7.55Zm-12,3A5.31,5.31,0,0,0,4.9,8.1,5.31,5.31,0,0,0,1,6.5,5.31,5.31,0,0,0,4.9,4.9,5.31,5.31,0,0,0,6.5,1,5.31,5.31,0,0,0,8.1,4.9,5.31,5.31,0,0,0,12,6.5,5.46,5.46,0,0,0,6.5,12Z\"/>\n",
              "  </svg>\n",
              "    </button>\n",
              "    <script>\n",
              "      (() => {\n",
              "      const buttonEl =\n",
              "        document.querySelector('#id_9b7dfc88-8d68-4bb0-9750-40a9f7d11593 button.colab-df-generate');\n",
              "      buttonEl.style.display =\n",
              "        google.colab.kernel.accessAllowed ? 'block' : 'none';\n",
              "\n",
              "      buttonEl.onclick = () => {\n",
              "        google.colab.notebook.generateWithVariable('df');\n",
              "      }\n",
              "      })();\n",
              "    </script>\n",
              "  </div>\n",
              "\n",
              "    </div>\n",
              "  </div>\n"
            ],
            "application/vnd.google.colaboratory.intrinsic+json": {
              "type": "dataframe",
              "variable_name": "df",
              "summary": "{\n  \"name\": \"df\",\n  \"rows\": 3,\n  \"fields\": [\n    {\n      \"column\": \"name\",\n      \"properties\": {\n        \"dtype\": \"string\",\n        \"num_unique_values\": 3,\n        \"samples\": [\n          \"merry\",\n          \"john\",\n          \"kevin\"\n        ],\n        \"semantic_type\": \"\",\n        \"description\": \"\"\n      }\n    },\n    {\n      \"column\": \"num\",\n      \"properties\": {\n        \"dtype\": \"number\",\n        \"std\": 1,\n        \"min\": 1,\n        \"max\": 3,\n        \"num_unique_values\": 3,\n        \"samples\": [\n          1,\n          2,\n          3\n        ],\n        \"semantic_type\": \"\",\n        \"description\": \"\"\n      }\n    },\n    {\n      \"column\": \"birth\",\n      \"properties\": {\n        \"dtype\": \"string\",\n        \"num_unique_values\": 3,\n        \"samples\": [\n          \"jan\",\n          \"feb\",\n          \"nov\"\n        ],\n        \"semantic_type\": \"\",\n        \"description\": \"\"\n      }\n    }\n  ]\n}"
            }
          },
          "metadata": {},
          "execution_count": 27
        }
      ]
    },
    {
      "cell_type": "markdown",
      "source": [
        "## **[6] 연습문제**"
      ],
      "metadata": {
        "id": "Nhmw2FPludTr"
      }
    },
    {
      "cell_type": "markdown",
      "source": [
        "## 1. 다음의 딕셔너리는 과일가게의 과일별 매출입니다. 매출의 평균을 구해보세요."
      ],
      "metadata": {
        "id": "AaaTFVDzu5Xw"
      }
    },
    {
      "cell_type": "code",
      "source": [
        "fruits = {'apple': 150000, 'banana': 120300, 'cherry': 450000}"
      ],
      "metadata": {
        "id": "I6ea34rJuMoZ"
      },
      "execution_count": 36,
      "outputs": []
    },
    {
      "cell_type": "code",
      "source": [
        "#강사님\n",
        "fruits.values()\n",
        "total= sum(fruits.values())\n",
        "fruits.keys()\n",
        "cnt = len(fruits.keys())\n",
        "total/cnt"
      ],
      "metadata": {
        "colab": {
          "base_uri": "https://localhost:8080/"
        },
        "id": "EMbsKgjwi00h",
        "outputId": "7c8272a7-2dbe-488b-8de1-27b8d843d535"
      },
      "execution_count": 61,
      "outputs": [
        {
          "output_type": "execute_result",
          "data": {
            "text/plain": [
              "240100.0"
            ]
          },
          "metadata": {},
          "execution_count": 61
        }
      ]
    },
    {
      "cell_type": "markdown",
      "source": [
        "## 2. 다음과 같이 key와 value 리스트가 있을 때, key값을 입력받으면 value 값을 출력해보세요."
      ],
      "metadata": {
        "id": "OAx8pSOa-yF0"
      }
    },
    {
      "cell_type": "code",
      "source": [
        "key = [\"apple\", \"banana\", \"cherry\"]\n",
        "values = [150000, 120300, 45000]"
      ],
      "metadata": {
        "id": "yyCbHHN4-N4z"
      },
      "execution_count": 54,
      "outputs": []
    },
    {
      "cell_type": "code",
      "source": [
        "print(list(dic.keys()))\n",
        "print(list(dic.values()))\n",
        "result = dic(zip(key,values))"
      ],
      "metadata": {
        "id": "pyFAsCWlpX0C",
        "colab": {
          "base_uri": "https://localhost:8080/",
          "height": 211
        },
        "outputId": "85bbbb44-8fb0-4264-b3f2-cab8fb7aefb5"
      },
      "execution_count": 55,
      "outputs": [
        {
          "output_type": "stream",
          "name": "stdout",
          "text": [
            "['apple', 'banana', 'cherry']\n",
            "[150000, 120300, 450000]\n"
          ]
        },
        {
          "output_type": "error",
          "ename": "TypeError",
          "evalue": "'dict' object is not callable",
          "traceback": [
            "\u001b[0;31m---------------------------------------------------------------------------\u001b[0m",
            "\u001b[0;31mTypeError\u001b[0m                                 Traceback (most recent call last)",
            "\u001b[0;32m<ipython-input-55-540043167af0>\u001b[0m in \u001b[0;36m<cell line: 0>\u001b[0;34m()\u001b[0m\n\u001b[1;32m      1\u001b[0m \u001b[0mprint\u001b[0m\u001b[0;34m(\u001b[0m\u001b[0mlist\u001b[0m\u001b[0;34m(\u001b[0m\u001b[0mdic\u001b[0m\u001b[0;34m.\u001b[0m\u001b[0mkeys\u001b[0m\u001b[0;34m(\u001b[0m\u001b[0;34m)\u001b[0m\u001b[0;34m)\u001b[0m\u001b[0;34m)\u001b[0m\u001b[0;34m\u001b[0m\u001b[0;34m\u001b[0m\u001b[0m\n\u001b[1;32m      2\u001b[0m \u001b[0mprint\u001b[0m\u001b[0;34m(\u001b[0m\u001b[0mlist\u001b[0m\u001b[0;34m(\u001b[0m\u001b[0mdic\u001b[0m\u001b[0;34m.\u001b[0m\u001b[0mvalues\u001b[0m\u001b[0;34m(\u001b[0m\u001b[0;34m)\u001b[0m\u001b[0;34m)\u001b[0m\u001b[0;34m)\u001b[0m\u001b[0;34m\u001b[0m\u001b[0;34m\u001b[0m\u001b[0m\n\u001b[0;32m----> 3\u001b[0;31m \u001b[0mresult\u001b[0m \u001b[0;34m=\u001b[0m \u001b[0mdic\u001b[0m\u001b[0;34m(\u001b[0m\u001b[0mzip\u001b[0m\u001b[0;34m(\u001b[0m\u001b[0mkey\u001b[0m\u001b[0;34m,\u001b[0m\u001b[0mvalues\u001b[0m\u001b[0;34m)\u001b[0m\u001b[0;34m)\u001b[0m\u001b[0;34m\u001b[0m\u001b[0;34m\u001b[0m\u001b[0m\n\u001b[0m",
            "\u001b[0;31mTypeError\u001b[0m: 'dict' object is not callable"
          ]
        }
      ]
    },
    {
      "cell_type": "code",
      "source": [
        "#강사님\n",
        "#리스트 함수로 바꾸기\n",
        "d=dict(zip(key,values))"
      ],
      "metadata": {
        "id": "TJt7ZeLHjMUB"
      },
      "execution_count": 63,
      "outputs": []
    },
    {
      "cell_type": "code",
      "source": [
        "key_input = input(\"apple,banana,'cherry 중 하나를 입력해주세요.\")"
      ],
      "metadata": {
        "colab": {
          "base_uri": "https://localhost:8080/"
        },
        "id": "B9oRPiLdjYRy",
        "outputId": "256e7066-0d66-403d-c1dc-ec7934f22ef6"
      },
      "execution_count": 64,
      "outputs": [
        {
          "name": "stdout",
          "output_type": "stream",
          "text": [
            "apple,banana,'cherry 중 하나를 입력해주세요apple\n"
          ]
        }
      ]
    },
    {
      "cell_type": "code",
      "source": [
        "d[key_input]"
      ],
      "metadata": {
        "colab": {
          "base_uri": "https://localhost:8080/"
        },
        "id": "biFOjeiTjqOV",
        "outputId": "095f0f76-5965-4993-8596-519d0f139255"
      },
      "execution_count": 65,
      "outputs": [
        {
          "output_type": "execute_result",
          "data": {
            "text/plain": [
              "150000"
            ]
          },
          "metadata": {},
          "execution_count": 65
        }
      ]
    },
    {
      "cell_type": "markdown",
      "source": [
        "## 3. 다음 딕셔너리에서 값이 150000인 키를 출력해보세요.\n",
        "(힌트: 키와 값을 따로 리스트에 저장해보세요)"
      ],
      "metadata": {
        "id": "Hmydw1iEE5nv"
      }
    },
    {
      "cell_type": "code",
      "source": [
        "fruits = {'apple': 150000, 'banana': 120300, 'cherry': 450000}"
      ],
      "metadata": {
        "id": "hVrRJdOVB4M9"
      },
      "execution_count": 68,
      "outputs": []
    },
    {
      "cell_type": "code",
      "source": [
        "key_list=list(fruits.keys())\n",
        "value_list=list(fruits.values())"
      ],
      "metadata": {
        "id": "OzFcRThLpS-Q"
      },
      "execution_count": 71,
      "outputs": []
    },
    {
      "cell_type": "code",
      "source": [
        "value_list"
      ],
      "metadata": {
        "colab": {
          "base_uri": "https://localhost:8080/"
        },
        "id": "0SVk1tyAjyxq",
        "outputId": "d4d5e81d-3589-4b6c-ce55-2cd96ecb93ad"
      },
      "execution_count": 72,
      "outputs": [
        {
          "output_type": "execute_result",
          "data": {
            "text/plain": [
              "[150000, 120300, 450000]"
            ]
          },
          "metadata": {},
          "execution_count": 72
        }
      ]
    },
    {
      "cell_type": "code",
      "source": [
        "print(key_list)\n",
        "print(value_list)\n"
      ],
      "metadata": {
        "colab": {
          "base_uri": "https://localhost:8080/"
        },
        "id": "E3WBfyjqkCPj",
        "outputId": "5c2e543e-8aa4-4f75-9532-b10893771557"
      },
      "execution_count": 73,
      "outputs": [
        {
          "output_type": "stream",
          "name": "stdout",
          "text": [
            "['apple', 'banana', 'cherry']\n",
            "[150000, 120300, 450000]\n"
          ]
        }
      ]
    },
    {
      "cell_type": "code",
      "source": [
        "idx = value_list.index(150000)"
      ],
      "metadata": {
        "id": "3KUdZ9vfkJPt"
      },
      "execution_count": 75,
      "outputs": []
    },
    {
      "cell_type": "code",
      "source": [
        "key_list[idx]"
      ],
      "metadata": {
        "colab": {
          "base_uri": "https://localhost:8080/",
          "height": 35
        },
        "id": "o43anxLpkMVW",
        "outputId": "20948757-a633-40f0-8e3b-12d8bb34981c"
      },
      "execution_count": 76,
      "outputs": [
        {
          "output_type": "execute_result",
          "data": {
            "text/plain": [
              "'apple'"
            ],
            "application/vnd.google.colaboratory.intrinsic+json": {
              "type": "string"
            }
          },
          "metadata": {},
          "execution_count": 76
        }
      ]
    },
    {
      "cell_type": "code",
      "source": [],
      "metadata": {
        "id": "OJcQBW0IkP88"
      },
      "execution_count": null,
      "outputs": []
    }
  ]
}