{
  "nbformat": 4,
  "nbformat_minor": 0,
  "metadata": {
    "colab": {
      "provenance": [],
      "authorship_tag": "ABX9TyOo13XSKa+SvhOiBjOJfIAl",
      "include_colab_link": true
    },
    "kernelspec": {
      "name": "python3",
      "display_name": "Python 3"
    },
    "language_info": {
      "name": "python"
    }
  },
  "cells": [
    {
      "cell_type": "markdown",
      "metadata": {
        "id": "view-in-github",
        "colab_type": "text"
      },
      "source": [
        "<a href=\"https://colab.research.google.com/github/memeanji/python-bootcamp/blob/main/%EC%9E%90%EB%A3%8C%ED%98%95_%EB%AC%B8%EC%9E%90%EC%97%B4%26%EC%97%B0%EC%8A%B5%EB%AC%B8.ipynb\" target=\"_parent\"><img src=\"https://colab.research.google.com/assets/colab-badge.svg\" alt=\"Open In Colab\"/></a>"
      ]
    },
    {
      "cell_type": "markdown",
      "source": [
        "# **문자열**\n",
        "\n",
        "\n",
        "---"
      ],
      "metadata": {
        "id": "1Kh2myPNd86t"
      }
    },
    {
      "cell_type": "markdown",
      "source": [
        "[1] 문자열이란?\n",
        "- 문자 형태로 이루어진 자료형\n",
        "- 큰 따옴표 \"\" 혹은 작은 따옴표 ''로 감싸주면 문자열이 됩니다.\n"
      ],
      "metadata": {
        "id": "NgcfhbHqeBGI"
      }
    },
    {
      "cell_type": "code",
      "execution_count": null,
      "metadata": {
        "colab": {
          "base_uri": "https://localhost:8080/",
          "height": 35
        },
        "id": "g-TaaVZZd372",
        "outputId": "f87993f0-5e99-4215-a784-c8c87e882a36"
      },
      "outputs": [
        {
          "output_type": "execute_result",
          "data": {
            "text/plain": [
              "'안녕 민지'"
            ],
            "application/vnd.google.colaboratory.intrinsic+json": {
              "type": "string"
            }
          },
          "metadata": {},
          "execution_count": 6
        }
      ],
      "source": [
        "a = '안녕 민지'\n",
        "a"
      ]
    },
    {
      "cell_type": "code",
      "source": [
        "b = \"안녕 민지\"\n",
        "b"
      ],
      "metadata": {
        "colab": {
          "base_uri": "https://localhost:8080/",
          "height": 35
        },
        "id": "k7zczbPreOOj",
        "outputId": "00fb7214-229f-4a89-a75e-dd89d52be6b6"
      },
      "execution_count": null,
      "outputs": [
        {
          "output_type": "execute_result",
          "data": {
            "text/plain": [
              "'안녕 민지'"
            ],
            "application/vnd.google.colaboratory.intrinsic+json": {
              "type": "string"
            }
          },
          "metadata": {},
          "execution_count": 5
        }
      ]
    },
    {
      "cell_type": "code",
      "source": [
        "# 큰 따옴표와 작은 따옴표를 혼용하면 에러가 남"
      ],
      "metadata": {
        "id": "exd0Dw9leSgM"
      },
      "execution_count": null,
      "outputs": []
    },
    {
      "cell_type": "code",
      "source": [
        "#문자열 안에 따옴표를 넣고 싶으면?\n",
        "a = ' \"민지, 화이팅 \" '\n",
        "print(a)"
      ],
      "metadata": {
        "colab": {
          "base_uri": "https://localhost:8080/"
        },
        "id": "-dc0_PKsezZs",
        "outputId": "3593dd0a-2b64-4eaa-9e7d-f5ee8b6dd8ea"
      },
      "execution_count": null,
      "outputs": [
        {
          "output_type": "stream",
          "name": "stdout",
          "text": [
            " \"민지, 화이팅 \" \n"
          ]
        }
      ]
    },
    {
      "cell_type": "code",
      "source": [
        "b= \"'민지, 화이팅'\"\n",
        "b"
      ],
      "metadata": {
        "colab": {
          "base_uri": "https://localhost:8080/",
          "height": 35
        },
        "id": "7UM_5wLMe6xY",
        "outputId": "22656060-0977-48cb-e2a7-c52c3af468b2"
      },
      "execution_count": null,
      "outputs": [
        {
          "output_type": "execute_result",
          "data": {
            "text/plain": [
              "\"'민지, 화이팅'\""
            ],
            "application/vnd.google.colaboratory.intrinsic+json": {
              "type": "string"
            }
          },
          "metadata": {},
          "execution_count": 10
        }
      ]
    },
    {
      "cell_type": "code",
      "source": [
        "a = '\\'민지, 화이팅\\''\n",
        "a"
      ],
      "metadata": {
        "colab": {
          "base_uri": "https://localhost:8080/",
          "height": 35
        },
        "id": "HYhPcp_Je_1A",
        "outputId": "e97dccb0-999b-4441-f957-992a3b0ca937"
      },
      "execution_count": null,
      "outputs": [
        {
          "output_type": "execute_result",
          "data": {
            "text/plain": [
              "\"'민지, 화이팅'\""
            ],
            "application/vnd.google.colaboratory.intrinsic+json": {
              "type": "string"
            }
          },
          "metadata": {},
          "execution_count": 16
        }
      ]
    },
    {
      "cell_type": "code",
      "source": [
        "b = \"\\\"민지,화이팅\\\"\"\n",
        "b"
      ],
      "metadata": {
        "colab": {
          "base_uri": "https://localhost:8080/",
          "height": 35
        },
        "id": "9t2RSCJ3fJC4",
        "outputId": "a9f75514-a8d9-4484-823a-8b650743482f"
      },
      "execution_count": null,
      "outputs": [
        {
          "output_type": "execute_result",
          "data": {
            "text/plain": [
              "'\"민지,화이팅\"'"
            ],
            "application/vnd.google.colaboratory.intrinsic+json": {
              "type": "string"
            }
          },
          "metadata": {},
          "execution_count": 17
        }
      ]
    },
    {
      "cell_type": "code",
      "source": [
        "#여러 줄을 하나의 변수에 넣고 싶으면?\n",
        "a = '''\n",
        "민지 정처기\n",
        "민지 정처기 합격\n",
        "'''\n",
        "print(a)"
      ],
      "metadata": {
        "colab": {
          "base_uri": "https://localhost:8080/"
        },
        "id": "jwXpJ-0OfZpy",
        "outputId": "e8deb0ab-2dfb-49cc-fe4a-5cd73cd5db52"
      },
      "execution_count": null,
      "outputs": [
        {
          "output_type": "stream",
          "name": "stdout",
          "text": [
            "\n",
            "민지 정처기\n",
            "민지 정처기 합격 \n",
            "\n"
          ]
        }
      ]
    },
    {
      "cell_type": "code",
      "source": [
        "a = \"\"\"\n",
        "민지 정처기\n",
        "민지 정처기 합격\n",
        "\"\"\"\n",
        "print(a)"
      ],
      "metadata": {
        "colab": {
          "base_uri": "https://localhost:8080/"
        },
        "id": "aQQCWmhGfisf",
        "outputId": "8c164665-ad44-4432-f001-cd2a809347e2"
      },
      "execution_count": null,
      "outputs": [
        {
          "output_type": "stream",
          "name": "stdout",
          "text": [
            " \n",
            "민지 정처기 \n",
            "민지 정처기 합격 \n",
            "\n"
          ]
        }
      ]
    },
    {
      "cell_type": "code",
      "source": [
        "a = '민지, 정처기\\n민지, 합격'\n",
        "print(a) # \\n은 줄바꿈을 의미한"
      ],
      "metadata": {
        "colab": {
          "base_uri": "https://localhost:8080/"
        },
        "id": "pgcWlApOfnml",
        "outputId": "c0f0914d-4f9e-446f-f7b8-90de3eba3037"
      },
      "execution_count": null,
      "outputs": [
        {
          "output_type": "stream",
          "name": "stdout",
          "text": [
            "민지, 정처기\n",
            "민지, 합격\n"
          ]
        }
      ]
    },
    {
      "cell_type": "markdown",
      "source": [
        "## **[2] 문자열 연산**"
      ],
      "metadata": {
        "id": "00pFfrOFf1wz"
      }
    },
    {
      "cell_type": "code",
      "source": [
        "a = '민지, 안녕'\n",
        "b = '합격, 정처기'\n",
        "c = a+b\n",
        "print(c)"
      ],
      "metadata": {
        "colab": {
          "base_uri": "https://localhost:8080/"
        },
        "id": "Tmvs-z1Mfvkk",
        "outputId": "08593edf-84dd-48c9-abbf-786481c3f230"
      },
      "execution_count": null,
      "outputs": [
        {
          "output_type": "stream",
          "name": "stdout",
          "text": [
            "민지, 안녕합격, 정처기\n"
          ]
        }
      ]
    },
    {
      "cell_type": "code",
      "source": [
        "a = '민지, 안녕'\n",
        "b = '합격, 정처기'\n",
        "c = a+ '  ' + b\n",
        "print(c)"
      ],
      "metadata": {
        "colab": {
          "base_uri": "https://localhost:8080/"
        },
        "id": "6RenxPEUgWWP",
        "outputId": "8a6e392b-ea7f-41c7-f4b3-473c584572b1"
      },
      "execution_count": null,
      "outputs": [
        {
          "output_type": "stream",
          "name": "stdout",
          "text": [
            "민지, 안녕  합격, 정처기\n"
          ]
        }
      ]
    },
    {
      "cell_type": "code",
      "source": [
        "a = '민지'\n",
        "print(a*2)"
      ],
      "metadata": {
        "colab": {
          "base_uri": "https://localhost:8080/"
        },
        "id": "KY-oHzxkga-_",
        "outputId": "39808611-64f0-4510-8ceb-dbc2bfeee7da"
      },
      "execution_count": null,
      "outputs": [
        {
          "output_type": "stream",
          "name": "stdout",
          "text": [
            "민지민지\n"
          ]
        }
      ]
    },
    {
      "cell_type": "code",
      "source": [
        "print('-'* 50)\n",
        "print(a)\n",
        "print('-'* 50)"
      ],
      "metadata": {
        "colab": {
          "base_uri": "https://localhost:8080/"
        },
        "id": "HzuoKVLCgeRK",
        "outputId": "0d259303-e4b7-41cc-d7ff-829ca3172fa6"
      },
      "execution_count": null,
      "outputs": [
        {
          "output_type": "stream",
          "name": "stdout",
          "text": [
            "--------------------------------------------------\n",
            "민지\n",
            "--------------------------------------------------\n"
          ]
        }
      ]
    },
    {
      "cell_type": "markdown",
      "source": [
        "## **[3] 인덱싱**\n",
        "- 인덱스는 `[]`를 통해 지정할 수 있으며, 첫 번째 위치는 `0`이고, 맨 마지막 위치는 `-1`로도 표현할 수 있습니다.\n",
        "- `:`를 통해 슬라이싱을 할 수 있습니다.\n",
        " - `변수[시작 인덱스:끝 인덱스:간격]`\n",
        "- 공백도 한 칸을 차지합니다."
      ],
      "metadata": {
        "id": "2MEaG8JXgpbU"
      }
    },
    {
      "cell_type": "code",
      "source": [
        "a = 'Hello, World'\n",
        "print(a[0]) #H\n",
        "print(a[-1]) #d\n",
        "print(a[5]) #,"
      ],
      "metadata": {
        "colab": {
          "base_uri": "https://localhost:8080/"
        },
        "id": "rknW1AshgnUp",
        "outputId": "c3547578-5bf9-4135-e6fc-dd8e58bd8fb2"
      },
      "execution_count": null,
      "outputs": [
        {
          "output_type": "stream",
          "name": "stdout",
          "text": [
            "H\n",
            "d\n",
            ",\n"
          ]
        }
      ]
    },
    {
      "cell_type": "code",
      "source": [
        "print(a[:]) #Hello, World\n",
        "print(a[3:7]) #lo, W\n",
        "print(a[:-1])#Hello, Worl\n",
        "print(a[-5:]) #World"
      ],
      "metadata": {
        "colab": {
          "base_uri": "https://localhost:8080/"
        },
        "id": "uSnxja0hg6Lv",
        "outputId": "7b542253-d1fa-4c0c-cc74-6e06ccc33024"
      },
      "execution_count": null,
      "outputs": [
        {
          "output_type": "stream",
          "name": "stdout",
          "text": [
            "Hello, World\n",
            "lo, \n",
            "Hello, Worl\n",
            "World\n"
          ]
        }
      ]
    },
    {
      "cell_type": "code",
      "source": [
        "print(a[::2]) #두칸씩 띄워서\n",
        "print(a[1:-1:3])#e부터 d까지 3칸씩 띄워서"
      ],
      "metadata": {
        "colab": {
          "base_uri": "https://localhost:8080/"
        },
        "id": "j2mAblr9hJ18",
        "outputId": "9e50ad0a-2798-4ccd-a0c8-22b772a671b9"
      },
      "execution_count": null,
      "outputs": [
        {
          "output_type": "stream",
          "name": "stdout",
          "text": [
            "Hlo ol\n",
            "eoWl\n"
          ]
        }
      ]
    },
    {
      "cell_type": "markdown",
      "source": [
        "## **[4] 문자열 길이 구하기**\n",
        "- `len` 함수를 사용합니다."
      ],
      "metadata": {
        "id": "AVH3VvWphike"
      }
    },
    {
      "cell_type": "code",
      "source": [
        "a = 'Hello, World'\n",
        "len(a)\n"
      ],
      "metadata": {
        "colab": {
          "base_uri": "https://localhost:8080/"
        },
        "id": "k8fHeIhBhhAp",
        "outputId": "1b37e770-f8b8-423a-cfd9-b1b390a6a1fc"
      },
      "execution_count": null,
      "outputs": [
        {
          "output_type": "execute_result",
          "data": {
            "text/plain": [
              "12"
            ]
          },
          "metadata": {},
          "execution_count": 28
        }
      ]
    },
    {
      "cell_type": "code",
      "source": [
        "print(a[len(a)-5:])"
      ],
      "metadata": {
        "colab": {
          "base_uri": "https://localhost:8080/"
        },
        "id": "dz_IpCHRhnC1",
        "outputId": "cd610d49-3119-44ba-9e1d-5b43134bbf5b"
      },
      "execution_count": null,
      "outputs": [
        {
          "output_type": "stream",
          "name": "stdout",
          "text": [
            "World\n"
          ]
        }
      ]
    },
    {
      "cell_type": "markdown",
      "source": [
        "✅ 해석 단계별로 설명\n",
        "1. len(a)\n",
        "문자열 'Hello, World'의 길이는 12\n",
        "\n",
        "인덱스 번호는 0부터 시작:\n",
        "\n",
        "- 인덱스:   0 1 2 3 4 5 6 7 8 9 10 11\n",
        "- 문자:      H e l l o ,   W o  r  l  d\n",
        "2. a[len(a)-5:] → a[7:]\n",
        "len(a) = 12 → len(a) - 5 = 7\n",
        "\n",
        "그래서 a[7:]는 인덱스 7부터 끝까지 잘라낸 문자열이야.\n",
        "\n",
        "인덱스 7 = 'W' → 결과는 'World'\n",
        "\n",
        "- 파이썬에서 문자열의 길이를 셀 때는 공백(스페이스)도 문자로 취급해서 같이 센다"
      ],
      "metadata": {
        "id": "E_jsb_-1h8UE"
      }
    },
    {
      "cell_type": "markdown",
      "source": [
        "## **[5] 문자열과 숫자형의 혼용**\n",
        "- 문자열과 숫자형을 더하면 에러가 납니다.\n",
        "- 숫자형을 문자열으로 변형한 후 더해주어야 합니다.\n",
        " - str(숫자형 변수)"
      ],
      "metadata": {
        "id": "7U1ZP3Axid2D"
      }
    },
    {
      "cell_type": "code",
      "source": [
        "a = 'Number'\n",
        "b = 7\n",
        "print(a, b)"
      ],
      "metadata": {
        "colab": {
          "base_uri": "https://localhost:8080/"
        },
        "id": "PobNDCBUhrHF",
        "outputId": "0e424e87-a08c-41ac-8e7f-26dc4c867922"
      },
      "execution_count": null,
      "outputs": [
        {
          "output_type": "stream",
          "name": "stdout",
          "text": [
            "Number 7\n"
          ]
        }
      ]
    },
    {
      "cell_type": "code",
      "source": [
        "print(a + b) #문자형과 숫자형을 더해줄 경우 변형시켜줘야함"
      ],
      "metadata": {
        "colab": {
          "base_uri": "https://localhost:8080/",
          "height": 141
        },
        "id": "Ge5tXiNEih1n",
        "outputId": "f487c422-d631-421e-85e4-c149b97e310a"
      },
      "execution_count": null,
      "outputs": [
        {
          "output_type": "error",
          "ename": "TypeError",
          "evalue": "can only concatenate str (not \"int\") to str",
          "traceback": [
            "\u001b[0;31m---------------------------------------------------------------------------\u001b[0m",
            "\u001b[0;31mTypeError\u001b[0m                                 Traceback (most recent call last)",
            "\u001b[0;32m<ipython-input-31-0ae8b1612688>\u001b[0m in \u001b[0;36m<cell line: 0>\u001b[0;34m()\u001b[0m\n\u001b[0;32m----> 1\u001b[0;31m \u001b[0mprint\u001b[0m\u001b[0;34m(\u001b[0m\u001b[0ma\u001b[0m \u001b[0;34m+\u001b[0m \u001b[0mb\u001b[0m\u001b[0;34m)\u001b[0m\u001b[0;34m\u001b[0m\u001b[0;34m\u001b[0m\u001b[0m\n\u001b[0m",
            "\u001b[0;31mTypeError\u001b[0m: can only concatenate str (not \"int\") to str"
          ]
        }
      ]
    },
    {
      "cell_type": "code",
      "source": [
        "print(a + str(b)) # 숫자형인 7을 문자형으로 바꿔준거임"
      ],
      "metadata": {
        "colab": {
          "base_uri": "https://localhost:8080/"
        },
        "id": "fo1URP41ijUP",
        "outputId": "b3f33dff-5e72-4c63-8f4e-927495feb91d"
      },
      "execution_count": null,
      "outputs": [
        {
          "output_type": "stream",
          "name": "stdout",
          "text": [
            "Number7\n"
          ]
        }
      ]
    },
    {
      "cell_type": "markdown",
      "source": [
        "- 숫자형을 문자열로 변환할 수 있는 것처럼, 문자열도 숫자형으로 변환할 수 있습니다.\n",
        " - 정수형: `int`\n",
        " - 실수형: `float`"
      ],
      "metadata": {
        "id": "8OK1B79sixcz"
      }
    },
    {
      "cell_type": "code",
      "source": [
        "a = \"12345\"\n",
        "print(int(a) + 1) #\"\" 문자형으로 들어가서 int 정수형으로 바꿔주고 마지막 5+1인 6으로 출력"
      ],
      "metadata": {
        "colab": {
          "base_uri": "https://localhost:8080/"
        },
        "id": "-BxmXqFjisU8",
        "outputId": "c0de1379-0a89-4765-b03b-d905f38196bc"
      },
      "execution_count": null,
      "outputs": [
        {
          "output_type": "stream",
          "name": "stdout",
          "text": [
            "12346\n"
          ]
        }
      ]
    },
    {
      "cell_type": "code",
      "source": [
        "a = \"12345.123\"\n",
        "print(float(a) + 1) #문자형을 실수형으로 만들어준거임"
      ],
      "metadata": {
        "colab": {
          "base_uri": "https://localhost:8080/"
        },
        "id": "paJzw4mpi3sD",
        "outputId": "75f95a79-62b8-43c1-8083-991423e227b1"
      },
      "execution_count": null,
      "outputs": [
        {
          "output_type": "stream",
          "name": "stdout",
          "text": [
            "12346.123\n"
          ]
        }
      ]
    },
    {
      "cell_type": "code",
      "source": [
        "#변환할 수 없는 경우에는 에러가 납니다.\n",
        "a = 'abcd12'#문자열로 묶여있지만 안에는 숫자와 문자가 혼합된 형태 그래서 변환불가\n",
        "int(a)"
      ],
      "metadata": {
        "colab": {
          "base_uri": "https://localhost:8080/",
          "height": 176
        },
        "id": "U4ouNQ6RjBFi",
        "outputId": "1cb69c9f-257c-4e84-c220-fa31e773ccb3"
      },
      "execution_count": null,
      "outputs": [
        {
          "output_type": "error",
          "ename": "ValueError",
          "evalue": "invalid literal for int() with base 10: 'abcd12'",
          "traceback": [
            "\u001b[0;31m---------------------------------------------------------------------------\u001b[0m",
            "\u001b[0;31mValueError\u001b[0m                                Traceback (most recent call last)",
            "\u001b[0;32m<ipython-input-41-b02fa62a14f1>\u001b[0m in \u001b[0;36m<cell line: 0>\u001b[0;34m()\u001b[0m\n\u001b[1;32m      1\u001b[0m \u001b[0;31m#변환할 수 없는 경우에는 에러가 납니다.\u001b[0m\u001b[0;34m\u001b[0m\u001b[0;34m\u001b[0m\u001b[0m\n\u001b[1;32m      2\u001b[0m \u001b[0ma\u001b[0m \u001b[0;34m=\u001b[0m \u001b[0;34m'abcd12'\u001b[0m\u001b[0;31m#문자열로 묶여있지만 안에는 숫자와 문자가 혼합된 형태\u001b[0m\u001b[0;34m\u001b[0m\u001b[0;34m\u001b[0m\u001b[0m\n\u001b[0;32m----> 3\u001b[0;31m \u001b[0mint\u001b[0m\u001b[0;34m(\u001b[0m\u001b[0ma\u001b[0m\u001b[0;34m)\u001b[0m\u001b[0;34m\u001b[0m\u001b[0;34m\u001b[0m\u001b[0m\n\u001b[0m",
            "\u001b[0;31mValueError\u001b[0m: invalid literal for int() with base 10: 'abcd12'"
          ]
        }
      ]
    },
    {
      "cell_type": "code",
      "source": [
        "a = \"12345.123\" # 12346.123\n",
        "print(float(a) + 1)"
      ],
      "metadata": {
        "colab": {
          "base_uri": "https://localhost:8080/"
        },
        "id": "PjIqgfOKkabt",
        "outputId": "69f24802-21ec-4862-9669-a09b8931ca7b"
      },
      "execution_count": null,
      "outputs": [
        {
          "output_type": "stream",
          "name": "stdout",
          "text": [
            "12346.123\n"
          ]
        }
      ]
    },
    {
      "cell_type": "markdown",
      "source": [
        "## **[6] 문자열 포맷팅**\n",
        "- 문자열 안에 어떤 값을 삽입하는 방법"
      ],
      "metadata": {
        "id": "BtGP9-iHkq-T"
      }
    },
    {
      "cell_type": "code",
      "source": [
        "num = 14\n",
        "a = 'My favorite number is {}'.format(num)\n",
        "print(a)"
      ],
      "metadata": {
        "colab": {
          "base_uri": "https://localhost:8080/"
        },
        "id": "xwaHRU65ko-u",
        "outputId": "2e7f43fc-a8cd-4219-f49f-f17679c9b2b2"
      },
      "execution_count": null,
      "outputs": [
        {
          "output_type": "stream",
          "name": "stdout",
          "text": [
            "My favorite number is 14\n"
          ]
        }
      ]
    },
    {
      "cell_type": "markdown",
      "source": [
        "# ✅ str.format() 방식\n",
        "- 중괄호 {}에 값이 들어감\n",
        "\n",
        "- .format()에 여러 값을 넣을 수도 있음\n",
        "\n"
      ],
      "metadata": {
        "id": "_wO4ugmQlSy3"
      }
    },
    {
      "cell_type": "code",
      "source": [
        "#str.format()\n",
        "score = 80\n",
        "a = '내일 정처기 {}점으로 합격한다'.format(score)\n",
        "print(a)"
      ],
      "metadata": {
        "colab": {
          "base_uri": "https://localhost:8080/"
        },
        "id": "IwZJnZP0kv4d",
        "outputId": "693f4362-ea42-47de-ad9e-69ac2fc1355e"
      },
      "execution_count": null,
      "outputs": [
        {
          "output_type": "stream",
          "name": "stdout",
          "text": [
            "내일 정처기 80점으로 합격한다\n"
          ]
        }
      ]
    },
    {
      "cell_type": "markdown",
      "source": [
        "✅ f-string 방식 (파이썬 3.6 이상에서 지원)\n",
        "- 문자열 앞에 f를 붙이고\n",
        "\n",
        "- {} 안에 변수나 표현식을 직접 넣을 수 있어\n",
        "\n",
        "- 더 간결하고 읽기 쉬움 → 실무에서도 더 선호됨"
      ],
      "metadata": {
        "id": "EM7VtLJIlYr8"
      }
    },
    {
      "cell_type": "code",
      "source": [
        "#f스트링\n",
        "num = 14\n",
        "a = f'My favorite number is {num}'\n",
        "print(a)"
      ],
      "metadata": {
        "colab": {
          "base_uri": "https://localhost:8080/"
        },
        "id": "OGcBldHzk9js",
        "outputId": "c912d1c2-fbd6-496e-b409-e1ff1c79a65c"
      },
      "execution_count": null,
      "outputs": [
        {
          "output_type": "stream",
          "name": "stdout",
          "text": [
            "My favorite number is 14\n"
          ]
        }
      ]
    },
    {
      "cell_type": "code",
      "source": [
        "score = 80\n",
        "a = f'내일 정처기 {score}점으로 합격한다'\n",
        "print(a)"
      ],
      "metadata": {
        "colab": {
          "base_uri": "https://localhost:8080/"
        },
        "id": "EFICefWLlCPQ",
        "outputId": "de9bae9b-4240-46a6-9d0f-ec027aaaede7"
      },
      "execution_count": null,
      "outputs": [
        {
          "output_type": "stream",
          "name": "stdout",
          "text": [
            "내일 정처기 80점으로 합격한다\n"
          ]
        }
      ]
    },
    {
      "cell_type": "code",
      "source": [
        "#.format 방식\n",
        "num1 = 14\n",
        "num2 = 17\n",
        "a = 'My favorite numbers are {} and {}'.format(num1, num2)\n",
        "print(a)"
      ],
      "metadata": {
        "colab": {
          "base_uri": "https://localhost:8080/"
        },
        "id": "kdQRqK6RlkMm",
        "outputId": "5b5090d1-76de-4bc2-cc4b-fd5d070dedc8"
      },
      "execution_count": null,
      "outputs": [
        {
          "output_type": "stream",
          "name": "stdout",
          "text": [
            "My favorite numbers are 14 and 17\n"
          ]
        }
      ]
    },
    {
      "cell_type": "code",
      "source": [
        "#.format()\n",
        "score1 = 65\n",
        "score2 = 75\n",
        "a = '내일 정처기 최소{}점 최대{}점으로 합격한다'.format(score1,score2)\n",
        "print(a)"
      ],
      "metadata": {
        "colab": {
          "base_uri": "https://localhost:8080/"
        },
        "id": "lTW7KnO2lm0d",
        "outputId": "fcacb105-88e8-45c3-eb41-5c01688a9528"
      },
      "execution_count": null,
      "outputs": [
        {
          "output_type": "stream",
          "name": "stdout",
          "text": [
            "내일 정처기 최소65점 최대75점으로 합격한다\n"
          ]
        }
      ]
    },
    {
      "cell_type": "code",
      "source": [
        "#f-string\n",
        "score1 = 65\n",
        "score2 = 75\n",
        "a = f'내일 정처기 최소{score1}점 최대{score2}점으로 합격한다'\n",
        "print(a)"
      ],
      "metadata": {
        "colab": {
          "base_uri": "https://localhost:8080/"
        },
        "id": "QAQL6DFjl9FS",
        "outputId": "070628e8-70ad-40d9-85c5-6648e50ea335"
      },
      "execution_count": null,
      "outputs": [
        {
          "output_type": "stream",
          "name": "stdout",
          "text": [
            "내일 정처기 최소65점 최대75점으로 합격한다\n"
          ]
        }
      ]
    },
    {
      "cell_type": "code",
      "source": [
        "color = 'blue'\n",
        "a = f'My favorite color is {color}'\n",
        "print(a)"
      ],
      "metadata": {
        "colab": {
          "base_uri": "https://localhost:8080/"
        },
        "id": "wxtPpprYmFle",
        "outputId": "76d79a5c-66a8-4576-9841-f94da9e779ae"
      },
      "execution_count": null,
      "outputs": [
        {
          "output_type": "stream",
          "name": "stdout",
          "text": [
            "My favorite color is blue\n"
          ]
        }
      ]
    },
    {
      "cell_type": "code",
      "source": [
        "color = 'pink'\n",
        "a = f'내가 가장 좋아하는 색깔은 {color}야'\n",
        "print(a)"
      ],
      "metadata": {
        "colab": {
          "base_uri": "https://localhost:8080/"
        },
        "id": "34acWu6fmOex",
        "outputId": "077e970c-5779-44d6-e813-ff19ec745034"
      },
      "execution_count": null,
      "outputs": [
        {
          "output_type": "stream",
          "name": "stdout",
          "text": [
            "내가 가장 좋아하는 색깔은 pink야\n"
          ]
        }
      ]
    },
    {
      "cell_type": "markdown",
      "source": [
        "## **[7] 문자열 함수**\n",
        "- `upper`: 대문자로 변환한 값을 출력\n",
        "- `lower`: 소문자로 변환한 값을 출력\n",
        "- `lstrip, rstrip, strip`: 공백 제거한 값을 출력\n",
        "- `count`: 문자열 안의 특정 문자열 개수 세기\n",
        "- `find`: 문자열 안의 특정 문자열이 처음 나온 위치 반환\n",
        " - 문자열이 없으면 -1을 반환\n",
        "- `index`: `find`와 같으나 문자열이 없으면 오류 발생\n",
        "- `join`: 특정 문자열을 각각의 문자 사이에 삽입하여 출력\n",
        "- `split`: 특정 문자열을 기준으로 문자열을 나눈 값을 출력\n",
        "- `replace`: 특정 문자열을 특정 문자열로 반환\n",
        "- `startswith, endswith`: 특정 문자열로 시작하는지/끝나는지 확인"
      ],
      "metadata": {
        "id": "pSxXjqA0mbKY"
      }
    },
    {
      "cell_type": "code",
      "source": [
        "### upper, lower\n",
        "a = 'meanji'\n",
        "a.upper()"
      ],
      "metadata": {
        "colab": {
          "base_uri": "https://localhost:8080/",
          "height": 35
        },
        "id": "i5eYF4e4mXVX",
        "outputId": "57a77d9b-a8a1-4e1d-d90d-3e26beeb40e5"
      },
      "execution_count": null,
      "outputs": [
        {
          "output_type": "execute_result",
          "data": {
            "text/plain": [
              "'MEANJI'"
            ],
            "application/vnd.google.colaboratory.intrinsic+json": {
              "type": "string"
            }
          },
          "metadata": {},
          "execution_count": 56
        }
      ]
    },
    {
      "cell_type": "code",
      "source": [
        "a.lower()"
      ],
      "metadata": {
        "colab": {
          "base_uri": "https://localhost:8080/",
          "height": 35
        },
        "id": "XVixJZdXmmJc",
        "outputId": "87004a11-ab21-4568-fd10-b665639fb7bf"
      },
      "execution_count": null,
      "outputs": [
        {
          "output_type": "execute_result",
          "data": {
            "text/plain": [
              "'meanji'"
            ],
            "application/vnd.google.colaboratory.intrinsic+json": {
              "type": "string"
            }
          },
          "metadata": {},
          "execution_count": 57
        }
      ]
    },
    {
      "cell_type": "code",
      "source": [
        "a = '      안녕 meanji'\n",
        "a.lstrip()"
      ],
      "metadata": {
        "colab": {
          "base_uri": "https://localhost:8080/",
          "height": 35
        },
        "id": "KcM6gcNlmpzU",
        "outputId": "16ee5888-1175-4129-f9ca-02a4c9835391"
      },
      "execution_count": null,
      "outputs": [
        {
          "output_type": "execute_result",
          "data": {
            "text/plain": [
              "'안녕 meanji'"
            ],
            "application/vnd.google.colaboratory.intrinsic+json": {
              "type": "string"
            }
          },
          "metadata": {},
          "execution_count": 58
        }
      ]
    },
    {
      "cell_type": "code",
      "source": [
        "a = '안녕 meanji            '\n",
        "a.rstrip()"
      ],
      "metadata": {
        "colab": {
          "base_uri": "https://localhost:8080/",
          "height": 35
        },
        "id": "4vJIcCeAmvXr",
        "outputId": "19c6c2d7-6186-44d5-b80f-4872cc5c7d23"
      },
      "execution_count": null,
      "outputs": [
        {
          "output_type": "execute_result",
          "data": {
            "text/plain": [
              "'안녕 meanji'"
            ],
            "application/vnd.google.colaboratory.intrinsic+json": {
              "type": "string"
            }
          },
          "metadata": {},
          "execution_count": 59
        }
      ]
    },
    {
      "cell_type": "code",
      "source": [
        "a = '      안녕 meanji          '\n",
        "a.strip()"
      ],
      "metadata": {
        "colab": {
          "base_uri": "https://localhost:8080/",
          "height": 35
        },
        "id": "FUhgftv8my8I",
        "outputId": "717f8b45-e7a2-4b0e-9731-816af510478e"
      },
      "execution_count": null,
      "outputs": [
        {
          "output_type": "execute_result",
          "data": {
            "text/plain": [
              "'안녕 meanji'"
            ],
            "application/vnd.google.colaboratory.intrinsic+json": {
              "type": "string"
            }
          },
          "metadata": {},
          "execution_count": 60
        }
      ]
    },
    {
      "cell_type": "code",
      "source": [
        "### count()\n",
        "a = 'meanji dariy'\n",
        "a.count('a')"
      ],
      "metadata": {
        "colab": {
          "base_uri": "https://localhost:8080/"
        },
        "id": "XIv9Z7DIm4G3",
        "outputId": "b25808a8-e7d1-43eb-8266-caf37ebc2ef4"
      },
      "execution_count": null,
      "outputs": [
        {
          "output_type": "execute_result",
          "data": {
            "text/plain": [
              "2"
            ]
          },
          "metadata": {},
          "execution_count": 63
        }
      ]
    },
    {
      "cell_type": "code",
      "source": [
        "### find,index\n",
        "a. find('e')"
      ],
      "metadata": {
        "colab": {
          "base_uri": "https://localhost:8080/"
        },
        "id": "QLSyaab-nGZc",
        "outputId": "1b346662-99e6-4276-b20b-082b53a549f4"
      },
      "execution_count": null,
      "outputs": [
        {
          "output_type": "execute_result",
          "data": {
            "text/plain": [
              "1"
            ]
          },
          "metadata": {},
          "execution_count": 64
        }
      ]
    },
    {
      "cell_type": "code",
      "source": [
        "a[a.find('e')]"
      ],
      "metadata": {
        "colab": {
          "base_uri": "https://localhost:8080/",
          "height": 35
        },
        "id": "2iaQ17HSnN9l",
        "outputId": "3d0f0285-2343-4d64-c8b2-12bc244487d2"
      },
      "execution_count": null,
      "outputs": [
        {
          "output_type": "execute_result",
          "data": {
            "text/plain": [
              "'e'"
            ],
            "application/vnd.google.colaboratory.intrinsic+json": {
              "type": "string"
            }
          },
          "metadata": {},
          "execution_count": 65
        }
      ]
    },
    {
      "cell_type": "code",
      "source": [
        "a.find('d')"
      ],
      "metadata": {
        "colab": {
          "base_uri": "https://localhost:8080/"
        },
        "id": "EudCxf7ZnSVA",
        "outputId": "a2f7fd37-cfb2-4aa4-f1c5-da1375093822"
      },
      "execution_count": null,
      "outputs": [
        {
          "output_type": "execute_result",
          "data": {
            "text/plain": [
              "7"
            ]
          },
          "metadata": {},
          "execution_count": 67
        }
      ]
    },
    {
      "cell_type": "code",
      "source": [
        "a[a.find('d')]"
      ],
      "metadata": {
        "colab": {
          "base_uri": "https://localhost:8080/",
          "height": 35
        },
        "id": "F3jed6uAnUw7",
        "outputId": "9f6692ba-ec7b-4783-91ad-e256ea6b8d48"
      },
      "execution_count": null,
      "outputs": [
        {
          "output_type": "execute_result",
          "data": {
            "text/plain": [
              "'d'"
            ],
            "application/vnd.google.colaboratory.intrinsic+json": {
              "type": "string"
            }
          },
          "metadata": {},
          "execution_count": 68
        }
      ]
    },
    {
      "cell_type": "code",
      "source": [
        "a.find('i')"
      ],
      "metadata": {
        "colab": {
          "base_uri": "https://localhost:8080/"
        },
        "id": "V6oTFWS3nYg-",
        "outputId": "167ca528-78be-4ae8-ba0a-d92b28f4e4fe"
      },
      "execution_count": null,
      "outputs": [
        {
          "output_type": "execute_result",
          "data": {
            "text/plain": [
              "5"
            ]
          },
          "metadata": {},
          "execution_count": 69
        }
      ]
    },
    {
      "cell_type": "code",
      "source": [
        "### join,split\n",
        "\",\".join('민지')"
      ],
      "metadata": {
        "colab": {
          "base_uri": "https://localhost:8080/",
          "height": 35
        },
        "id": "cDesmK-anazi",
        "outputId": "eb5b78b4-0cff-4ee9-8480-7f6e4cd9e08f"
      },
      "execution_count": null,
      "outputs": [
        {
          "output_type": "execute_result",
          "data": {
            "text/plain": [
              "'민,지'"
            ],
            "application/vnd.google.colaboratory.intrinsic+json": {
              "type": "string"
            }
          },
          "metadata": {},
          "execution_count": 70
        }
      ]
    },
    {
      "cell_type": "code",
      "source": [
        "\"\".join('민지')"
      ],
      "metadata": {
        "colab": {
          "base_uri": "https://localhost:8080/",
          "height": 35
        },
        "id": "N9yQ1pG_nf5a",
        "outputId": "f4da432e-8f52-46b8-e6ee-b54f3fa529c6"
      },
      "execution_count": null,
      "outputs": [
        {
          "output_type": "execute_result",
          "data": {
            "text/plain": [
              "'민지'"
            ],
            "application/vnd.google.colaboratory.intrinsic+json": {
              "type": "string"
            }
          },
          "metadata": {},
          "execution_count": 72
        }
      ]
    },
    {
      "cell_type": "code",
      "source": [
        "\"\".join(['민지','정처기','합격','기원'])"
      ],
      "metadata": {
        "colab": {
          "base_uri": "https://localhost:8080/",
          "height": 35
        },
        "id": "uOnGyq3znktl",
        "outputId": "d993ec57-f370-483a-8d80-2923de4c8c2b"
      },
      "execution_count": null,
      "outputs": [
        {
          "output_type": "execute_result",
          "data": {
            "text/plain": [
              "'민지정처기합격기원'"
            ],
            "application/vnd.google.colaboratory.intrinsic+json": {
              "type": "string"
            }
          },
          "metadata": {},
          "execution_count": 76
        }
      ]
    },
    {
      "cell_type": "code",
      "source": [
        "a='5월15일,민지는,정처기,합격한다'\n",
        "a.split(',')"
      ],
      "metadata": {
        "colab": {
          "base_uri": "https://localhost:8080/"
        },
        "id": "FFvWDHhCn6aX",
        "outputId": "813ceb6d-f2e3-489d-bb5f-84ee837c5ec3"
      },
      "execution_count": null,
      "outputs": [
        {
          "output_type": "execute_result",
          "data": {
            "text/plain": [
              "['5월15일', '민지는', '정처기', '합격한다']"
            ]
          },
          "metadata": {},
          "execution_count": 79
        }
      ]
    },
    {
      "cell_type": "code",
      "source": [
        "a='5월15일.민지는.정처기.합격한다'\n",
        "a.split('.')"
      ],
      "metadata": {
        "colab": {
          "base_uri": "https://localhost:8080/"
        },
        "id": "-fO3LpjLoENo",
        "outputId": "fa1a4eaa-9a4a-4821-c7de-84d9c0f968b1"
      },
      "execution_count": null,
      "outputs": [
        {
          "output_type": "execute_result",
          "data": {
            "text/plain": [
              "['5월15일', '민지는', '정처기', '합격한다']"
            ]
          },
          "metadata": {},
          "execution_count": 81
        }
      ]
    },
    {
      "cell_type": "code",
      "source": [
        "### replace\n",
        "a =\"Python is difficult\"\n",
        "a.replace('difficult','easy')"
      ],
      "metadata": {
        "colab": {
          "base_uri": "https://localhost:8080/",
          "height": 35
        },
        "id": "wFUAa3lZoPQ6",
        "outputId": "c15edc9a-2639-4ddd-95db-d34a73bf3014"
      },
      "execution_count": null,
      "outputs": [
        {
          "output_type": "execute_result",
          "data": {
            "text/plain": [
              "'Python is easy'"
            ],
            "application/vnd.google.colaboratory.intrinsic+json": {
              "type": "string"
            }
          },
          "metadata": {},
          "execution_count": 83
        }
      ]
    },
    {
      "cell_type": "markdown",
      "source": [
        "✅ startswith() 함수란?\n",
        "\n",
        "- 문자열.startswith(찾을_문자열)\n",
        "- 문자열이 특정 문자열로 시작하는지 확인하는 함수야.\n",
        "\n",
        "- 결과는 **True 또는 False (불리언 값)**로 나와."
      ],
      "metadata": {
        "id": "7z6DUEYeo73Z"
      }
    },
    {
      "cell_type": "code",
      "source": [
        "### startswith, endswith\n",
        "a = 'data_20231101.csv'\n",
        "a.startswith('data')"
      ],
      "metadata": {
        "colab": {
          "base_uri": "https://localhost:8080/"
        },
        "id": "7RcuHhtcodrd",
        "outputId": "59c664ca-ec47-46fa-afdb-497e35f271d3"
      },
      "execution_count": null,
      "outputs": [
        {
          "output_type": "execute_result",
          "data": {
            "text/plain": [
              "True"
            ]
          },
          "metadata": {},
          "execution_count": 85
        }
      ]
    },
    {
      "cell_type": "code",
      "source": [
        "a = 'data_20231101.csv'\n",
        "a.startswith('meanji') # a에 meanji라는 문자열로 시작하지 않으니까 false인거임"
      ],
      "metadata": {
        "colab": {
          "base_uri": "https://localhost:8080/"
        },
        "id": "DdEd91KCpPxZ",
        "outputId": "13500d58-c82d-4334-f58b-9acc8bfe8917"
      },
      "execution_count": null,
      "outputs": [
        {
          "output_type": "execute_result",
          "data": {
            "text/plain": [
              "False"
            ]
          },
          "metadata": {},
          "execution_count": 88
        }
      ]
    },
    {
      "cell_type": "code",
      "source": [
        "a = 'data_20231101.csv'\n",
        "a.endswith('csv')"
      ],
      "metadata": {
        "colab": {
          "base_uri": "https://localhost:8080/"
        },
        "id": "569mMdTmopZZ",
        "outputId": "345e9ab5-161f-4fde-a5b3-b955627a88cf"
      },
      "execution_count": null,
      "outputs": [
        {
          "output_type": "execute_result",
          "data": {
            "text/plain": [
              "True"
            ]
          },
          "metadata": {},
          "execution_count": 86
        }
      ]
    },
    {
      "cell_type": "code",
      "source": [
        "a = 'data_20231101.csv'\n",
        "a.endswith('meanji') #a에 meanji라는 문자로 끝나지 않으니까 false"
      ],
      "metadata": {
        "colab": {
          "base_uri": "https://localhost:8080/"
        },
        "id": "oEQzSoX-oz4x",
        "outputId": "9f737b1c-f097-47e7-a359-c988166b3ddd"
      },
      "execution_count": null,
      "outputs": [
        {
          "output_type": "execute_result",
          "data": {
            "text/plain": [
              "False"
            ]
          },
          "metadata": {},
          "execution_count": 87
        }
      ]
    },
    {
      "cell_type": "markdown",
      "source": [
        "## **[8] `input` 함수**\n",
        "- `변수 = input()` 의 형식으로 변수에 들어갈 값을 입력받을 수 있다.\n",
        "- 변수 = input('입력 받을 때 띄우고 싶은 말')\n",
        "- 변수의 타입은 기본적으로 문자열이고, input 앞에 타입 변환 함수를 씌우면 타입을 변경할 수 있다."
      ],
      "metadata": {
        "id": "DqcZY6ifpXct"
      }
    },
    {
      "cell_type": "code",
      "source": [
        "x = input()"
      ],
      "metadata": {
        "colab": {
          "base_uri": "https://localhost:8080/"
        },
        "id": "E9mRdDxKpFPw",
        "outputId": "5d6ec5dd-6b14-4ee5-9507-390ab594b3f5"
      },
      "execution_count": null,
      "outputs": [
        {
          "name": "stdout",
          "output_type": "stream",
          "text": [
            "10\n"
          ]
        }
      ]
    },
    {
      "cell_type": "code",
      "source": [
        "print(x)"
      ],
      "metadata": {
        "colab": {
          "base_uri": "https://localhost:8080/"
        },
        "id": "VnYmRf29pcgh",
        "outputId": "e85a19ce-81ed-47ee-eb35-440f1a4292d1"
      },
      "execution_count": null,
      "outputs": [
        {
          "output_type": "stream",
          "name": "stdout",
          "text": [
            "10\n"
          ]
        }
      ]
    },
    {
      "cell_type": "code",
      "source": [
        "x = input('10보다 작은 정수를 입력하세요. ')"
      ],
      "metadata": {
        "colab": {
          "base_uri": "https://localhost:8080/"
        },
        "id": "YZn9VUSQpfBg",
        "outputId": "748c6eed-faa0-45be-f341-3c15d28f8ccb"
      },
      "execution_count": null,
      "outputs": [
        {
          "name": "stdout",
          "output_type": "stream",
          "text": [
            "10보다 작은 정수를 입력하세요. 15\n"
          ]
        }
      ]
    },
    {
      "cell_type": "code",
      "source": [
        "type(x)"
      ],
      "metadata": {
        "colab": {
          "base_uri": "https://localhost:8080/"
        },
        "id": "k9KaL6JYpmv-",
        "outputId": "73cf984a-cf2c-40a8-a326-22ff09f46e70"
      },
      "execution_count": null,
      "outputs": [
        {
          "output_type": "execute_result",
          "data": {
            "text/plain": [
              "str"
            ]
          },
          "metadata": {},
          "execution_count": 92
        }
      ]
    },
    {
      "cell_type": "markdown",
      "source": [
        "### [9] 연습문제\n",
        "### 1. 아래와 같이 변수가 정의되어 있을 때, 두 변수를 이용하여 `hello python hello python hello python` 이라는 값을 출력해보세요.\n",
        "   -  h = 'hello'\n",
        "    - t = 'python'\n",
        "\n",
        "### 2. 아래 문자열을 거꾸로 뒤집어 출력하세요.\n",
        "    -  s = 'hello python'\n",
        "\n",
        "### 3. 아래와 같이 변수가 정의되어 있을 때, 두 변수를 이용하여 hello!! PYTHON이라는 값을 출력해보세요.\n",
        "    - h = 'Hello'\n",
        "    - t = 'python\n",
        "### 4. 아래 문자열을 숫자형으로 변환해보세요.\n",
        "   -  a = '1,123,234,622,234'\n",
        "### 5. 아래의 변수는 김철수씨의 생년월일입니다. 해당 변수와 포맷팅을 사용하여 아래 글의 빈칸을 채워 출력해보세요.\n",
        "    - 김철수씨는 {}년생으로, {}월 {}일이 생일입니다. 김철수씨의 생년월일에는 1이 {}번 들어갑니다.\n",
        "    - id_num = '19971012'"
      ],
      "metadata": {
        "id": "nDNoAccypsEN"
      }
    },
    {
      "cell_type": "code",
      "source": [
        "# 1. 아래와 같이 변수가 정의되어 있을 때,\n",
        "# 두 변수를 이용하여 hello python hello python hello python 이라는 값을 출력해보세요.\n",
        "# h = 'hello'\n",
        "# t = 'python'\n",
        "h= 'hello'\n",
        "t = 'python'\n",
        "print(h,t,h,t,h,t)\n",
        "print()"
      ],
      "metadata": {
        "colab": {
          "base_uri": "https://localhost:8080/"
        },
        "id": "oCPX_X7fpp7y",
        "outputId": "50113f50-813e-41c8-d5c3-6242a417d672"
      },
      "execution_count": null,
      "outputs": [
        {
          "output_type": "stream",
          "name": "stdout",
          "text": [
            "hello python hello python hello python\n",
            "\n"
          ]
        }
      ]
    },
    {
      "cell_type": "code",
      "source": [
        "# 강사님 ver\n",
        "#  hello python hello python hello python\n",
        "h = 'hello'\n",
        "t = 'python'\n",
        "\n",
        "a = h + ' '+ t + ' '\n",
        "b = a * 3\n",
        "b[:-1]"
      ],
      "metadata": {
        "colab": {
          "base_uri": "https://localhost:8080/",
          "height": 35
        },
        "id": "J56cHfQ1JlWV",
        "outputId": "4f26158c-bbe4-454d-8d42-9fff94276f8a"
      },
      "execution_count": 137,
      "outputs": [
        {
          "output_type": "execute_result",
          "data": {
            "text/plain": [
              "'hello python hello python hello python'"
            ],
            "application/vnd.google.colaboratory.intrinsic+json": {
              "type": "string"
            }
          },
          "metadata": {},
          "execution_count": 137
        }
      ]
    },
    {
      "cell_type": "code",
      "source": [
        "# 2. 아래 문자열을 거꾸로 뒤집어 출력하세요.\n",
        "# -  s = 'hello python'\n",
        "#내가 준 힌트 []\n",
        "s= 'hello python'\n",
        "print(s[::-1])"
      ],
      "metadata": {
        "colab": {
          "base_uri": "https://localhost:8080/"
        },
        "id": "79eUXB3MqarD",
        "outputId": "9e0c6f5e-5609-4582-ba7b-7d89ce6985a5"
      },
      "execution_count": null,
      "outputs": [
        {
          "output_type": "stream",
          "name": "stdout",
          "text": [
            "nohtyp olleh\n"
          ]
        }
      ]
    },
    {
      "cell_type": "markdown",
      "source": [
        "문자열 슬라이싱 문법:\n",
        "- 문자열[start:stop:step]\n",
        "    - start: 어디서부터 자를지 (생략하면 처음부터)\n",
        "\n",
        "    - stop: 어디까지 자를지 (생략하면 끝까지)\n",
        "\n",
        "    - step: 얼마나 건너뛸지 → 음수면 역방향"
      ],
      "metadata": {
        "id": "qs_oYDiXre3x"
      }
    },
    {
      "cell_type": "code",
      "source": [
        "# 3. 아래와 같이 변수가 정의되어 있을 때, 두 변수를 이용하여\n",
        "# hello!! PYTHON이라는 값을 출력해보세요.\n",
        "# - h = 'Hello'\n",
        "# - t = 'python\n",
        "\n",
        "h = 'Hello'\n",
        "t = 'python'\n",
        "h.lower() + '!!'+t.upper()"
      ],
      "metadata": {
        "colab": {
          "base_uri": "https://localhost:8080/",
          "height": 35
        },
        "id": "aDx7-PSdq4Rj",
        "outputId": "7a986534-af93-4b0f-b7f5-c8bf7f1f44fd"
      },
      "execution_count": 138,
      "outputs": [
        {
          "output_type": "execute_result",
          "data": {
            "text/plain": [
              "'hello!!PYTHON'"
            ],
            "application/vnd.google.colaboratory.intrinsic+json": {
              "type": "string"
            }
          },
          "metadata": {},
          "execution_count": 138
        }
      ]
    },
    {
      "cell_type": "code",
      "source": [
        "# 4. 아래 문자열을 숫자형으로 변환해보세요.### 다시 꼭해보기\n",
        "# a = '1,123,234,622,234'\n",
        "a = '1,123,234,622,234'\n",
        "a = a.replace(',','')\n",
        "print(int(a))"
      ],
      "metadata": {
        "colab": {
          "base_uri": "https://localhost:8080/"
        },
        "id": "qfnz5PPGr56f",
        "outputId": "392db2da-0fd5-445b-ad90-0259c504bf66"
      },
      "execution_count": null,
      "outputs": [
        {
          "output_type": "stream",
          "name": "stdout",
          "text": [
            "1123234622234\n"
          ]
        }
      ]
    },
    {
      "cell_type": "code",
      "source": [
        "#강사님 ver\n",
        "# 4. 아래 문자열을 숫자형으로 변환해보세요라는 문제에서\n",
        "# 형변환할 때 int or float (a)이렇게 감싸주면 되는데\n",
        "# 지금은 콤마가 있어서 바로 숫자형으로 바꾸지 못해서\n",
        "# 콤마를 공백으로 바꿔줘\n",
        "a = '1,123,234,622,234'\n",
        "b= a.replace(',','')\n",
        "c= int(b)\n",
        "print(c)\n",
        "type(c)"
      ],
      "metadata": {
        "colab": {
          "base_uri": "https://localhost:8080/"
        },
        "id": "gcWKRP_DKdRB",
        "outputId": "f93aa04b-b070-4075-e3bc-5cfd016aaaa8"
      },
      "execution_count": 144,
      "outputs": [
        {
          "output_type": "stream",
          "name": "stdout",
          "text": [
            "1123234622234\n"
          ]
        },
        {
          "output_type": "execute_result",
          "data": {
            "text/plain": [
              "int"
            ]
          },
          "metadata": {},
          "execution_count": 144
        }
      ]
    },
    {
      "cell_type": "code",
      "source": [
        "# 5. 아래의 변수는 김철수씨의 생년월일입니다.\n",
        "# 해당 변수와 포맷팅을 사용하여 아래 글의 빈칸을 채워 출력해보세요.\n",
        "# 김철수씨는 {}년생으로, {}월 {}일이 생일입니다. 김철수씨의 생년월일에는\n",
        "# 1이 {}번 들어갑니다.\n",
        "# id_num = '19971012'\n",
        "year = 1997\n",
        "month = 10\n",
        "date = 12\n",
        "id_num=\"19971012\" #19971012를 \"\"로 묶는 이유는 정수에선 count() 함수 사용불가능하거든\n",
        "count=id_num.count('1') #count함수 사용하기 위해선 str형이어야함\n",
        "a =f'김철수씨는 {year}년생으로, {month}월 {date}일이 생일입니다. 김철수씨의 생년월일에는 1일{count}번 들어갑니다'\n",
        "a\n"
      ],
      "metadata": {
        "colab": {
          "base_uri": "https://localhost:8080/",
          "height": 35
        },
        "id": "LKHnlGF9sPIg",
        "outputId": "1627bc35-d02d-436e-9e08-028d44814875"
      },
      "execution_count": 152,
      "outputs": [
        {
          "output_type": "execute_result",
          "data": {
            "text/plain": [
              "'김철수씨는 1997년생으로, 10월 12일이 생일입니다. 김철수씨의 생년월일에는 1일3번 들어갑니다'"
            ],
            "application/vnd.google.colaboratory.intrinsic+json": {
              "type": "string"
            }
          },
          "metadata": {},
          "execution_count": 152
        }
      ]
    },
    {
      "cell_type": "code",
      "source": [
        "### 강사님 버전\n",
        "id_num= '19971012'\n",
        "year = id_num[:4]\n",
        "month = id_num[4:6]\n",
        "day = id_num[6:]"
      ],
      "metadata": {
        "id": "73cojwYBupZ7"
      },
      "execution_count": 149,
      "outputs": []
    },
    {
      "cell_type": "code",
      "source": [
        "cnt = id_num.count('1')"
      ],
      "metadata": {
        "id": "brjCsaomLVdp"
      },
      "execution_count": 151,
      "outputs": []
    },
    {
      "cell_type": "code",
      "source": [
        "f'김철수씨는 {year}년생으로, {month}월 {day}일이 생일입니다. 김철수 씨의 생년월일에는 1이 {cnt}번 들어갑니다 '"
      ],
      "metadata": {
        "colab": {
          "base_uri": "https://localhost:8080/",
          "height": 35
        },
        "id": "LCkxXPEgLYax",
        "outputId": "dee5d55b-a48a-4197-87f6-fafffecd8021"
      },
      "execution_count": 153,
      "outputs": [
        {
          "output_type": "execute_result",
          "data": {
            "text/plain": [
              "'김철수씨는 1997년생으로, 10월 12일이 생일입니다. 김철수 씨의 생년월일에는 1이 3번 들어갑니다 '"
            ],
            "application/vnd.google.colaboratory.intrinsic+json": {
              "type": "string"
            }
          },
          "metadata": {},
          "execution_count": 153
        }
      ]
    },
    {
      "cell_type": "code",
      "source": [
        ""
      ],
      "metadata": {
        "id": "ELvSXYAZLw9s"
      },
      "execution_count": null,
      "outputs": []
    }
  ]
}