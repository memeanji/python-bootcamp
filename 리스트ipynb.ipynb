{
  "nbformat": 4,
  "nbformat_minor": 0,
  "metadata": {
    "colab": {
      "provenance": [],
      "authorship_tag": "ABX9TyNh6uaHhUTiotRbxDqF7HFh",
      "include_colab_link": true
    },
    "kernelspec": {
      "name": "python3",
      "display_name": "Python 3"
    },
    "language_info": {
      "name": "python"
    }
  },
  "cells": [
    {
      "cell_type": "markdown",
      "metadata": {
        "id": "view-in-github",
        "colab_type": "text"
      },
      "source": [
        "<a href=\"https://colab.research.google.com/github/memeanji/python-bootcamp/blob/main/%EB%A6%AC%EC%8A%A4%ED%8A%B8ipynb.ipynb\" target=\"_parent\"><img src=\"https://colab.research.google.com/assets/colab-badge.svg\" alt=\"Open In Colab\"/></a>"
      ]
    },
    {
      "cell_type": "markdown",
      "source": [
        "# **리스트(list)**\n",
        "\n",
        "\n",
        "---\n",
        "[1] 리스트란?\n",
        "- 요소들의 모음을 나타내는 자료형\n",
        "- 요소들을 대괄호([])로 감싸주어 만들 수 있습니다.\n",
        "- 모든 자료형을 리스트의 요소로 담을 수 있습니다.\n",
        "- 값의 순서가 있고, 인덱스로 접근함\n",
        "- 안에 어떤 타입이든 넣을 수 있음 (숫자, 문자열, 또 다른 리스트 등)"
      ],
      "metadata": {
        "id": "c5Z_JXSV6XFg"
      }
    },
    {
      "cell_type": "code",
      "execution_count": 1,
      "metadata": {
        "colab": {
          "base_uri": "https://localhost:8080/"
        },
        "id": "eqGiEsK56UVL",
        "outputId": "d4a505d0-d56b-4e2d-b89f-73220475dc60"
      },
      "outputs": [
        {
          "output_type": "stream",
          "name": "stdout",
          "text": [
            "[1, 2, 3, 4, 5] <class 'list'>\n",
            "['life', 'is', 'too', 'short'] <class 'list'>\n",
            "[1, 2, 'life', 'is'] <class 'list'>\n",
            "[1, 2, ['life', 'is', ['too', 'short']]] <class 'list'>\n"
          ]
        }
      ],
      "source": [
        "a = [1,2,3,4,5]\n",
        "b = ['life','is','too','short']\n",
        "c = [1,2,'life','is']\n",
        "d = [1,2,['life','is',['too','short']]]\n",
        "\n",
        "print(a, type(a))\n",
        "print(b, type(b))\n",
        "print(c, type(c))\n",
        "print(d, type(d))"
      ]
    },
    {
      "cell_type": "markdown",
      "source": [
        "## **[2] 인덱싱**\n",
        "- 문자열과 마찬가지로 인덱싱을 적용할 수 있습니다.\n",
        "- 리스트 안에 리스트가 있는 경우 인덱싱을 두 번 하면 리스트 안의 리스트 요소를 가져올 수 있습니다."
      ],
      "metadata": {
        "id": "xOJpadJJ6lGv"
      }
    },
    {
      "cell_type": "code",
      "source": [
        "a"
      ],
      "metadata": {
        "colab": {
          "base_uri": "https://localhost:8080/"
        },
        "id": "6uHWca9Y6hpT",
        "outputId": "671aac33-6873-40f5-9d40-042a8264eed6"
      },
      "execution_count": 4,
      "outputs": [
        {
          "output_type": "execute_result",
          "data": {
            "text/plain": [
              "[1, 2, 3, 4, 5]"
            ]
          },
          "metadata": {},
          "execution_count": 4
        }
      ]
    },
    {
      "cell_type": "code",
      "source": [
        "print(a[0]) #1\n",
        "print(a[0]+a[4]) # 1+5 = 6\n",
        "print(a[3:]) # 4,5\n",
        "print(a[1:-1]) # 1번 인덱스부터 시작해서, -1번 인덱스 전까지 잘라라는"
      ],
      "metadata": {
        "colab": {
          "base_uri": "https://localhost:8080/"
        },
        "id": "kout0Vl97HYP",
        "outputId": "58b14a3d-0f6e-4520-ad61-0e6347f10122"
      },
      "execution_count": 5,
      "outputs": [
        {
          "output_type": "stream",
          "name": "stdout",
          "text": [
            "1\n",
            "6\n",
            "[4, 5]\n",
            "[2, 3, 4]\n"
          ]
        }
      ]
    },
    {
      "cell_type": "code",
      "source": [
        "d"
      ],
      "metadata": {
        "colab": {
          "base_uri": "https://localhost:8080/"
        },
        "id": "lupBGs1l7RKq",
        "outputId": "30e3f192-3934-4761-8b1f-576ee39572c9"
      },
      "execution_count": 6,
      "outputs": [
        {
          "output_type": "execute_result",
          "data": {
            "text/plain": [
              "[1, 2, ['life', 'is', ['too', 'short']]]"
            ]
          },
          "metadata": {},
          "execution_count": 6
        }
      ]
    },
    {
      "cell_type": "code",
      "source": [
        "print(d[2]) #세 번째 요소 전체 (리스트 자체)를 출력\n",
        "print(d[2][2])\n",
        "#👉 d[2]는 리스트 ['life', 'is', ['too', 'short']]\n",
        "#👉 그 안의 세 번째 요소 → ['too', 'short']\n",
        "print(d[-1][2:])\n",
        "print(d[-1][-1][-1])\n",
        "# d[0] = 1\n",
        "\n",
        "# d[1] = 2\n",
        "\n",
        "# d[2] = ['life', 'is', ['too', 'short']] ← 이 부분이 리스트 안에 리스트 형태야"
      ],
      "metadata": {
        "colab": {
          "base_uri": "https://localhost:8080/"
        },
        "id": "S2UMAPzL-T2c",
        "outputId": "85eabe54-6602-4289-be7f-75b656878c1c"
      },
      "execution_count": 7,
      "outputs": [
        {
          "output_type": "stream",
          "name": "stdout",
          "text": [
            "['life', 'is', ['too', 'short']]\n",
            "['too', 'short']\n",
            "[['too', 'short']]\n",
            "short\n"
          ]
        }
      ]
    },
    {
      "cell_type": "markdown",
      "source": [
        "- d[0] = 1\n",
        "\n",
        "- d[1] = 2\n",
        "\n",
        "- d[2] = ['life', 'is', ['too', 'short']] ← 이 부분이 리스트 안에 리스트 형태야\n",
        "\n",
        "- print(d[-1][2:])\n",
        "    - d[-1] → d[2]와 같아. 왜냐하면 -1은 리스트의 마지막 요소를 의미하니까.\n",
        "\n",
        "        - 그래서 d[-1] → ['life', 'is', ['too', 'short']]\n",
        "\n",
        "        - 그럼 이 상태에서 d[-1][2:]을 보면:\n",
        "\n",
        "        - d[-1][2] → '['too', 'short']'\n",
        "\n",
        "        - d[-1][2:] → 리스트의 2번 인덱스부터 끝까지 자르는 것.\n",
        "\n",
        "       ->  ['too', 'short']에서 2:를 하면, 리스트 ['too', 'short'] 전체가 그대로 반환돼.\n",
        "\n",
        "2. print(d[-1][-1][-1])\n",
        "- 이제 d[-1][-1][-1]을 하나씩 분해해서 이해해보자.\n",
        "\n",
        "    - d[-1]은 위에서 봤던 것처럼:\n",
        "\n",
        "    - d[-1] → ['life', 'is', ['too', 'short']]\n",
        "\n",
        "    - d[-1][-1]은 그 안에서 마지막 요소를 가져오는 것:\n",
        "\n",
        "    - d[-1][-1] → ['too', 'short']\n",
        "\n",
        "    - d[-1][-1][-1]은 그 ['too', 'short'] 리스트에서 마지막 요소를 가져오는 것:\n",
        "      - ['too', 'short']에서 -1은 **'short'**를 의미해\n",
        "\n",
        "\n"
      ],
      "metadata": {
        "id": "NKHUNWS4_Phm"
      }
    },
    {
      "cell_type": "markdown",
      "source": [
        "## **[3] 리스트 연산**\n",
        "- 더하기와 곱하기를 할 수 있습니다.\n",
        " - `+`: 리스트와 리스트를 순서대로 연결하여 하나의 리스트를 만듭니다.\n",
        " - `*`: 리스트와 숫자형을 곱하여 리스트 안의 요소를 숫자만큼 반복한 하나의 리스트를 만듭니다."
      ],
      "metadata": {
        "id": "yIuh2OYr_9l-"
      }
    },
    {
      "cell_type": "code",
      "source": [
        "a = [1,2,3]\n",
        "b = [4,5,6]\n",
        "a + b"
      ],
      "metadata": {
        "colab": {
          "base_uri": "https://localhost:8080/"
        },
        "id": "BIC8zyDS-d8T",
        "outputId": "45278ea0-26d9-43e5-8b8d-31fe0f310745"
      },
      "execution_count": 8,
      "outputs": [
        {
          "output_type": "execute_result",
          "data": {
            "text/plain": [
              "[1, 2, 3, 4, 5, 6]"
            ]
          },
          "metadata": {},
          "execution_count": 8
        }
      ]
    },
    {
      "cell_type": "code",
      "source": [
        "#리스트에 다른 자료형을 더하면 오류가 납니다.\n",
        "a + 4"
      ],
      "metadata": {
        "colab": {
          "base_uri": "https://localhost:8080/",
          "height": 158
        },
        "id": "pMs3ImCXAEeP",
        "outputId": "aa259956-726d-4028-fe8d-def4b853f4ab"
      },
      "execution_count": 9,
      "outputs": [
        {
          "output_type": "error",
          "ename": "TypeError",
          "evalue": "can only concatenate list (not \"int\") to list",
          "traceback": [
            "\u001b[0;31m---------------------------------------------------------------------------\u001b[0m",
            "\u001b[0;31mTypeError\u001b[0m                                 Traceback (most recent call last)",
            "\u001b[0;32m<ipython-input-9-81b8d0ef453b>\u001b[0m in \u001b[0;36m<cell line: 0>\u001b[0;34m()\u001b[0m\n\u001b[1;32m      1\u001b[0m \u001b[0;31m#리스트에 다른 자료형을 더하면 오류가 납니다.\u001b[0m\u001b[0;34m\u001b[0m\u001b[0;34m\u001b[0m\u001b[0m\n\u001b[0;32m----> 2\u001b[0;31m \u001b[0ma\u001b[0m \u001b[0;34m+\u001b[0m \u001b[0;36m4\u001b[0m\u001b[0;34m\u001b[0m\u001b[0;34m\u001b[0m\u001b[0m\n\u001b[0m",
            "\u001b[0;31mTypeError\u001b[0m: can only concatenate list (not \"int\") to list"
          ]
        }
      ]
    },
    {
      "cell_type": "code",
      "source": [
        "a + [4]  # 1,2,3,에 4라는 요소를 하나 추가한거니까"
      ],
      "metadata": {
        "colab": {
          "base_uri": "https://localhost:8080/"
        },
        "id": "odGfnlxQAIvU",
        "outputId": "c23e5cc6-80e7-454a-cc69-311a62fcdbb8"
      },
      "execution_count": 10,
      "outputs": [
        {
          "output_type": "execute_result",
          "data": {
            "text/plain": [
              "[1, 2, 3, 4]"
            ]
          },
          "metadata": {},
          "execution_count": 10
        }
      ]
    },
    {
      "cell_type": "markdown",
      "source": [
        "## **[4] 리스트 값 치환**\n",
        "- 리스트는 인덱싱을 통해 값을 수정할 수 있습니다."
      ],
      "metadata": {
        "id": "urWkTdDFAX29"
      }
    },
    {
      "cell_type": "code",
      "source": [
        "a = [1,2,3,4,5]\n",
        "print(a)\n",
        "a[0] = 0\n",
        "print(a) # 0,2,3,4,5"
      ],
      "metadata": {
        "colab": {
          "base_uri": "https://localhost:8080/"
        },
        "id": "rZ7nbHcOAZB4",
        "outputId": "5f694f1d-5878-40ec-8015-2e49454a7ca3"
      },
      "execution_count": 11,
      "outputs": [
        {
          "output_type": "stream",
          "name": "stdout",
          "text": [
            "[1, 2, 3, 4, 5]\n",
            "[0, 2, 3, 4, 5]\n"
          ]
        }
      ]
    },
    {
      "cell_type": "code",
      "source": [
        "### 강의 듣기\n",
        "a = [1, [2, 3], [4, 5, [6, 7]]]\n",
        "\n",
        "a[0] = 10 # [10,[2,3],[4,5,[6,7]]\n",
        "print(a)\n",
        "\n",
        "a[1][0] = [9, 10, 11] #[10,[[9,10,11],3,][4,5,[6,7,]]]\n",
        "print(a)\n",
        "\n",
        "a[2][-1] #[10,[[9,10,11],3,][4,5,[6,7,]]] -> [6,7]\n",
        "print(a)\n",
        "\n",
        "a[1][0][1:] = [10,[[9,10,11],3,][4,5,[6,7,]]]-> [9,10,11]-> [10,11]\n",
        "print(a)"
      ],
      "metadata": {
        "colab": {
          "base_uri": "https://localhost:8080/"
        },
        "id": "Ds7VWjccAk9i",
        "outputId": "ccf17fa1-42b1-4973-ca52-5c0b9eac48f0"
      },
      "execution_count": 12,
      "outputs": [
        {
          "output_type": "stream",
          "name": "stdout",
          "text": [
            "[10, [2, 3], [4, 5, [6, 7]]]\n",
            "[10, [[9, 10, 11], 3], [4, 5, [6, 7]]]\n",
            "[10, [[9, 10, 11], 3], [4, 5, [6, 7]]]\n",
            "[10, [[9, 20, 30], 3], [4, 5, [6, 7]]]\n"
          ]
        }
      ]
    },
    {
      "cell_type": "code",
      "source": [
        "print(a[1][0][1:])\n",
        "a[1][0][1:] = 50"
      ],
      "metadata": {
        "colab": {
          "base_uri": "https://localhost:8080/",
          "height": 176
        },
        "id": "cJAEWAsOBFVK",
        "outputId": "eb9c6f3e-43a6-4ff3-dd4f-2387021e0d47"
      },
      "execution_count": 13,
      "outputs": [
        {
          "output_type": "stream",
          "name": "stdout",
          "text": [
            "[20, 30]\n"
          ]
        },
        {
          "output_type": "error",
          "ename": "TypeError",
          "evalue": "can only assign an iterable",
          "traceback": [
            "\u001b[0;31m---------------------------------------------------------------------------\u001b[0m",
            "\u001b[0;31mTypeError\u001b[0m                                 Traceback (most recent call last)",
            "\u001b[0;32m<ipython-input-13-b08393dd3b19>\u001b[0m in \u001b[0;36m<cell line: 0>\u001b[0;34m()\u001b[0m\n\u001b[1;32m      1\u001b[0m \u001b[0mprint\u001b[0m\u001b[0;34m(\u001b[0m\u001b[0ma\u001b[0m\u001b[0;34m[\u001b[0m\u001b[0;36m1\u001b[0m\u001b[0;34m]\u001b[0m\u001b[0;34m[\u001b[0m\u001b[0;36m0\u001b[0m\u001b[0;34m]\u001b[0m\u001b[0;34m[\u001b[0m\u001b[0;36m1\u001b[0m\u001b[0;34m:\u001b[0m\u001b[0;34m]\u001b[0m\u001b[0;34m)\u001b[0m\u001b[0;34m\u001b[0m\u001b[0;34m\u001b[0m\u001b[0m\n\u001b[0;32m----> 2\u001b[0;31m \u001b[0ma\u001b[0m\u001b[0;34m[\u001b[0m\u001b[0;36m1\u001b[0m\u001b[0;34m]\u001b[0m\u001b[0;34m[\u001b[0m\u001b[0;36m0\u001b[0m\u001b[0;34m]\u001b[0m\u001b[0;34m[\u001b[0m\u001b[0;36m1\u001b[0m\u001b[0;34m:\u001b[0m\u001b[0;34m]\u001b[0m \u001b[0;34m=\u001b[0m \u001b[0;36m50\u001b[0m\u001b[0;34m\u001b[0m\u001b[0;34m\u001b[0m\u001b[0m\n\u001b[0m",
            "\u001b[0;31mTypeError\u001b[0m: can only assign an iterable"
          ]
        }
      ]
    },
    {
      "cell_type": "markdown",
      "source": [
        "## **[5] 리스트 함수**\n",
        "- `len` 함수: 리스트의 길이를 구합니다.\n",
        "- `sum, min, max` 함수: 리스트 요소들의 합, 최솟값, 최댓값을 구합니다.\n",
        "- `in`: 특정 요소가 리스트 안에 있는지 확인합니다.\n",
        "- `append, extend`: `append`는 리스트의 맨 마지막에 요소를 추가, `extend`는 리스트의 맨 마지막에 다른 리스트를 추가합니다.\n",
        "- `insert`: 리스트의 특정 위치에 특정 요소를 삽입합니다.\n",
        "- `remove, pop`: 리스트의 요소를 삭제합니다.\n",
        "- `count`: 리스트의 특정 요소의 개수를 반환합니다.\n",
        "- `index`: 리스트에 요소가 있는 경우 인덱스 값을 반환합니다.\n",
        "- `sort, sorted`: 리스트를 정렬합니다.\n",
        "- `join`: 리스트의 요소들을 하나의 문자열로 합칩니다.\n",
        "- `split`: 문자열을 리스트의 요소들로 쪼갭니다."
      ],
      "metadata": {
        "id": "-ZtwTGpmCVwH"
      }
    },
    {
      "cell_type": "code",
      "source": [
        "### len\n",
        "a = [1,2,3,4,5]\n",
        "len(a)"
      ],
      "metadata": {
        "colab": {
          "base_uri": "https://localhost:8080/"
        },
        "id": "2VuA_PlFCQfH",
        "outputId": "31a9836a-a6ad-422e-bea8-649ae531473d"
      },
      "execution_count": 14,
      "outputs": [
        {
          "output_type": "execute_result",
          "data": {
            "text/plain": [
              "5"
            ]
          },
          "metadata": {},
          "execution_count": 14
        }
      ]
    },
    {
      "cell_type": "code",
      "source": [
        "### sum, min, max\n",
        "##리스트가 숫자형으로 이루어졌을 때 요소들의 평균을 구하려면?\n",
        "\n",
        "sum(a)/len(a) # 15/5 = 3"
      ],
      "metadata": {
        "colab": {
          "base_uri": "https://localhost:8080/"
        },
        "id": "_n45rhEACbpm",
        "outputId": "c5d46965-8aa7-4c44-e2b2-62f0e3f27abf"
      },
      "execution_count": 15,
      "outputs": [
        {
          "output_type": "execute_result",
          "data": {
            "text/plain": [
              "3.0"
            ]
          },
          "metadata": {},
          "execution_count": 15
        }
      ]
    },
    {
      "cell_type": "code",
      "source": [
        " ### 리스트의 요소가 숫자가 아니라면?\n",
        "a = ['a','b','c','d','e'] ### 에러남\n",
        "print(sum(a))"
      ],
      "metadata": {
        "colab": {
          "base_uri": "https://localhost:8080/",
          "height": 176
        },
        "id": "pWIfBa_mCnC-",
        "outputId": "bc8f6096-c32e-461d-f402-e793d38d3e11"
      },
      "execution_count": 16,
      "outputs": [
        {
          "output_type": "error",
          "ename": "TypeError",
          "evalue": "unsupported operand type(s) for +: 'int' and 'str'",
          "traceback": [
            "\u001b[0;31m---------------------------------------------------------------------------\u001b[0m",
            "\u001b[0;31mTypeError\u001b[0m                                 Traceback (most recent call last)",
            "\u001b[0;32m<ipython-input-16-493c4af8911c>\u001b[0m in \u001b[0;36m<cell line: 0>\u001b[0;34m()\u001b[0m\n\u001b[1;32m      1\u001b[0m \u001b[0;31m### 리스트의 요소가 숫자가 아니라면?\u001b[0m\u001b[0;34m\u001b[0m\u001b[0;34m\u001b[0m\u001b[0m\n\u001b[1;32m      2\u001b[0m \u001b[0ma\u001b[0m \u001b[0;34m=\u001b[0m \u001b[0;34m[\u001b[0m\u001b[0;34m'a'\u001b[0m\u001b[0;34m,\u001b[0m\u001b[0;34m'b'\u001b[0m\u001b[0;34m,\u001b[0m\u001b[0;34m'c'\u001b[0m\u001b[0;34m,\u001b[0m\u001b[0;34m'd'\u001b[0m\u001b[0;34m,\u001b[0m\u001b[0;34m'e'\u001b[0m\u001b[0;34m]\u001b[0m\u001b[0;34m\u001b[0m\u001b[0;34m\u001b[0m\u001b[0m\n\u001b[0;32m----> 3\u001b[0;31m \u001b[0mprint\u001b[0m\u001b[0;34m(\u001b[0m\u001b[0msum\u001b[0m\u001b[0;34m(\u001b[0m\u001b[0ma\u001b[0m\u001b[0;34m)\u001b[0m\u001b[0;34m)\u001b[0m\u001b[0;34m\u001b[0m\u001b[0;34m\u001b[0m\u001b[0m\n\u001b[0m",
            "\u001b[0;31mTypeError\u001b[0m: unsupported operand type(s) for +: 'int' and 'str'"
          ]
        }
      ]
    },
    {
      "cell_type": "code",
      "source": [
        "print(min(a))\n",
        "print(max(a))"
      ],
      "metadata": {
        "colab": {
          "base_uri": "https://localhost:8080/"
        },
        "id": "IWaUp0znCqL5",
        "outputId": "de8e20be-4245-4196-bf86-27a26c821abe"
      },
      "execution_count": 17,
      "outputs": [
        {
          "output_type": "stream",
          "name": "stdout",
          "text": [
            "a\n",
            "e\n"
          ]
        }
      ]
    },
    {
      "cell_type": "code",
      "source": [
        "a = ['a','b','c','d','e']\n",
        "'a' in a"
      ],
      "metadata": {
        "colab": {
          "base_uri": "https://localhost:8080/"
        },
        "id": "5xVztPCCCts5",
        "outputId": "3eb8750d-a766-4e1c-be1b-fbd4962ca614"
      },
      "execution_count": 18,
      "outputs": [
        {
          "output_type": "execute_result",
          "data": {
            "text/plain": [
              "True"
            ]
          },
          "metadata": {},
          "execution_count": 18
        }
      ]
    },
    {
      "cell_type": "markdown",
      "source": [
        "### append() , extend () , insert()"
      ],
      "metadata": {
        "id": "6v9UzlyuDQZZ"
      }
    },
    {
      "cell_type": "code",
      "source": [
        "### append() , extend ()\n",
        "a = [1,2,3]\n",
        "a.append(4)\n",
        "print(a) # 1234"
      ],
      "metadata": {
        "colab": {
          "base_uri": "https://localhost:8080/"
        },
        "id": "OARKrWp-CwbU",
        "outputId": "2947cca1-6df7-4bfa-a58d-e79aaf2e0c8d"
      },
      "execution_count": 19,
      "outputs": [
        {
          "output_type": "stream",
          "name": "stdout",
          "text": [
            "[1, 2, 3, 4]\n"
          ]
        }
      ]
    },
    {
      "cell_type": "code",
      "source": [
        "a = [1,2,3]\n",
        "a.extend([4,5])\n",
        "print(a) #12345"
      ],
      "metadata": {
        "colab": {
          "base_uri": "https://localhost:8080/"
        },
        "id": "yGTD5wkNC3tL",
        "outputId": "0a159d8c-c12d-4f76-9f8e-b3ee558ece03"
      },
      "execution_count": 20,
      "outputs": [
        {
          "output_type": "stream",
          "name": "stdout",
          "text": [
            "[1, 2, 3, 4, 5]\n"
          ]
        }
      ]
    },
    {
      "cell_type": "code",
      "source": [
        "a = [1,2,3,4]\n",
        "a.insert(3,2) # a에서 인덱스 3 위치에 값 2를 삽입하는 코드\n",
        "print(a)"
      ],
      "metadata": {
        "colab": {
          "base_uri": "https://localhost:8080/"
        },
        "id": "f-TLKqAFC59q",
        "outputId": "8e5ae1dd-0113-4d3a-b447-6f1e4eea9ccb"
      },
      "execution_count": 21,
      "outputs": [
        {
          "output_type": "stream",
          "name": "stdout",
          "text": [
            "[1, 2, 3, 2, 4]\n"
          ]
        }
      ]
    },
    {
      "cell_type": "markdown",
      "source": [
        "### remove, pop\n",
        "- remove: 특정 요소를 제거\n",
        "- pop: 특정 위치의 요소를 제거하여 그 요소를 반환"
      ],
      "metadata": {
        "id": "lMIRFtWqDKym"
      }
    },
    {
      "cell_type": "code",
      "source": [
        "a = [1,2,3,4]\n",
        "print(a)\n",
        "a.remove(4)\n",
        "print(a) # 123"
      ],
      "metadata": {
        "colab": {
          "base_uri": "https://localhost:8080/"
        },
        "id": "YRh-p3E4C80n",
        "outputId": "4bccb31d-7008-4ce0-ab87-3b4eb843ef69"
      },
      "execution_count": 22,
      "outputs": [
        {
          "output_type": "stream",
          "name": "stdout",
          "text": [
            "[1, 2, 3, 4]\n",
            "[1, 2, 3]\n"
          ]
        }
      ]
    },
    {
      "cell_type": "code",
      "source": [
        "a.pop(2) #  3\n",
        "#a에서 인덱스 2에 해당하는 값을 추출하는 함수야."
      ],
      "metadata": {
        "colab": {
          "base_uri": "https://localhost:8080/"
        },
        "id": "gfJ57KvDDZdR",
        "outputId": "e8b06470-50ec-4c19-d8b8-d3c03af8fda4"
      },
      "execution_count": 24,
      "outputs": [
        {
          "output_type": "execute_result",
          "data": {
            "text/plain": [
              "3"
            ]
          },
          "metadata": {},
          "execution_count": 24
        }
      ]
    },
    {
      "cell_type": "code",
      "source": [
        "print(a)"
      ],
      "metadata": {
        "colab": {
          "base_uri": "https://localhost:8080/"
        },
        "id": "20kKcZiTDb5Q",
        "outputId": "d975cb4a-c6aa-4a1d-f2b3-5698020a2245"
      },
      "execution_count": 25,
      "outputs": [
        {
          "output_type": "stream",
          "name": "stdout",
          "text": [
            "[1, 2]\n"
          ]
        }
      ]
    },
    {
      "cell_type": "code",
      "source": [
        "a = [1,1,2,3]\n",
        "a.count(1)  # 2"
      ],
      "metadata": {
        "colab": {
          "base_uri": "https://localhost:8080/"
        },
        "id": "d4FmxrC-DnyJ",
        "outputId": "cb6eedb5-a765-4896-f8dd-11b03d879081"
      },
      "execution_count": 26,
      "outputs": [
        {
          "output_type": "execute_result",
          "data": {
            "text/plain": [
              "2"
            ]
          },
          "metadata": {},
          "execution_count": 26
        }
      ]
    },
    {
      "cell_type": "markdown",
      "source": [
        "### INDEX"
      ],
      "metadata": {
        "id": "RSheKkG2DyTw"
      }
    },
    {
      "cell_type": "code",
      "source": [
        "a = ['a','b',1,2]\n",
        "a.index(1) #강의"
      ],
      "metadata": {
        "colab": {
          "base_uri": "https://localhost:8080/"
        },
        "id": "LnKx0McfDv8T",
        "outputId": "95e871f6-ec4e-41bb-c0ab-4a0082f93251"
      },
      "execution_count": 27,
      "outputs": [
        {
          "output_type": "execute_result",
          "data": {
            "text/plain": [
              "2"
            ]
          },
          "metadata": {},
          "execution_count": 27
        }
      ]
    },
    {
      "cell_type": "code",
      "source": [
        "a.index(3) # 리스트 a에 3이 없으니까 에러"
      ],
      "metadata": {
        "colab": {
          "base_uri": "https://localhost:8080/",
          "height": 141
        },
        "id": "Chm3ywGzD2La",
        "outputId": "d3be14bd-4a39-4d10-9ee8-744f1e56d10f"
      },
      "execution_count": 28,
      "outputs": [
        {
          "output_type": "error",
          "ename": "ValueError",
          "evalue": "3 is not in list",
          "traceback": [
            "\u001b[0;31m---------------------------------------------------------------------------\u001b[0m",
            "\u001b[0;31mValueError\u001b[0m                                Traceback (most recent call last)",
            "\u001b[0;32m<ipython-input-28-4040a79a80a3>\u001b[0m in \u001b[0;36m<cell line: 0>\u001b[0;34m()\u001b[0m\n\u001b[0;32m----> 1\u001b[0;31m \u001b[0ma\u001b[0m\u001b[0;34m.\u001b[0m\u001b[0mindex\u001b[0m\u001b[0;34m(\u001b[0m\u001b[0;36m3\u001b[0m\u001b[0;34m)\u001b[0m\u001b[0;34m\u001b[0m\u001b[0;34m\u001b[0m\u001b[0m\n\u001b[0m",
            "\u001b[0;31mValueError\u001b[0m: 3 is not in list"
          ]
        }
      ]
    },
    {
      "cell_type": "markdown",
      "source": [
        "### sort, sorted\n",
        "- .sort()는 정렬된 리스트를 변환하고,\n",
        "- .sorted()는 정렬된 리스트를 출력만 합니다."
      ],
      "metadata": {
        "id": "uDrX6dkjERF_"
      }
    },
    {
      "cell_type": "code",
      "source": [
        "a = [1,20,23,2]\n",
        "a.sort()\n",
        "print(a)"
      ],
      "metadata": {
        "colab": {
          "base_uri": "https://localhost:8080/"
        },
        "id": "lYnVfVB0EPyD",
        "outputId": "43a6943c-d6c0-4d1d-a8ac-ebe63e5c1daf"
      },
      "execution_count": 30,
      "outputs": [
        {
          "output_type": "stream",
          "name": "stdout",
          "text": [
            "[1, 2, 20, 23]\n"
          ]
        }
      ]
    },
    {
      "cell_type": "code",
      "source": [
        "a = [1,20,23,2]\n",
        "sorted(a)\n",
        "print(a)"
      ],
      "metadata": {
        "colab": {
          "base_uri": "https://localhost:8080/"
        },
        "id": "lfammjzLEWpR",
        "outputId": "a2e170e0-81d5-435a-d269-4f2a1d56633c"
      },
      "execution_count": 33,
      "outputs": [
        {
          "output_type": "stream",
          "name": "stdout",
          "text": [
            "[1, 20, 23, 2]\n"
          ]
        }
      ]
    },
    {
      "cell_type": "code",
      "source": [
        "a = sorted(a)\n",
        "print(a)"
      ],
      "metadata": {
        "colab": {
          "base_uri": "https://localhost:8080/"
        },
        "id": "1O4FLVlrHXHB",
        "outputId": "cd844ecc-fcb3-416c-fc4e-b2a36c148d95"
      },
      "execution_count": 34,
      "outputs": [
        {
          "output_type": "stream",
          "name": "stdout",
          "text": [
            "[1, 2, 20, 23]\n"
          ]
        }
      ]
    },
    {
      "cell_type": "code",
      "source": [
        "a = [1,20,23,2]\n",
        "sorted(a, reverse=True)"
      ],
      "metadata": {
        "colab": {
          "base_uri": "https://localhost:8080/"
        },
        "id": "R1gsySOIHdqy",
        "outputId": "d074d098-beda-4e8b-fc2b-bb4f0b7410b3"
      },
      "execution_count": 35,
      "outputs": [
        {
          "output_type": "execute_result",
          "data": {
            "text/plain": [
              "[23, 20, 2, 1]"
            ]
          },
          "metadata": {},
          "execution_count": 35
        }
      ]
    },
    {
      "cell_type": "markdown",
      "source": [
        "### join"
      ],
      "metadata": {
        "id": "kW0IF12vHie4"
      }
    },
    {
      "cell_type": "code",
      "source": [
        "a = ['a','b','c','d','e']\n",
        "print('-'.join(a))\n",
        "print('/'.join(a))\n",
        "print(''.join(a))"
      ],
      "metadata": {
        "colab": {
          "base_uri": "https://localhost:8080/"
        },
        "id": "4TCncE6eHhFH",
        "outputId": "00effa86-3c52-4f3b-f033-eaf795941e10"
      },
      "execution_count": 36,
      "outputs": [
        {
          "output_type": "stream",
          "name": "stdout",
          "text": [
            "a-b-c-d-e\n",
            "a/b/c/d/e\n",
            "abcde\n"
          ]
        }
      ]
    },
    {
      "cell_type": "code",
      "source": [
        "a = [1,2,3,4,5]\n",
        "print('-'.join(a))"
      ],
      "metadata": {
        "colab": {
          "base_uri": "https://localhost:8080/",
          "height": 158
        },
        "id": "4E0oQFhJHnCU",
        "outputId": "2106d156-6f81-46c9-a47a-83185fa759e0"
      },
      "execution_count": 40,
      "outputs": [
        {
          "output_type": "error",
          "ename": "TypeError",
          "evalue": "sequence item 0: expected str instance, int found",
          "traceback": [
            "\u001b[0;31m---------------------------------------------------------------------------\u001b[0m",
            "\u001b[0;31mTypeError\u001b[0m                                 Traceback (most recent call last)",
            "\u001b[0;32m<ipython-input-40-90cf5ad89951>\u001b[0m in \u001b[0;36m<cell line: 0>\u001b[0;34m()\u001b[0m\n\u001b[1;32m      1\u001b[0m \u001b[0ma\u001b[0m \u001b[0;34m=\u001b[0m \u001b[0;34m[\u001b[0m\u001b[0;36m1\u001b[0m\u001b[0;34m,\u001b[0m\u001b[0;36m2\u001b[0m\u001b[0;34m,\u001b[0m\u001b[0;36m3\u001b[0m\u001b[0;34m,\u001b[0m\u001b[0;36m4\u001b[0m\u001b[0;34m,\u001b[0m\u001b[0;36m5\u001b[0m\u001b[0;34m]\u001b[0m\u001b[0;34m\u001b[0m\u001b[0;34m\u001b[0m\u001b[0m\n\u001b[0;32m----> 2\u001b[0;31m \u001b[0mprint\u001b[0m\u001b[0;34m(\u001b[0m\u001b[0;34m'-'\u001b[0m\u001b[0;34m.\u001b[0m\u001b[0mjoin\u001b[0m\u001b[0;34m(\u001b[0m\u001b[0ma\u001b[0m\u001b[0;34m)\u001b[0m\u001b[0;34m)\u001b[0m\u001b[0;34m\u001b[0m\u001b[0;34m\u001b[0m\u001b[0m\n\u001b[0m",
            "\u001b[0;31mTypeError\u001b[0m: sequence item 0: expected str instance, int found"
          ]
        }
      ]
    },
    {
      "cell_type": "code",
      "source": [],
      "metadata": {
        "colab": {
          "base_uri": "https://localhost:8080/",
          "height": 106
        },
        "id": "APiexNxAHo9O",
        "outputId": "cc4ce755-7b3f-45c7-e05a-d911458a478a"
      },
      "execution_count": 39,
      "outputs": [
        {
          "output_type": "error",
          "ename": "SyntaxError",
          "evalue": "invalid syntax (<ipython-input-39-a5d5b61aa8a6>, line 1)",
          "traceback": [
            "\u001b[0;36m  File \u001b[0;32m\"<ipython-input-39-a5d5b61aa8a6>\"\u001b[0;36m, line \u001b[0;32m1\u001b[0m\n\u001b[0;31m    .\u001b[0m\n\u001b[0m    ^\u001b[0m\n\u001b[0;31mSyntaxError\u001b[0m\u001b[0;31m:\u001b[0m invalid syntax\n"
          ]
        }
      ]
    },
    {
      "cell_type": "markdown",
      "source": [
        "### split"
      ],
      "metadata": {
        "id": "ttM0wdLaHx8G"
      }
    },
    {
      "cell_type": "code",
      "source": [
        "a = 'a b c d e'\n",
        "a.split()"
      ],
      "metadata": {
        "colab": {
          "base_uri": "https://localhost:8080/"
        },
        "id": "_TbJeTh1Hsaj",
        "outputId": "c27c38f3-92af-4591-fc48-da5277922b45"
      },
      "execution_count": 41,
      "outputs": [
        {
          "output_type": "execute_result",
          "data": {
            "text/plain": [
              "['a', 'b', 'c', 'd', 'e']"
            ]
          },
          "metadata": {},
          "execution_count": 41
        }
      ]
    },
    {
      "cell_type": "code",
      "source": [
        "a = 'a,b,c,d,e'\n",
        "a.split(',')"
      ],
      "metadata": {
        "colab": {
          "base_uri": "https://localhost:8080/"
        },
        "id": "XP8q7GWhH5dV",
        "outputId": "99a5d400-84f5-439e-8fbd-7c3ec092d4d1"
      },
      "execution_count": 42,
      "outputs": [
        {
          "output_type": "execute_result",
          "data": {
            "text/plain": [
              "['a', 'b', 'c', 'd', 'e']"
            ]
          },
          "metadata": {},
          "execution_count": 42
        }
      ]
    },
    {
      "cell_type": "markdown",
      "source": [
        "## **[6] `range` 함수**\n",
        "- `range(시작, 끝, 간격)`\n",
        " - 간격은 입력 안하면 디폴트가 1\n",
        "- `list(range())`\n",
        " - list로 변환하고 싶을 때는 `list()`함수를 씌워주면 됩니다."
      ],
      "metadata": {
        "id": "fWLnjWdrH7-8"
      }
    },
    {
      "cell_type": "code",
      "source": [
        "range(1, 10)"
      ],
      "metadata": {
        "colab": {
          "base_uri": "https://localhost:8080/"
        },
        "id": "54PZ5JE9H6v5",
        "outputId": "917d2606-3b6e-4b5d-c8f1-73de2475db71"
      },
      "execution_count": 43,
      "outputs": [
        {
          "output_type": "execute_result",
          "data": {
            "text/plain": [
              "range(1, 10)"
            ]
          },
          "metadata": {},
          "execution_count": 43
        }
      ]
    },
    {
      "cell_type": "code",
      "source": [
        "list(range(1, 10))"
      ],
      "metadata": {
        "colab": {
          "base_uri": "https://localhost:8080/"
        },
        "id": "DieXxaeSH_nf",
        "outputId": "e4b2842e-fb36-4988-f08b-1657952cc9da"
      },
      "execution_count": 44,
      "outputs": [
        {
          "output_type": "execute_result",
          "data": {
            "text/plain": [
              "[1, 2, 3, 4, 5, 6, 7, 8, 9]"
            ]
          },
          "metadata": {},
          "execution_count": 44
        }
      ]
    },
    {
      "cell_type": "code",
      "source": [
        "list(range(1, 10, 2))"
      ],
      "metadata": {
        "colab": {
          "base_uri": "https://localhost:8080/"
        },
        "id": "4BGpbzgPIAyq",
        "outputId": "c9276300-62d8-4c89-8ab3-9fdcebd6d413"
      },
      "execution_count": 45,
      "outputs": [
        {
          "output_type": "execute_result",
          "data": {
            "text/plain": [
              "[1, 3, 5, 7, 9]"
            ]
          },
          "metadata": {},
          "execution_count": 45
        }
      ]
    },
    {
      "cell_type": "code",
      "source": [
        "list(range(5, -11, -3))"
      ],
      "metadata": {
        "colab": {
          "base_uri": "https://localhost:8080/"
        },
        "id": "VALKcVorIC3C",
        "outputId": "5fee65ca-a3a0-4d43-9947-09016dbc8314"
      },
      "execution_count": 46,
      "outputs": [
        {
          "output_type": "execute_result",
          "data": {
            "text/plain": [
              "[5, 2, -1, -4, -7, -10]"
            ]
          },
          "metadata": {},
          "execution_count": 46
        }
      ]
    },
    {
      "cell_type": "markdown",
      "source": [
        "## **[7] 연습문제**"
      ],
      "metadata": {
        "id": "0ng_NZJhIGXu"
      }
    },
    {
      "cell_type": "markdown",
      "source": [
        "###1. 다음 리스트에서 홀수만 출력해보고, 짝수만 출력해보세요. (슬라이싱 활용)"
      ],
      "metadata": {
        "id": "Cnx8TC59Iv6o"
      }
    },
    {
      "cell_type": "code",
      "source": [
        "#1. 다음 리스트에서 홀수만 출력해보고, 짝수만 출력해보세요. (슬라이싱 활용)\n",
        "number = list(range(1,11))\n",
        "number[0:11:2]"
      ],
      "metadata": {
        "colab": {
          "base_uri": "https://localhost:8080/"
        },
        "id": "ebJqtC5DIE9k",
        "outputId": "908de778-cb57-498e-8bd2-55d6976a1cf9"
      },
      "execution_count": 50,
      "outputs": [
        {
          "output_type": "execute_result",
          "data": {
            "text/plain": [
              "[1, 3, 5, 7, 9]"
            ]
          },
          "metadata": {},
          "execution_count": 50
        }
      ]
    },
    {
      "cell_type": "code",
      "source": [
        "#강사님\n",
        "number[::2]"
      ],
      "metadata": {
        "colab": {
          "base_uri": "https://localhost:8080/"
        },
        "id": "V8uo3kHnQJke",
        "outputId": "a4d39af4-1c7c-43bf-d68a-058cbef1b6a0"
      },
      "execution_count": 62,
      "outputs": [
        {
          "output_type": "execute_result",
          "data": {
            "text/plain": [
              "[1, 3, 5, 7, 9]"
            ]
          },
          "metadata": {},
          "execution_count": 62
        }
      ]
    },
    {
      "cell_type": "markdown",
      "source": [
        "###2. 다음 리스트에서 h를 출력해보세요."
      ],
      "metadata": {
        "id": "_IKZbBtiIrvy"
      }
    },
    {
      "cell_type": "code",
      "source": [
        "# 2. 다음 리스트에서 h를 출력해보세요.\n",
        "s = [1,2,['life','is',['too','short']]]\n",
        "s[2][2][1][1]"
      ],
      "metadata": {
        "colab": {
          "base_uri": "https://localhost:8080/",
          "height": 35
        },
        "id": "6MS48XCrIO_A",
        "outputId": "7936424b-b298-4a35-eb58-9d9792ece7f4"
      },
      "execution_count": 55,
      "outputs": [
        {
          "output_type": "execute_result",
          "data": {
            "text/plain": [
              "'h'"
            ],
            "application/vnd.google.colaboratory.intrinsic+json": {
              "type": "string"
            }
          },
          "metadata": {},
          "execution_count": 55
        }
      ]
    },
    {
      "cell_type": "code",
      "source": [
        "#강사님\n",
        "s[-1][-1][-1][1]"
      ],
      "metadata": {
        "colab": {
          "base_uri": "https://localhost:8080/",
          "height": 35
        },
        "id": "lJfrRwykQUhq",
        "outputId": "b0aca9cc-0406-46d4-9f46-8894d1102e0d"
      },
      "execution_count": 66,
      "outputs": [
        {
          "output_type": "execute_result",
          "data": {
            "text/plain": [
              "'h'"
            ],
            "application/vnd.google.colaboratory.intrinsic+json": {
              "type": "string"
            }
          },
          "metadata": {},
          "execution_count": 66
        }
      ]
    },
    {
      "cell_type": "markdown",
      "source": [
        "# ### 3. 다음 리스트에서 중앙값을 구하세요.\n",
        " - 중앙값 구하는 방법\n",
        " 1.   데이터를 작은 수부터 큰 수 순서대로 정렬\n",
        " 2.   데이터의 개수가 홀수라면 정렬된 결과의 가운데 수\n",
        " 3.   데이터의 개수가 짝수라면 정렬된 결과의 가운데 두 수의 평균"
      ],
      "metadata": {
        "id": "XHHFjWNqIn-w"
      }
    },
    {
      "cell_type": "code",
      "source": [
        "# ### 3. 다음 리스트에서 중앙값을 구하세요.\n",
        "# - 중앙값 구하는 방법\n",
        "#  1.   데이터를 작은 수부터 큰 수 순서대로 정렬\n",
        "#  2.   데이터의 개수가 홀수라면 정렬된 결과의 가운데 수\n",
        "#  3.   데이터의 개수가 짝수라면 정렬된 결과의 가운데 두 수의 평균\n",
        "a = [1,100,90,32,78,40,2]\n",
        "a.sort()\n",
        "a"
      ],
      "metadata": {
        "colab": {
          "base_uri": "https://localhost:8080/"
        },
        "id": "GDe6OFaBISoo",
        "outputId": "99ddd757-53c9-4fca-b9d3-e2eab5d5dcbf"
      },
      "execution_count": 57,
      "outputs": [
        {
          "output_type": "execute_result",
          "data": {
            "text/plain": [
              "[1, 2, 32, 40, 78, 90, 100]"
            ]
          },
          "metadata": {},
          "execution_count": 57
        }
      ]
    },
    {
      "cell_type": "code",
      "source": [
        "# 1번 이후 강사님 도움\n",
        "len(a) %2 == 1 #나머지가 1이면 홀수"
      ],
      "metadata": {
        "colab": {
          "base_uri": "https://localhost:8080/"
        },
        "id": "AiJhvqhhQcx_",
        "outputId": "165323ed-016f-45e3-d9af-1a3a2a4ca5c0"
      },
      "execution_count": 69,
      "outputs": [
        {
          "output_type": "execute_result",
          "data": {
            "text/plain": [
              "True"
            ]
          },
          "metadata": {},
          "execution_count": 69
        }
      ]
    },
    {
      "cell_type": "code",
      "source": [
        "center_index= len(a)//2\n",
        "center_index"
      ],
      "metadata": {
        "colab": {
          "base_uri": "https://localhost:8080/"
        },
        "id": "JKNXedn-Qm1L",
        "outputId": "957e6f2c-71e1-4596-fe30-5fb4a8f5a951"
      },
      "execution_count": 71,
      "outputs": [
        {
          "output_type": "execute_result",
          "data": {
            "text/plain": [
              "3"
            ]
          },
          "metadata": {},
          "execution_count": 71
        }
      ]
    },
    {
      "cell_type": "code",
      "source": [
        "a[center_index] # 3번째 있는게 가운데 수야라고 인덱싱하는거임"
      ],
      "metadata": {
        "colab": {
          "base_uri": "https://localhost:8080/"
        },
        "id": "56mH0XseQwJQ",
        "outputId": "2112ce21-7bf5-46ff-ba73-c02b634216bf"
      },
      "execution_count": 72,
      "outputs": [
        {
          "output_type": "execute_result",
          "data": {
            "text/plain": [
              "40"
            ]
          },
          "metadata": {},
          "execution_count": 72
        }
      ]
    },
    {
      "cell_type": "markdown",
      "source": [
        "### 4. 정수 하나를 입력받고 해당 값을 다음 리스트에 추가하여 리스트 요소들의 평균값을 구하세요."
      ],
      "metadata": {
        "id": "i_VYjdkHIk3y"
      }
    },
    {
      "cell_type": "markdown",
      "source": [
        "### 5. 순서대로 실행해보세요.\n",
        "1.   다음 문자열 두개를 리스트로 쪼개보세요.\n",
        "2.   두 개의 리스트를 하나로 만들어보세요.\n",
        "3.   리스트를 알파벳 내림차순으로 정렬하세요.\n",
        "4.   맨 처음 요소를 꺼내어 출력하고 리스트에서는 삭제하세요.\n",
        "\n"
      ],
      "metadata": {
        "id": "wr2yaHf5Icw4"
      }
    },
    {
      "cell_type": "code",
      "source": [
        "# 4. 정수 하나를 입력받고 해당 값을 다음 리스트에 추가하여\n",
        "# 리스트 요소들의 평균값을 구하세요.\n",
        "nums = list(range(1, 20, 3))"
      ],
      "metadata": {
        "id": "O7jaT9oOIXQW"
      },
      "execution_count": 87,
      "outputs": []
    },
    {
      "cell_type": "code",
      "source": [
        "nums\n",
        "type(nums)"
      ],
      "metadata": {
        "colab": {
          "base_uri": "https://localhost:8080/"
        },
        "id": "2pzCVKymSDxi",
        "outputId": "90082df7-9019-4246-9924-4240ed367a8f"
      },
      "execution_count": 89,
      "outputs": [
        {
          "output_type": "execute_result",
          "data": {
            "text/plain": [
              "list"
            ]
          },
          "metadata": {},
          "execution_count": 89
        }
      ]
    },
    {
      "cell_type": "code",
      "source": [
        "#강사님 ver\n",
        "x = int(input(\"정수 하나를 입력해주세요.\"))"
      ],
      "metadata": {
        "colab": {
          "base_uri": "https://localhost:8080/"
        },
        "id": "qR3E1IgyRBhG",
        "outputId": "09a66320-8785-4acb-cd85-3b48b8799805"
      },
      "execution_count": 79,
      "outputs": [
        {
          "name": "stdout",
          "output_type": "stream",
          "text": [
            "정수 하나를 입력해주세요.3\n"
          ]
        }
      ]
    },
    {
      "cell_type": "code",
      "source": [
        "int(x)"
      ],
      "metadata": {
        "colab": {
          "base_uri": "https://localhost:8080/"
        },
        "id": "jXdSDyX3RFmJ",
        "outputId": "cf837262-a7ff-46a5-afad-55e251223654"
      },
      "execution_count": 75,
      "outputs": [
        {
          "output_type": "execute_result",
          "data": {
            "text/plain": [
              "3"
            ]
          },
          "metadata": {},
          "execution_count": 75
        }
      ]
    },
    {
      "cell_type": "code",
      "source": [
        "nums.append(x)"
      ],
      "metadata": {
        "id": "CAESq2J9RLdd"
      },
      "execution_count": 76,
      "outputs": []
    },
    {
      "cell_type": "code",
      "source": [
        "type(nums)"
      ],
      "metadata": {
        "colab": {
          "base_uri": "https://localhost:8080/"
        },
        "id": "eM_Fc2rYROJP",
        "outputId": "4154b7a8-bebd-490a-9bd4-4c63f12899c8"
      },
      "execution_count": 90,
      "outputs": [
        {
          "output_type": "execute_result",
          "data": {
            "text/plain": [
              "list"
            ]
          },
          "metadata": {},
          "execution_count": 90
        }
      ]
    },
    {
      "cell_type": "code",
      "source": [
        "sum(nums)/len(nums)"
      ],
      "metadata": {
        "colab": {
          "base_uri": "https://localhost:8080/"
        },
        "id": "KllOanuERPYY",
        "outputId": "c9757995-3d50-48fc-da0b-176e692b85de"
      },
      "execution_count": 91,
      "outputs": [
        {
          "output_type": "execute_result",
          "data": {
            "text/plain": [
              "10.0"
            ]
          },
          "metadata": {},
          "execution_count": 91
        }
      ]
    },
    {
      "cell_type": "code",
      "source": [
        "fruits = 'Apple, Pear, Fig, Melon, Orange'\n",
        "food = 'Soup, Pizza, Pasta, Salad, Hamburger'"
      ],
      "metadata": {
        "id": "-5foh2GFIiKG"
      },
      "execution_count": 92,
      "outputs": []
    },
    {
      "cell_type": "code",
      "source": [
        "fruits_list= fruits.split(',')"
      ],
      "metadata": {
        "id": "uiqr6QdHSRq3"
      },
      "execution_count": 95,
      "outputs": []
    },
    {
      "cell_type": "code",
      "source": [
        "food_list=food.split(',')"
      ],
      "metadata": {
        "id": "PjcWxzxCSW8k"
      },
      "execution_count": 96,
      "outputs": []
    },
    {
      "cell_type": "code",
      "source": [
        "h = fruits_list + food_list"
      ],
      "metadata": {
        "id": "o8Yo_Y7QSZTF"
      },
      "execution_count": 99,
      "outputs": []
    },
    {
      "cell_type": "code",
      "source": [
        "reverse_h=sorted(h,reverse=True)"
      ],
      "metadata": {
        "id": "UueFMPV7Sihg"
      },
      "execution_count": 102,
      "outputs": []
    },
    {
      "cell_type": "code",
      "source": [
        "reverse_h"
      ],
      "metadata": {
        "colab": {
          "base_uri": "https://localhost:8080/"
        },
        "id": "FEIpjpDdS0RJ",
        "outputId": "19e7fdef-a5ac-478d-d655-2418cba76b8f"
      },
      "execution_count": 103,
      "outputs": [
        {
          "output_type": "execute_result",
          "data": {
            "text/plain": [
              "['Soup',\n",
              " 'Apple',\n",
              " ' Salad',\n",
              " ' Pizza',\n",
              " ' Pear',\n",
              " ' Pasta',\n",
              " ' Orange',\n",
              " ' Melon',\n",
              " ' Hamburger',\n",
              " ' Fig']"
            ]
          },
          "metadata": {},
          "execution_count": 103
        }
      ]
    },
    {
      "cell_type": "code",
      "source": [
        "reverse_h.pop(0)"
      ],
      "metadata": {
        "colab": {
          "base_uri": "https://localhost:8080/",
          "height": 35
        },
        "id": "ghgg5y2YSnRr",
        "outputId": "06108f34-1d10-4016-c968-b881d7238950"
      },
      "execution_count": 101,
      "outputs": [
        {
          "output_type": "execute_result",
          "data": {
            "text/plain": [
              "'Soup'"
            ],
            "application/vnd.google.colaboratory.intrinsic+json": {
              "type": "string"
            }
          },
          "metadata": {},
          "execution_count": 101
        }
      ]
    },
    {
      "cell_type": "code",
      "source": [],
      "metadata": {
        "id": "inkdbAL0SyW3"
      },
      "execution_count": null,
      "outputs": []
    }
  ]
}