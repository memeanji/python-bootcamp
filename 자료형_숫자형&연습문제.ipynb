{
  "nbformat": 4,
  "nbformat_minor": 0,
  "metadata": {
    "colab": {
      "provenance": [],
      "authorship_tag": "ABX9TyPrcXJKtt3H4gYCbqVj0uXw",
      "include_colab_link": true
    },
    "kernelspec": {
      "name": "python3",
      "display_name": "Python 3"
    },
    "language_info": {
      "name": "python"
    }
  },
  "cells": [
    {
      "cell_type": "markdown",
      "metadata": {
        "id": "view-in-github",
        "colab_type": "text"
      },
      "source": [
        "<a href=\"https://colab.research.google.com/github/memeanji/python-bootcamp/blob/main/%EC%9E%90%EB%A3%8C%ED%98%95_%EC%88%AB%EC%9E%90%ED%98%95%26%EC%97%B0%EC%8A%B5%EB%AC%B8%EC%A0%9C.ipynb\" target=\"_parent\"><img src=\"https://colab.research.google.com/assets/colab-badge.svg\" alt=\"Open In Colab\"/></a>"
      ]
    },
    {
      "cell_type": "markdown",
      "source": [
        "# **숫자형**\n",
        "---"
      ],
      "metadata": {
        "id": "HCdgSRCbX_RG"
      }
    },
    {
      "cell_type": "markdown",
      "source": [
        "## **[1] 숫자형이란?**\n",
        "- 숫자 형태로 이루어진 자료형\n",
        "\n",
        "|항목|Python 표현 예시|\n",
        "|:---------|:---|\n",
        "|정수형 (int)|123, -123, 0|\n",
        "|실수형 (float)|100.5, -100.5, 10e3, 10e5|"
      ],
      "metadata": {
        "id": "2fqRBJZeuTL9"
      }
    },
    {
      "cell_type": "markdown",
      "source": [],
      "metadata": {
        "id": "1qrm9SoAYDDO"
      }
    },
    {
      "cell_type": "code",
      "source": [
        "# 정수형\n",
        "a = 123\n",
        "print(a)\n",
        "print(type(a))"
      ],
      "metadata": {
        "colab": {
          "base_uri": "https://localhost:8080/"
        },
        "id": "2PGiyj2NYAzJ",
        "outputId": "3a5e43ff-4294-4971-e4ce-d381fd423eb8"
      },
      "execution_count": 2,
      "outputs": [
        {
          "output_type": "stream",
          "name": "stdout",
          "text": [
            "123\n",
            "<class 'int'>\n"
          ]
        }
      ]
    },
    {
      "cell_type": "code",
      "source": [
        "#실수형\n",
        "a = 1.2\n",
        "print(a)\n",
        "print(type(a))\n",
        "# --------------\n",
        "b = 10e3\n",
        "print(b)\n",
        "print(type(b))"
      ],
      "metadata": {
        "colab": {
          "base_uri": "https://localhost:8080/"
        },
        "id": "7tzvBOlhYTvX",
        "outputId": "9de42daf-93ff-4c6a-c2e4-a5a7a610ac4e"
      },
      "execution_count": 7,
      "outputs": [
        {
          "output_type": "stream",
          "name": "stdout",
          "text": [
            "1.2\n",
            "<class 'float'>\n",
            "10000.0\n",
            "<class 'float'>\n"
          ]
        }
      ]
    },
    {
      "cell_type": "markdown",
      "source": [
        "## **[2] 사칙연산**"
      ],
      "metadata": {
        "id": "Fir5XPKJYvnF"
      }
    },
    {
      "cell_type": "code",
      "source": [
        "a = 3\n",
        "b = 4\n",
        "print(a + b)\n",
        "print(a - b)\n",
        "print(a * b)\n",
        "print(a / b)"
      ],
      "metadata": {
        "colab": {
          "base_uri": "https://localhost:8080/"
        },
        "id": "npwNsqh9Ybgi",
        "outputId": "576ee22c-b7f1-4c67-ef8c-02643993f490"
      },
      "execution_count": 8,
      "outputs": [
        {
          "output_type": "stream",
          "name": "stdout",
          "text": [
            "7\n",
            "-1\n",
            "12\n",
            "0.75\n"
          ]
        }
      ]
    },
    {
      "cell_type": "markdown",
      "source": [
        "## **[3] 다른 연산**"
      ],
      "metadata": {
        "id": "lD7Ayxx1Y-o3"
      }
    },
    {
      "cell_type": "code",
      "source": [
        "a = 2\n",
        "b = 3\n",
        "print(a ** b) #제곱\n",
        "print(a % b) #나눗셈 후 나머지\n",
        "print(a // b) #나눗셈 후 몫"
      ],
      "metadata": {
        "colab": {
          "base_uri": "https://localhost:8080/"
        },
        "id": "3ywGgV7RY7zE",
        "outputId": "efd5fdbc-9086-4e46-958e-f8c706c99558"
      },
      "execution_count": 12,
      "outputs": [
        {
          "output_type": "stream",
          "name": "stdout",
          "text": [
            "8\n",
            "2\n",
            "0\n"
          ]
        }
      ]
    },
    {
      "cell_type": "code",
      "source": [
        "a == b"
      ],
      "metadata": {
        "colab": {
          "base_uri": "https://localhost:8080/"
        },
        "id": "R8a8ohcUZA61",
        "outputId": "e1e322d8-a280-4b02-fd0b-1f21d2e9e546"
      },
      "execution_count": 13,
      "outputs": [
        {
          "output_type": "execute_result",
          "data": {
            "text/plain": [
              "False"
            ]
          },
          "metadata": {},
          "execution_count": 13
        }
      ]
    },
    {
      "cell_type": "code",
      "source": [
        "(a+1) == b"
      ],
      "metadata": {
        "colab": {
          "base_uri": "https://localhost:8080/"
        },
        "id": "sCbYes5dZH1W",
        "outputId": "7d84fe72-f2ba-4699-8ff5-77a4415dc3c6"
      },
      "execution_count": 14,
      "outputs": [
        {
          "output_type": "execute_result",
          "data": {
            "text/plain": [
              "True"
            ]
          },
          "metadata": {},
          "execution_count": 14
        }
      ]
    },
    {
      "cell_type": "markdown",
      "source": [
        "## **[4] 할당연산**"
      ],
      "metadata": {
        "id": "EY9fI1VHZQTU"
      }
    },
    {
      "cell_type": "code",
      "source": [
        "# 변수 a는 10의 값을 가질 때, a에 1을 더해서 a에 덮어씌우려면?\n",
        "a = 10\n",
        "print(a)\n",
        "a = a+1\n",
        "print(a)"
      ],
      "metadata": {
        "colab": {
          "base_uri": "https://localhost:8080/"
        },
        "id": "oseZdZmVZNfJ",
        "outputId": "7a7daf62-b025-4789-bacb-7518d66aadc7"
      },
      "execution_count": 15,
      "outputs": [
        {
          "output_type": "stream",
          "name": "stdout",
          "text": [
            "10\n",
            "11\n"
          ]
        }
      ]
    },
    {
      "cell_type": "code",
      "source": [
        "#다른 사칙연산도 계산가능\n",
        "a = 10\n",
        "print(a) # 10\n",
        "a -= 1\n",
        "print(a) # 9\n",
        "a *=2\n",
        "print(a) # 18\n",
        "a /= 2\n",
        "print(a) # 18을 2로 나누고 다시 a에 저장된거니까\n",
        "\n",
        "### 이게 할당연산이 여러번 이뤄진거임"
      ],
      "metadata": {
        "colab": {
          "base_uri": "https://localhost:8080/"
        },
        "id": "7oQyRYcKZZ82",
        "outputId": "804eb273-abc7-4665-f57c-06fcba33ee02"
      },
      "execution_count": 16,
      "outputs": [
        {
          "output_type": "stream",
          "name": "stdout",
          "text": [
            "10\n",
            "9\n",
            "18\n",
            "9.0\n"
          ]
        }
      ]
    },
    {
      "cell_type": "markdown",
      "source": [
        "## **[5] 연습문제**"
      ],
      "metadata": {
        "id": "VC7g1BTzaHMu"
      }
    },
    {
      "cell_type": "markdown",
      "source": [],
      "metadata": {
        "id": "sNaw0QvIaJFk"
      }
    },
    {
      "cell_type": "markdown",
      "source": [
        "### 1. 과일 가게의 총 매출을 구해보세요.\n",
        "\n",
        "|품목|가격|\n",
        "|:---------|:---|\n",
        "|바나나|1000원|\n",
        "|사과|500원|\n",
        "|체리|5000원|\n",
        "&nbsp;\n",
        "\n",
        "|고객|품목|판매수량|\n",
        "|:---------|:---|:---|\n",
        "|A|사과|2\n",
        "|A|체리|3\n",
        "|B|사과|4\n",
        "|C|바나나|1\n",
        "|C|사과|2\n",
        "|C|체리|1"
      ],
      "metadata": {
        "id": "e1I_0VAvwhEN"
      }
    },
    {
      "cell_type": "code",
      "source": [
        "banana = 1000\n",
        "apple = 500\n",
        "cherry = 5000\n",
        "\n",
        "a= 2*apple + 3*cherry\n",
        "b= 4*apple\n",
        "c= 1*banana + 2*apple + cherry\n",
        "print(a+b+c)"
      ],
      "metadata": {
        "colab": {
          "base_uri": "https://localhost:8080/"
        },
        "id": "QnrVnTasakq-",
        "outputId": "0ac55884-2a05-4853-8ae0-00d217095838"
      },
      "execution_count": 26,
      "outputs": [
        {
          "output_type": "stream",
          "name": "stdout",
          "text": [
            "25000\n"
          ]
        }
      ]
    },
    {
      "cell_type": "code",
      "source": [
        "### 2. 객단가(고객 1명당 평균 매출)를 구해보세요.\n",
        "total = a + b+ c\n",
        "total / 3"
      ],
      "metadata": {
        "colab": {
          "base_uri": "https://localhost:8080/"
        },
        "id": "N-vCba5OZm1z",
        "outputId": "28ee5bc1-5887-4524-8081-0e1f587c05bb"
      },
      "execution_count": 28,
      "outputs": [
        {
          "output_type": "execute_result",
          "data": {
            "text/plain": [
              "8333.333333333334"
            ]
          },
          "metadata": {},
          "execution_count": 28
        }
      ]
    },
    {
      "cell_type": "code",
      "source": [
        "### 3. 자연수 21이 홀수인지 짝수인지 판별하는 코드를 작성해보세요.\n",
        "a = 21\n",
        "a % 2 == 1 # a를 나머지를 판별하는 기호는 % 이고 나머지가 1이 되면 홀수 # True라고 나오면 홀수임"
      ],
      "metadata": {
        "colab": {
          "base_uri": "https://localhost:8080/"
        },
        "id": "cJL6V_V9aFwo",
        "outputId": "3598debb-919a-4d33-d361-347eb35d664c"
      },
      "execution_count": 29,
      "outputs": [
        {
          "output_type": "execute_result",
          "data": {
            "text/plain": [
              "True"
            ]
          },
          "metadata": {},
          "execution_count": 29
        }
      ]
    },
    {
      "cell_type": "code",
      "source": [
        "## 4. 아래 코드에서 최종적으로 a에 들어간 값을 유추해보세요.\n",
        "a = b = 10\n",
        "a += 1 # 11\n",
        "a *= 2 # 22\n",
        "\n",
        "#내가 내린 a의 최종 값은 22"
      ],
      "metadata": {
        "id": "-dXN0-S9acaJ"
      },
      "execution_count": 30,
      "outputs": []
    },
    {
      "cell_type": "code",
      "source": [
        "a # 맞춤"
      ],
      "metadata": {
        "colab": {
          "base_uri": "https://localhost:8080/"
        },
        "id": "SxY8DEepdAxh",
        "outputId": "8a64b4b3-c90b-4e60-f5cf-b945c5eece19"
      },
      "execution_count": 31,
      "outputs": [
        {
          "output_type": "execute_result",
          "data": {
            "text/plain": [
              "22"
            ]
          },
          "metadata": {},
          "execution_count": 31
        }
      ]
    },
    {
      "cell_type": "code",
      "source": [],
      "metadata": {
        "id": "1reSM2IodQd8"
      },
      "execution_count": null,
      "outputs": []
    }
  ]
}