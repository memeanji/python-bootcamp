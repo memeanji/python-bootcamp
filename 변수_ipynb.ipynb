{
  "nbformat": 4,
  "nbformat_minor": 0,
  "metadata": {
    "colab": {
      "provenance": [],
      "authorship_tag": "ABX9TyODvL3VrOrU/MIKxBVnzop5",
      "include_colab_link": true
    },
    "kernelspec": {
      "name": "python3",
      "display_name": "Python 3"
    },
    "language_info": {
      "name": "python"
    }
  },
  "cells": [
    {
      "cell_type": "markdown",
      "metadata": {
        "id": "view-in-github",
        "colab_type": "text"
      },
      "source": [
        "<a href=\"https://colab.research.google.com/github/memeanji/python-bootcamp/blob/main/%EB%B3%80%EC%88%98_ipynb.ipynb\" target=\"_parent\"><img src=\"https://colab.research.google.com/assets/colab-badge.svg\" alt=\"Open In Colab\"/></a>"
      ]
    },
    {
      "cell_type": "markdown",
      "source": [
        "# **변수**\n",
        "\n",
        "\n",
        "---\n",
        "\n"
      ],
      "metadata": {
        "id": "B8W-WeVBPau8"
      }
    },
    {
      "cell_type": "markdown",
      "source": [
        "## **[1] 변수란?**\n",
        "- 데이터를 저장하고 추후에 사용할 수 있게 해주는 저장 공간\n",
        "- 이름과 값으로 구성\n",
        "- 이름은 변수를 참조할 때 사용되고 값은 실제 데이터를 의미\n"
      ],
      "metadata": {
        "id": "McMtHG8cP64b"
      }
    },
    {
      "cell_type": "markdown",
      "source": [
        "## **[1] 변수란?**\n",
        "- 데이터를 저장하고 추후에 사용할 수 있게 해주는 저장 공간\n",
        "- 이름과 값으로 구성\n",
        "- 이름은 변수를 참조할 때 사용되고 값은 실제 데이터를 의미\n"
      ],
      "metadata": {
        "id": "U5MuY747P-yF"
      }
    },
    {
      "cell_type": "code",
      "source": [
        "a = 100\n",
        "b = 10\n",
        "print(a+b)\n",
        "print(a-b)\n",
        "print(a*b)\n",
        "print(a/b)"
      ],
      "metadata": {
        "colab": {
          "base_uri": "https://localhost:8080/"
        },
        "id": "ctuq0eLhP1Ok",
        "outputId": "24d698fa-cd5e-4a6b-ae51-4e28a77ed8d2"
      },
      "execution_count": null,
      "outputs": [
        {
          "output_type": "stream",
          "name": "stdout",
          "text": [
            "110\n",
            "90\n",
            "1000\n",
            "10.0\n"
          ]
        }
      ]
    },
    {
      "cell_type": "code",
      "source": [
        "a == b #a와 b는 같냐는 질문임"
      ],
      "metadata": {
        "colab": {
          "base_uri": "https://localhost:8080/"
        },
        "id": "iCsdct_dQBaa",
        "outputId": "69dff5b1-1058-4a03-e048-a9cdafb53fb3"
      },
      "execution_count": null,
      "outputs": [
        {
          "output_type": "execute_result",
          "data": {
            "text/plain": [
              "False"
            ]
          },
          "metadata": {},
          "execution_count": 7
        }
      ]
    },
    {
      "cell_type": "code",
      "source": [
        "a"
      ],
      "metadata": {
        "colab": {
          "base_uri": "https://localhost:8080/"
        },
        "id": "ZtBAfwaoQCly",
        "outputId": "62811370-7b51-4b89-8b7a-daebaf6a87d2"
      },
      "execution_count": null,
      "outputs": [
        {
          "output_type": "execute_result",
          "data": {
            "text/plain": [
              "100"
            ]
          },
          "metadata": {},
          "execution_count": 8
        }
      ]
    },
    {
      "cell_type": "code",
      "source": [
        "b"
      ],
      "metadata": {
        "colab": {
          "base_uri": "https://localhost:8080/"
        },
        "id": "LF3wOcsPQSyM",
        "outputId": "7bdfc76e-a2f2-496f-aa9b-48dbaf2f51c6"
      },
      "execution_count": null,
      "outputs": [
        {
          "output_type": "execute_result",
          "data": {
            "text/plain": [
              "10"
            ]
          },
          "metadata": {},
          "execution_count": 9
        }
      ]
    },
    {
      "cell_type": "markdown",
      "source": [
        "### 변수는 변한다.\n",
        "- 변수는 공간입니다.\n",
        "- 그 공간에 새로운 값을 할당하면 새로운 값으로 변경됩니다."
      ],
      "metadata": {
        "id": "-RZN9uVOQVQF"
      }
    },
    {
      "cell_type": "code",
      "source": [
        "print(a)\n",
        "print(b)"
      ],
      "metadata": {
        "colab": {
          "base_uri": "https://localhost:8080/"
        },
        "id": "UHmN9FsaQTCw",
        "outputId": "83a18f01-07e4-489d-a9c1-ff41d9c26084"
      },
      "execution_count": null,
      "outputs": [
        {
          "output_type": "stream",
          "name": "stdout",
          "text": [
            "100\n",
            "10\n"
          ]
        }
      ]
    },
    {
      "cell_type": "code",
      "source": [
        "a = 10\n",
        "b = 100"
      ],
      "metadata": {
        "id": "gKTnR-w5QYA4"
      },
      "execution_count": null,
      "outputs": []
    },
    {
      "cell_type": "code",
      "source": [
        "print(a)"
      ],
      "metadata": {
        "colab": {
          "base_uri": "https://localhost:8080/"
        },
        "id": "qlzcdAkbQbpp",
        "outputId": "b30023a9-5dab-4370-c7c5-2c1060915388"
      },
      "execution_count": null,
      "outputs": [
        {
          "output_type": "stream",
          "name": "stdout",
          "text": [
            "10\n"
          ]
        }
      ]
    },
    {
      "cell_type": "code",
      "source": [
        "print(b)"
      ],
      "metadata": {
        "colab": {
          "base_uri": "https://localhost:8080/"
        },
        "id": "lPlIcBTuQdx5",
        "outputId": "b9404678-b088-4a9e-81c5-72aca4433baa"
      },
      "execution_count": null,
      "outputs": [
        {
          "output_type": "stream",
          "name": "stdout",
          "text": [
            "100\n"
          ]
        }
      ]
    },
    {
      "cell_type": "markdown",
      "source": [
        "- 변수를 만드는 추가적인 방법\n",
        " - `a, b = a에 저장할 값, b에 저장할 값`\n",
        "   - 한 줄에 여러 개의 변수를 만들 수 있습니다.\n",
        " - `a = b = 저장할 값`\n",
        "   - a와 b에 같은 값이 저장됩니다."
      ],
      "metadata": {
        "id": "KqyJFSAEQgIS"
      }
    },
    {
      "cell_type": "code",
      "source": [
        "a,b = 1000,2000 #한 줄로 여러개의 변수를 저장할 수 있음\n",
        "print(a)"
      ],
      "metadata": {
        "colab": {
          "base_uri": "https://localhost:8080/"
        },
        "id": "uyIAOiefQfR1",
        "outputId": "efadfeba-d5a1-441f-c6c5-5bff7db40b8a"
      },
      "execution_count": null,
      "outputs": [
        {
          "output_type": "stream",
          "name": "stdout",
          "text": [
            "1000\n"
          ]
        }
      ]
    },
    {
      "cell_type": "code",
      "source": [
        "print(b)"
      ],
      "metadata": {
        "colab": {
          "base_uri": "https://localhost:8080/"
        },
        "id": "yMqtWI0HQlA7",
        "outputId": "b72b9a6e-dfe6-481d-9640-07d030dcecaa"
      },
      "execution_count": null,
      "outputs": [
        {
          "output_type": "stream",
          "name": "stdout",
          "text": [
            "2000\n"
          ]
        }
      ]
    },
    {
      "cell_type": "code",
      "source": [
        "a = b = 500"
      ],
      "metadata": {
        "id": "dvJLVNpOQl5v"
      },
      "execution_count": null,
      "outputs": []
    },
    {
      "cell_type": "code",
      "source": [
        "print(a)"
      ],
      "metadata": {
        "colab": {
          "base_uri": "https://localhost:8080/"
        },
        "id": "d61J8VJEQtYZ",
        "outputId": "90873e1b-308a-425e-9c8a-84b7c7b7a6ac"
      },
      "execution_count": null,
      "outputs": [
        {
          "output_type": "stream",
          "name": "stdout",
          "text": [
            "500\n"
          ]
        }
      ]
    },
    {
      "cell_type": "code",
      "source": [
        "print(b)"
      ],
      "metadata": {
        "colab": {
          "base_uri": "https://localhost:8080/"
        },
        "id": "2n-KBF4kQuch",
        "outputId": "9cf3d592-ccab-40be-f8af-612cf2c6e05c"
      },
      "execution_count": null,
      "outputs": [
        {
          "output_type": "stream",
          "name": "stdout",
          "text": [
            "500\n"
          ]
        }
      ]
    },
    {
      "cell_type": "markdown",
      "source": [
        "## **[2] 변수 이름 규칙**\n",
        "- **영문자 + 숫자(혹은 언더바 `_`)**의 형식을 사용합니다.\n",
        " - ex) `a, a1, data1, data_12`\n",
        "- 주의할 점\n",
        " - 숫자가 맨 앞에 오면 안됩니다.\n",
        " - 언더바 외 특수문자가 들어가면 안됩니다.\n",
        " - 공백이 들어가면 안됩니다.\n",
        " - 소문자와 대문자는 구분되어 사용됩니다."
      ],
      "metadata": {
        "id": "r2YGL6QIQwip"
      }
    },
    {
      "cell_type": "code",
      "source": [
        "1a = 100 #숫자가 맨앞에 오면 안된다는 문법오류가 남"
      ],
      "metadata": {
        "colab": {
          "base_uri": "https://localhost:8080/",
          "height": 106
        },
        "id": "IvlTpAPUQvVY",
        "outputId": "01d00b48-9a4e-4c93-947c-1a87bd4f7c28"
      },
      "execution_count": null,
      "outputs": [
        {
          "output_type": "error",
          "ename": "SyntaxError",
          "evalue": "invalid decimal literal (<ipython-input-21-db21238de55a>, line 1)",
          "traceback": [
            "\u001b[0;36m  File \u001b[0;32m\"<ipython-input-21-db21238de55a>\"\u001b[0;36m, line \u001b[0;32m1\u001b[0m\n\u001b[0;31m    1a = 100\u001b[0m\n\u001b[0m    ^\u001b[0m\n\u001b[0;31mSyntaxError\u001b[0m\u001b[0;31m:\u001b[0m invalid decimal literal\n"
          ]
        }
      ]
    },
    {
      "cell_type": "code",
      "source": [
        "a@1 = 100 #특수문자가 들어가면 안된다는 문법오류가 남"
      ],
      "metadata": {
        "colab": {
          "base_uri": "https://localhost:8080/",
          "height": 106
        },
        "id": "dh3b_VEfQ0Ul",
        "outputId": "06e7dedc-e30c-4c1a-ce23-90c37480e60c"
      },
      "execution_count": null,
      "outputs": [
        {
          "output_type": "error",
          "ename": "SyntaxError",
          "evalue": "cannot assign to expression here. Maybe you meant '==' instead of '='? (<ipython-input-22-5218ab2bbf89>, line 1)",
          "traceback": [
            "\u001b[0;36m  File \u001b[0;32m\"<ipython-input-22-5218ab2bbf89>\"\u001b[0;36m, line \u001b[0;32m1\u001b[0m\n\u001b[0;31m    a@1 = 100\u001b[0m\n\u001b[0m    ^\u001b[0m\n\u001b[0;31mSyntaxError\u001b[0m\u001b[0;31m:\u001b[0m cannot assign to expression here. Maybe you meant '==' instead of '='?\n"
          ]
        }
      ]
    },
    {
      "cell_type": "code",
      "source": [
        " a 1 = 100 #공백이 들어가면 안된다는 문법오류가 남"
      ],
      "metadata": {
        "colab": {
          "base_uri": "https://localhost:8080/",
          "height": 106
        },
        "id": "xfpzwVSIQ5nC",
        "outputId": "65c51a70-3cca-4a66-81bf-14c34fdd4109"
      },
      "execution_count": null,
      "outputs": [
        {
          "output_type": "error",
          "ename": "SyntaxError",
          "evalue": "invalid syntax (<ipython-input-23-ce494ca5ae68>, line 1)",
          "traceback": [
            "\u001b[0;36m  File \u001b[0;32m\"<ipython-input-23-ce494ca5ae68>\"\u001b[0;36m, line \u001b[0;32m1\u001b[0m\n\u001b[0;31m    a 1 + 100\u001b[0m\n\u001b[0m      ^\u001b[0m\n\u001b[0;31mSyntaxError\u001b[0m\u001b[0;31m:\u001b[0m invalid syntax\n"
          ]
        }
      ]
    },
    {
      "cell_type": "code",
      "source": [
        "a = 100"
      ],
      "metadata": {
        "id": "13mar_zJQ9nt"
      },
      "execution_count": null,
      "outputs": []
    },
    {
      "cell_type": "code",
      "source": [
        "A = 150"
      ],
      "metadata": {
        "id": "mGopylkjRGXf"
      },
      "execution_count": null,
      "outputs": []
    },
    {
      "cell_type": "code",
      "source": [
        "print(a)"
      ],
      "metadata": {
        "colab": {
          "base_uri": "https://localhost:8080/"
        },
        "id": "VaxlPAtQRHUj",
        "outputId": "53357238-c389-4c95-f81c-41f85f6313dd"
      },
      "execution_count": null,
      "outputs": [
        {
          "output_type": "stream",
          "name": "stdout",
          "text": [
            "100\n"
          ]
        }
      ]
    },
    {
      "cell_type": "code",
      "source": [
        "print(A)"
      ],
      "metadata": {
        "colab": {
          "base_uri": "https://localhost:8080/"
        },
        "id": "xYzFqEBURJJN",
        "outputId": "c7e2b2c9-0392-4350-8b85-013ed43e319d"
      },
      "execution_count": null,
      "outputs": [
        {
          "output_type": "stream",
          "name": "stdout",
          "text": [
            "150\n"
          ]
        }
      ]
    },
    {
      "cell_type": "code",
      "source": [
        "a_1 = 50"
      ],
      "metadata": {
        "id": "oXetZxH-RKBC"
      },
      "execution_count": null,
      "outputs": []
    },
    {
      "cell_type": "code",
      "source": [
        "print(a_1)"
      ],
      "metadata": {
        "colab": {
          "base_uri": "https://localhost:8080/"
        },
        "id": "iYaJYP7HRL8t",
        "outputId": "6c185411-98cc-4fb6-cc89-fc3bd17e9e7a"
      },
      "execution_count": null,
      "outputs": [
        {
          "output_type": "stream",
          "name": "stdout",
          "text": [
            "50\n"
          ]
        }
      ]
    },
    {
      "cell_type": "markdown",
      "source": [
        "## **[3] 변수의 종류**\n",
        "- 변수의 종류를 자료형이라고 부릅니다.\n",
        "- 많이 사용 하는 자료형들의 종류\n",
        " - 숫자형\n",
        " - 문자형\n",
        " - 리스트(list)\n",
        " - 튜플(tuple)\n",
        " - 딕셔너리(dict)\n",
        " - 집합(set)"
      ],
      "metadata": {
        "id": "nDRDFGgwRQXP"
      }
    },
    {
      "cell_type": "code",
      "source": [
        "#숫자형\n",
        "a = 1\n",
        "b = 0.1\n",
        "\n",
        "#문자형\n",
        "c = \"Hello, World\"\n",
        "\n",
        "#리스트(list)\n",
        "d = [1,2,\"Hello, World\", b]\n",
        "\n",
        "#튜플(tuple)\n",
        "e = (1,2,3,'a')\n",
        "\n",
        "#딕셔너리(dict)\n",
        "f = {'a':1, 'b':2}\n",
        "\n",
        "#집합(set)\n",
        "g = {1,2,3,3}"
      ],
      "metadata": {
        "id": "7tMnPS8RRM6C"
      },
      "execution_count": null,
      "outputs": []
    },
    {
      "cell_type": "code",
      "source": [
        "for i in [a,b,c,d,e,f,g]:\n",
        "    print(i)\n",
        "    print(type(i))\n",
        "    print()"
      ],
      "metadata": {
        "colab": {
          "base_uri": "https://localhost:8080/"
        },
        "id": "L-MS3UZgRUc2",
        "outputId": "eea544e6-a7dc-4310-f67c-ced97c2b9a7e"
      },
      "execution_count": null,
      "outputs": [
        {
          "output_type": "stream",
          "name": "stdout",
          "text": [
            "1\n",
            "<class 'int'>\n",
            "\n",
            "0.1\n",
            "<class 'float'>\n",
            "\n",
            "Hello, World\n",
            "<class 'str'>\n",
            "\n",
            "[1, 2, 'Hello, World', 0.1]\n",
            "<class 'list'>\n",
            "\n",
            "(1, 2, 3, 'a')\n",
            "<class 'tuple'>\n",
            "\n",
            "{'a': 1, 'b': 2}\n",
            "<class 'dict'>\n",
            "\n",
            "{1, 2, 3}\n",
            "<class 'set'>\n",
            "\n"
          ]
        }
      ]
    },
    {
      "cell_type": "markdown",
      "source": [
        "## **[4] print 함수**\n",
        "- 결과물을 출력하는 함수\n",
        "- print(변수 or 출력하고 싶은 결과물)"
      ],
      "metadata": {
        "id": "yA1zoOK5RZR9"
      }
    },
    {
      "cell_type": "code",
      "source": [
        "print(\"Hello, World\")\n",
        "print(100/1000)\n",
        "\n",
        "a = 'ABCDEFG'\n",
        "print(a)"
      ],
      "metadata": {
        "colab": {
          "base_uri": "https://localhost:8080/"
        },
        "id": "srbUgry-RV1o",
        "outputId": "996c67a8-c4a3-477f-bc7f-9d3e8828b4cd"
      },
      "execution_count": null,
      "outputs": [
        {
          "output_type": "stream",
          "name": "stdout",
          "text": [
            "Hello, World\n",
            "0.1\n",
            "ABCDEFG\n"
          ]
        }
      ]
    },
    {
      "cell_type": "code",
      "source": [
        "print(\"Hello, World\", 100/1000, a) #sep 옵션이 없으면 디폴트로 공백(\" \")\n",
        "print(\"Hello, World\", 100/1000, a, sep=' | ')\n",
        "print(\"Hello, World\", 100/1000, a, sep='\\n') #\\n은 줄바꿈을 의미"
      ],
      "metadata": {
        "colab": {
          "base_uri": "https://localhost:8080/"
        },
        "id": "pFjmQOndRb2u",
        "outputId": "8abbda1b-2307-45b2-dc87-611c45790b19"
      },
      "execution_count": null,
      "outputs": [
        {
          "output_type": "stream",
          "name": "stdout",
          "text": [
            "Hello, World 0.1 ABCDEFG\n",
            "Hello, World | 0.1 | ABCDEFG\n",
            "Hello, World\n",
            "0.1\n",
            "ABCDEFG\n"
          ]
        }
      ]
    },
    {
      "cell_type": "code",
      "source": [
        "#여러 번 호출을 한 줄에 출력\n",
        "print(\"Hello, World\", end=', ')\n",
        "print(100/1000, end=', ')\n",
        "\n",
        "a = 'ABCDEFG'\n",
        "print(a)"
      ],
      "metadata": {
        "colab": {
          "base_uri": "https://localhost:8080/"
        },
        "id": "SqSyHltXResn",
        "outputId": "8595b377-43df-418f-b36d-9d54a630a1f1"
      },
      "execution_count": null,
      "outputs": [
        {
          "output_type": "stream",
          "name": "stdout",
          "text": [
            "Hello, World, 0.1, ABCDEFG\n"
          ]
        }
      ]
    },
    {
      "cell_type": "code",
      "source": [],
      "metadata": {
        "id": "JFxf_x_xRgLS"
      },
      "execution_count": null,
      "outputs": []
    },
    {
      "cell_type": "markdown",
      "source": [],
      "metadata": {
        "id": "JXACuODqRi0P"
      }
    }
  ]
}