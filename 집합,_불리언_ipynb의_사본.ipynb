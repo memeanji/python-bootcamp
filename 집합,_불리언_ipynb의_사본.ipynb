{
  "nbformat": 4,
  "nbformat_minor": 0,
  "metadata": {
    "colab": {
      "provenance": [],
      "include_colab_link": true
    },
    "kernelspec": {
      "name": "python3",
      "display_name": "Python 3"
    },
    "language_info": {
      "name": "python"
    }
  },
  "cells": [
    {
      "cell_type": "markdown",
      "metadata": {
        "id": "view-in-github",
        "colab_type": "text"
      },
      "source": [
        "<a href=\"https://colab.research.google.com/github/memeanji/python-bootcamp/blob/main/%E1%84%8C%E1%85%B5%E1%86%B8%E1%84%92%E1%85%A1%E1%86%B8%2C_%E1%84%87%E1%85%AE%E1%86%AF%E1%84%85%E1%85%B5%E1%84%8B%E1%85%A5%E1%86%AB_ipynb%EC%9D%98_%EC%82%AC%EB%B3%B8.ipynb\" target=\"_parent\"><img src=\"https://colab.research.google.com/assets/colab-badge.svg\" alt=\"Open In Colab\"/></a>"
      ]
    },
    {
      "cell_type": "markdown",
      "source": [
        "# **집합**\n",
        "\n",
        "\n",
        "---\n"
      ],
      "metadata": {
        "id": "bStAQ5lrHlKM"
      }
    },
    {
      "cell_type": "markdown",
      "source": [
        "## **[1] 집합이란?**\n",
        "- 순서가 없고 중복이 없는 자료형입니다.\n",
        "- 요소들을 중괄호(`{}`)로 감싸면 됩니다."
      ],
      "metadata": {
        "id": "R24mReAVHoo_"
      }
    },
    {
      "cell_type": "code",
      "execution_count": 1,
      "metadata": {
        "id": "honey-seventh",
        "colab": {
          "base_uri": "https://localhost:8080/"
        },
        "outputId": "b2af914d-58d4-4acd-912d-ca747f9d1a4a"
      },
      "outputs": [
        {
          "output_type": "stream",
          "name": "stdout",
          "text": [
            "{1, 2, 'a'} <class 'set'>\n",
            "{'l', 'H', 'o', 'e'} <class 'set'>\n",
            "{1, 2, 3, 4, 5} <class 'set'>\n",
            "{1, 2, 3} <class 'set'>\n"
          ]
        }
      ],
      "source": [
        "s1 = set([1,2,'a'])\n",
        "s2 = set(\"Hello\")\n",
        "s3 = set([1,2,2,3,4,5,5,3])\n",
        "s4 = set((1,2,2,3))\n",
        "\n",
        "print(s1, type(s1))\n",
        "print(s2, type(s2))\n",
        "print(s3, type(s3))\n",
        "print(s4, type(s4))"
      ]
    },
    {
      "cell_type": "markdown",
      "source": [
        "- 순서가 없기 때문에 인덱싱이 되지 않습니다.\n",
        " - 인덱싱을 하고 싶으면 리스트나 튜플로 변환 후 인덱싱을 합니다."
      ],
      "metadata": {
        "id": "2ZkGzWWiIoQE"
      }
    },
    {
      "cell_type": "code",
      "execution_count": 3,
      "metadata": {
        "id": "funded-processor",
        "colab": {
          "base_uri": "https://localhost:8080/",
          "height": 141
        },
        "outputId": "52899c19-84b8-433c-eb64-b3dc077e7f2b"
      },
      "outputs": [
        {
          "output_type": "error",
          "ename": "TypeError",
          "evalue": "'set' object is not subscriptable",
          "traceback": [
            "\u001b[0;31m---------------------------------------------------------------------------\u001b[0m",
            "\u001b[0;31mTypeError\u001b[0m                                 Traceback (most recent call last)",
            "\u001b[0;32m<ipython-input-3-8400f0d4e42f>\u001b[0m in \u001b[0;36m<cell line: 0>\u001b[0;34m()\u001b[0m\n\u001b[0;32m----> 1\u001b[0;31m \u001b[0ms1\u001b[0m\u001b[0;34m[\u001b[0m\u001b[0;36m0\u001b[0m\u001b[0;34m]\u001b[0m \u001b[0;31m# 인덱싱하고 싶으면 리스트나 튜플로 변환 후 하기\u001b[0m\u001b[0;34m\u001b[0m\u001b[0;34m\u001b[0m\u001b[0m\n\u001b[0m",
            "\u001b[0;31mTypeError\u001b[0m: 'set' object is not subscriptable"
          ]
        }
      ],
      "source": [
        "s1[0] # 인덱싱하고 싶으면 리스트나 튜플로 변환 후 하기"
      ]
    },
    {
      "cell_type": "code",
      "source": [
        "list(s1)[0]"
      ],
      "metadata": {
        "id": "hjaLnLY5I5c7",
        "colab": {
          "base_uri": "https://localhost:8080/"
        },
        "outputId": "de4af6cf-6aa0-4aa4-af57-2fedba273a68"
      },
      "execution_count": 4,
      "outputs": [
        {
          "output_type": "execute_result",
          "data": {
            "text/plain": [
              "1"
            ]
          },
          "metadata": {},
          "execution_count": 4
        }
      ]
    },
    {
      "cell_type": "markdown",
      "source": [
        "## **[2] 집합 함수**\n",
        "- `intersection` or `&`: 교집합\n",
        "- `difference` or `-` : 차집합\n",
        "- `union` or `|` : 합집합\n",
        "\n",
        "![집합](https://img1.daumcdn.net/thumb/R1280x0/?scode=mtistory2&fname=https%3A%2F%2Fblog.kakaocdn.net%2Fdn%2Fb1y9C8%2Fbtq5f3klSVM%2FSaSKy85SeOoiRVbLocFUq0%2Fimg.png)\n"
      ],
      "metadata": {
        "id": "eERzECzSJzvL"
      }
    },
    {
      "cell_type": "code",
      "execution_count": 5,
      "metadata": {
        "id": "successful-danger",
        "colab": {
          "base_uri": "https://localhost:8080/"
        },
        "outputId": "f970fc57-abc8-477c-84a5-04e3dbb790d8"
      },
      "outputs": [
        {
          "output_type": "stream",
          "name": "stdout",
          "text": [
            "{5, 6, 7, 8, 9, 10}\n",
            "{5, 6, 7, 8, 9, 10}\n",
            "{1, 2, 3, 4}\n",
            "{1, 2, 3, 4}\n",
            "{1, 2, 3, 4, 5, 6, 7, 8, 9, 10, 11, 12}\n",
            "{1, 2, 3, 4, 5, 6, 7, 8, 9, 10, 11, 12}\n"
          ]
        }
      ],
      "source": [
        "s1 = set([1,2,3,4,5,6,7,8,9,10])\n",
        "s2 = set([5,6,7,8,9,10,11,12])\n",
        "print(s1&s2) # & : intersection , 교집합\n",
        "print(s1.intersection(s2))\n",
        "\n",
        "print(s1-s2) # difference, 차집합\n",
        "print(s1.difference(s2))\n",
        "\n",
        "print(s1|s2) # | ,union 합집합\n",
        "print(s1.union(s2))"
      ]
    },
    {
      "cell_type": "markdown",
      "source": [
        "- `add`: 요소를 추가\n",
        "- `remove`: 요소를 제거"
      ],
      "metadata": {
        "id": "LQPKIHwCNI8L"
      }
    },
    {
      "cell_type": "code",
      "execution_count": 6,
      "metadata": {
        "id": "martial-clock",
        "colab": {
          "base_uri": "https://localhost:8080/"
        },
        "outputId": "f3d61d98-53d6-4f3f-ff67-2fa4e6347fdc"
      },
      "outputs": [
        {
          "output_type": "execute_result",
          "data": {
            "text/plain": [
              "{1, 2, 3, 4, 5, 6, 7, 8, 9, 10, 11}"
            ]
          },
          "metadata": {},
          "execution_count": 6
        }
      ],
      "source": [
        "s1.add(11)\n",
        "s1"
      ]
    },
    {
      "cell_type": "code",
      "execution_count": 7,
      "metadata": {
        "id": "indie-replica",
        "colab": {
          "base_uri": "https://localhost:8080/"
        },
        "outputId": "c778dfe2-ef04-457e-8ede-6885dcc619cb"
      },
      "outputs": [
        {
          "output_type": "execute_result",
          "data": {
            "text/plain": [
              "{1, 2, 4, 5, 6, 7, 8, 9, 10, 11}"
            ]
          },
          "metadata": {},
          "execution_count": 7
        }
      ],
      "source": [
        "s1.remove(3) # 124567891011\n",
        "s1"
      ]
    },
    {
      "cell_type": "markdown",
      "source": [
        "# 불리언\n",
        "\n",
        "\n",
        "---"
      ],
      "metadata": {
        "id": "G8uEL_64NgfP"
      }
    },
    {
      "cell_type": "markdown",
      "source": [
        "## **[1] 불리언이란?**\n",
        "- 참 또는 거짓을 나타내는 자료형\n",
        "- `True, False`로 나타내야 한다. (첫 문자가 항상 대문자)"
      ],
      "metadata": {
        "id": "LOPn4LuNNkmy"
      }
    },
    {
      "cell_type": "code",
      "execution_count": 8,
      "metadata": {
        "id": "ceramic-breath",
        "colab": {
          "base_uri": "https://localhost:8080/"
        },
        "outputId": "6bf77207-890f-4419-e2f9-192e4e694042"
      },
      "outputs": [
        {
          "output_type": "stream",
          "name": "stdout",
          "text": [
            "True\n",
            "False\n",
            "False\n",
            "True\n",
            "True\n"
          ]
        }
      ],
      "source": [
        "print(2>1)\n",
        "print(3<=1)\n",
        "print('1'==1)\n",
        "print('1'!=1)\n",
        "print(int('1')==1)"
      ]
    },
    {
      "cell_type": "code",
      "execution_count": 9,
      "metadata": {
        "id": "short-tobago"
      },
      "outputs": [],
      "source": [
        "a = 3\n",
        "b = 1"
      ]
    },
    {
      "cell_type": "code",
      "execution_count": 10,
      "metadata": {
        "id": "minor-threshold",
        "colab": {
          "base_uri": "https://localhost:8080/"
        },
        "outputId": "e2c646c4-10b7-41c0-db6a-b20d958c2b77"
      },
      "outputs": [
        {
          "output_type": "stream",
          "name": "stdout",
          "text": [
            "False\n",
            "False\n",
            "False\n",
            "True\n",
            "True\n",
            "True\n"
          ]
        }
      ],
      "source": [
        "print((a == b) and (a >= b)) # a랑 b가 같고 a가 b보다 크거나 같아야 True ,즉 ,둘다 맞아야 True\n",
        "print((a >= b) and (a <= b))\n",
        "print((a <= b) and (a != b))\n",
        "print((a == b) or (a >= b)) # 둘중 하나만 맞아도 True\n",
        "print((a >= b) or (a <= b))\n",
        "print((a <= b) or (a != b))"
      ]
    },
    {
      "cell_type": "code",
      "execution_count": 11,
      "metadata": {
        "id": "younger-newcastle",
        "colab": {
          "base_uri": "https://localhost:8080/"
        },
        "outputId": "d0d8fa3e-1c92-4f6f-ac4f-6f6098bc9817"
      },
      "outputs": [
        {
          "output_type": "stream",
          "name": "stdout",
          "text": [
            "True\n",
            "False\n",
            "False\n",
            "True\n"
          ]
        }
      ],
      "source": [
        "a = [1,2,3]\n",
        "print(1 in a) # 리스트 a에 1이 들어가 있으니까 True\n",
        "print(4 in a) # 들어있지 않으니까 F\n",
        "print(1 not in a)\n",
        "print(4 not in a)"
      ]
    },
    {
      "cell_type": "markdown",
      "source": [
        "# **파이썬의 변수 심화 - copy()**\n",
        "\n",
        "\n",
        "---\n"
      ],
      "metadata": {
        "id": "5AcEJ2sDQBVX"
      }
    },
    {
      "cell_type": "code",
      "execution_count": 12,
      "metadata": {
        "id": "statewide-battlefield",
        "colab": {
          "base_uri": "https://localhost:8080/"
        },
        "outputId": "0ca35fdd-e5e2-4bf6-de14-7b1fce525052"
      },
      "outputs": [
        {
          "output_type": "stream",
          "name": "stdout",
          "text": [
            "[1, 2, 3]\n",
            "[1, 2, 3]\n",
            "True\n",
            "True\n"
          ]
        }
      ],
      "source": [
        "a = [1,2,3]\n",
        "b = a\n",
        "print(a)\n",
        "print(b)\n",
        "print(a==b)\n",
        "print(b is a)"
      ]
    },
    {
      "cell_type": "markdown",
      "source": [
        "- a의 특정 인덱스 값을 바꾼다면 b의 값은?"
      ],
      "metadata": {
        "id": "aoYA_BmoQdNv"
      }
    },
    {
      "cell_type": "code",
      "execution_count": 13,
      "metadata": {
        "id": "afraid-assist",
        "colab": {
          "base_uri": "https://localhost:8080/"
        },
        "outputId": "ab4e9d82-8128-40ba-8caf-ed0de1358f19"
      },
      "outputs": [
        {
          "output_type": "stream",
          "name": "stdout",
          "text": [
            "[1, 2, 4]\n",
            "[1, 2, 4]\n"
          ]
        }
      ],
      "source": [
        "a[2]=4 # 1,2,4\n",
        "print(a)\n",
        "print(b) #왜 둘다 바뀌냐면 a = b라고 헀으니까"
      ]
    },
    {
      "cell_type": "markdown",
      "source": [
        "- 바뀐다. 리스트 객체가 같기 때문"
      ],
      "metadata": {
        "id": "9brVfPCTQhj5"
      }
    },
    {
      "cell_type": "code",
      "execution_count": 14,
      "metadata": {
        "id": "finished-flexibility",
        "colab": {
          "base_uri": "https://localhost:8080/"
        },
        "outputId": "1f00bed2-ee97-4389-979b-910f47c0f51f"
      },
      "outputs": [
        {
          "output_type": "stream",
          "name": "stdout",
          "text": [
            "135180613654272\n",
            "135180613654272\n"
          ]
        }
      ],
      "source": [
        "print(id(a))\n",
        "print(id(b))"
      ]
    },
    {
      "cell_type": "markdown",
      "source": [
        "- b에 a의 값을 가져오면서 다른 주소를 가리키도록 할 수는 없을까?\n",
        " - `copy` 함수를 이용합니다."
      ],
      "metadata": {
        "id": "superb-handle"
      }
    },
    {
      "cell_type": "code",
      "execution_count": 15,
      "metadata": {
        "id": "american-surgery",
        "colab": {
          "base_uri": "https://localhost:8080/"
        },
        "outputId": "cbe2fd32-6217-4964-b8d6-644b3e2e17af"
      },
      "outputs": [
        {
          "output_type": "stream",
          "name": "stdout",
          "text": [
            "135180624054016\n",
            "135180622963968\n",
            "[1, 2, 3]\n",
            "[1, 2, 3]\n",
            "True\n"
          ]
        }
      ],
      "source": [
        "a = [1,2,3]\n",
        "b = a.copy()\n",
        "print(id(a))\n",
        "print(id(b))\n",
        "print(a)\n",
        "print(b)\n",
        "print(a == b)"
      ]
    },
    {
      "cell_type": "code",
      "execution_count": 16,
      "metadata": {
        "id": "egyptian-covering",
        "colab": {
          "base_uri": "https://localhost:8080/"
        },
        "outputId": "4baf4f3f-d714-46c7-e47d-bd7ff7ac9372"
      },
      "outputs": [
        {
          "output_type": "stream",
          "name": "stdout",
          "text": [
            "[1, 2, 4]\n",
            "[1, 2, 3]\n",
            "False\n"
          ]
        }
      ],
      "source": [
        "a[2]=4\n",
        "print(a)\n",
        "print(b)\n",
        "print(a==b)"
      ]
    },
    {
      "cell_type": "markdown",
      "source": [
        "# **연습문제**"
      ],
      "metadata": {
        "id": "recK2S1IRCRK"
      }
    },
    {
      "cell_type": "markdown",
      "source": [
        "## 1. 다음 리스트를 중복제거 후 알파벳 순서대로 정렬해보세요."
      ],
      "metadata": {
        "id": "d9YFm-C1RGCG"
      }
    },
    {
      "cell_type": "code",
      "source": [
        "list_ex = ['A','B','C','A','B','D','C','D','E','A','F','B']"
      ],
      "metadata": {
        "id": "AebLGUF-Q5zh"
      },
      "execution_count": 23,
      "outputs": []
    },
    {
      "cell_type": "code",
      "source": [
        "set(list_ex)"
      ],
      "metadata": {
        "id": "1zMqdeeZxXPr",
        "colab": {
          "base_uri": "https://localhost:8080/"
        },
        "outputId": "5306f057-df3a-47a0-f1d4-ba596c164421"
      },
      "execution_count": 24,
      "outputs": [
        {
          "output_type": "execute_result",
          "data": {
            "text/plain": [
              "{'A', 'B', 'C', 'D', 'E', 'F'}"
            ]
          },
          "metadata": {},
          "execution_count": 24
        }
      ]
    },
    {
      "cell_type": "code",
      "source": [
        "unique_list = list(set(list_ex))\n",
        "unique_list.sort()\n",
        "unique_list"
      ],
      "metadata": {
        "colab": {
          "base_uri": "https://localhost:8080/"
        },
        "id": "Lt5kJara6Hre",
        "outputId": "c65edb34-ae27-4d23-9aba-04c054aa182f"
      },
      "execution_count": 28,
      "outputs": [
        {
          "output_type": "execute_result",
          "data": {
            "text/plain": [
              "['A', 'B', 'C', 'D', 'E', 'F']"
            ]
          },
          "metadata": {},
          "execution_count": 28
        }
      ]
    },
    {
      "cell_type": "markdown",
      "source": [
        "## 2. 집합 A가 집합 B의 부분집합인지 확인해보세요."
      ],
      "metadata": {
        "id": "d2WeZiOaLKnf"
      }
    },
    {
      "cell_type": "code",
      "source": [
        "A = {2,3,4,5,10}\n",
        "B = {1,2,3,4,5,7,9,10}"
      ],
      "metadata": {
        "id": "GJ3kwRBkRm30"
      },
      "execution_count": 18,
      "outputs": []
    },
    {
      "cell_type": "code",
      "source": [
        "print(A<=B) # A가 B에 들어가니? True = 부분집합"
      ],
      "metadata": {
        "id": "xRMdDRW2xYMS",
        "colab": {
          "base_uri": "https://localhost:8080/"
        },
        "outputId": "6d1e6070-9726-43de-dafa-e68992a45aee"
      },
      "execution_count": 21,
      "outputs": [
        {
          "output_type": "stream",
          "name": "stdout",
          "text": [
            "True\n"
          ]
        }
      ]
    },
    {
      "cell_type": "code",
      "source": [
        "A-B # 차집합으로 공집합이 나오니 부분집합임"
      ],
      "metadata": {
        "colab": {
          "base_uri": "https://localhost:8080/"
        },
        "id": "q0Lyf6si5qsl",
        "outputId": "14d055ba-01fe-472f-ed04-feecd6807a31"
      },
      "execution_count": 29,
      "outputs": [
        {
          "output_type": "execute_result",
          "data": {
            "text/plain": [
              "set()"
            ]
          },
          "metadata": {},
          "execution_count": 29
        }
      ]
    },
    {
      "cell_type": "code",
      "source": [
        "A.issubset(B) #insubset이 아닌 issubset임 !!"
      ],
      "metadata": {
        "colab": {
          "base_uri": "https://localhost:8080/"
        },
        "id": "Eryql3f66fLQ",
        "outputId": "cbc8b1d4-6413-4eaf-fc88-ad94ea0f5e98"
      },
      "execution_count": 31,
      "outputs": [
        {
          "output_type": "execute_result",
          "data": {
            "text/plain": [
              "True"
            ]
          },
          "metadata": {},
          "execution_count": 31
        }
      ]
    },
    {
      "cell_type": "code",
      "source": [],
      "metadata": {
        "id": "NiF3jKjU6kn-"
      },
      "execution_count": null,
      "outputs": []
    }
  ]
}